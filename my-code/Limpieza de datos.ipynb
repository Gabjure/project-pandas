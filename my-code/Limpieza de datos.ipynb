{
 "cells": [
  {
   "cell_type": "markdown",
   "metadata": {},
   "source": [
    "# SHARK ATTACK:  a data cleaning and manipulation project."
   ]
  },
  {
   "cell_type": "markdown",
   "metadata": {},
   "source": [
    "## Import Libraries "
   ]
  },
  {
   "cell_type": "code",
   "execution_count": 182,
   "metadata": {
    "ExecuteTime": {
     "end_time": "2020-02-06T22:27:39.802627Z",
     "start_time": "2020-02-06T22:27:39.798143Z"
    },
    "code_folding": []
   },
   "outputs": [],
   "source": [
    "from IPython.core.interactiveshell import InteractiveShell\n",
    "InteractiveShell.ast_node_interactivity = \"all\"\n",
    "import pandas as pd\n",
    "import numpy as np\n",
    "import re"
   ]
  },
  {
   "cell_type": "markdown",
   "metadata": {},
   "source": [
    "## Data Reading"
   ]
  },
  {
   "cell_type": "code",
   "execution_count": 183,
   "metadata": {
    "ExecuteTime": {
     "end_time": "2020-02-06T22:27:40.812507Z",
     "start_time": "2020-02-06T22:27:40.630274Z"
    }
   },
   "outputs": [],
   "source": [
    "data = pd.read_csv(\"GSAF5.csv\", engine=\"python\", sep=',', quotechar='\"', error_bad_lines=False)"
   ]
  },
  {
   "cell_type": "markdown",
   "metadata": {},
   "source": [
    "We'll check out the first ROWs to familiarize ourselves with the table"
   ]
  },
  {
   "cell_type": "code",
   "execution_count": 184,
   "metadata": {
    "ExecuteTime": {
     "end_time": "2020-02-06T22:27:41.359422Z",
     "start_time": "2020-02-06T22:27:41.328153Z"
    },
    "scrolled": true
   },
   "outputs": [
    {
     "data": {
      "text/html": [
       "<div>\n",
       "<style scoped>\n",
       "    .dataframe tbody tr th:only-of-type {\n",
       "        vertical-align: middle;\n",
       "    }\n",
       "\n",
       "    .dataframe tbody tr th {\n",
       "        vertical-align: top;\n",
       "    }\n",
       "\n",
       "    .dataframe thead th {\n",
       "        text-align: right;\n",
       "    }\n",
       "</style>\n",
       "<table border=\"1\" class=\"dataframe\">\n",
       "  <thead>\n",
       "    <tr style=\"text-align: right;\">\n",
       "      <th></th>\n",
       "      <th>Case Number</th>\n",
       "      <th>Date</th>\n",
       "      <th>Year</th>\n",
       "      <th>Type</th>\n",
       "      <th>Country</th>\n",
       "      <th>Area</th>\n",
       "      <th>Location</th>\n",
       "      <th>Activity</th>\n",
       "      <th>Name</th>\n",
       "      <th>Sex</th>\n",
       "      <th>...</th>\n",
       "      <th>Species</th>\n",
       "      <th>Investigator or Source</th>\n",
       "      <th>pdf</th>\n",
       "      <th>href formula</th>\n",
       "      <th>href</th>\n",
       "      <th>Case Number.1</th>\n",
       "      <th>Case Number.2</th>\n",
       "      <th>original order</th>\n",
       "      <th>Unnamed: 22</th>\n",
       "      <th>Unnamed: 23</th>\n",
       "    </tr>\n",
       "  </thead>\n",
       "  <tbody>\n",
       "    <tr>\n",
       "      <th>0</th>\n",
       "      <td>2016.09.18.c</td>\n",
       "      <td>18-Sep-16</td>\n",
       "      <td>2016</td>\n",
       "      <td>Unprovoked</td>\n",
       "      <td>USA</td>\n",
       "      <td>Florida</td>\n",
       "      <td>New Smyrna Beach, Volusia County</td>\n",
       "      <td>Surfing</td>\n",
       "      <td>male</td>\n",
       "      <td>M</td>\n",
       "      <td>...</td>\n",
       "      <td>NaN</td>\n",
       "      <td>Orlando Sentinel, 9/19/2016</td>\n",
       "      <td>2016.09.18.c-NSB.pdf</td>\n",
       "      <td>http://sharkattackfile.net/spreadsheets/pdf_di...</td>\n",
       "      <td>http://sharkattackfile.net/spreadsheets/pdf_di...</td>\n",
       "      <td>2016.09.18.c</td>\n",
       "      <td>2016.09.18.c</td>\n",
       "      <td>5993</td>\n",
       "      <td>NaN</td>\n",
       "      <td>NaN</td>\n",
       "    </tr>\n",
       "    <tr>\n",
       "      <th>1</th>\n",
       "      <td>2016.09.18.b</td>\n",
       "      <td>18-Sep-16</td>\n",
       "      <td>2016</td>\n",
       "      <td>Unprovoked</td>\n",
       "      <td>USA</td>\n",
       "      <td>Florida</td>\n",
       "      <td>New Smyrna Beach, Volusia County</td>\n",
       "      <td>Surfing</td>\n",
       "      <td>Chucky Luciano</td>\n",
       "      <td>M</td>\n",
       "      <td>...</td>\n",
       "      <td>NaN</td>\n",
       "      <td>Orlando Sentinel, 9/19/2016</td>\n",
       "      <td>2016.09.18.b-Luciano.pdf</td>\n",
       "      <td>http://sharkattackfile.net/spreadsheets/pdf_di...</td>\n",
       "      <td>http://sharkattackfile.net/spreadsheets/pdf_di...</td>\n",
       "      <td>2016.09.18.b</td>\n",
       "      <td>2016.09.18.b</td>\n",
       "      <td>5992</td>\n",
       "      <td>NaN</td>\n",
       "      <td>NaN</td>\n",
       "    </tr>\n",
       "    <tr>\n",
       "      <th>2</th>\n",
       "      <td>2016.09.18.a</td>\n",
       "      <td>18-Sep-16</td>\n",
       "      <td>2016</td>\n",
       "      <td>Unprovoked</td>\n",
       "      <td>USA</td>\n",
       "      <td>Florida</td>\n",
       "      <td>New Smyrna Beach, Volusia County</td>\n",
       "      <td>Surfing</td>\n",
       "      <td>male</td>\n",
       "      <td>M</td>\n",
       "      <td>...</td>\n",
       "      <td>NaN</td>\n",
       "      <td>Orlando Sentinel, 9/19/2016</td>\n",
       "      <td>2016.09.18.a-NSB.pdf</td>\n",
       "      <td>http://sharkattackfile.net/spreadsheets/pdf_di...</td>\n",
       "      <td>http://sharkattackfile.net/spreadsheets/pdf_di...</td>\n",
       "      <td>2016.09.18.a</td>\n",
       "      <td>2016.09.18.a</td>\n",
       "      <td>5991</td>\n",
       "      <td>NaN</td>\n",
       "      <td>NaN</td>\n",
       "    </tr>\n",
       "    <tr>\n",
       "      <th>3</th>\n",
       "      <td>2016.09.17</td>\n",
       "      <td>17-Sep-16</td>\n",
       "      <td>2016</td>\n",
       "      <td>Unprovoked</td>\n",
       "      <td>AUSTRALIA</td>\n",
       "      <td>Victoria</td>\n",
       "      <td>Thirteenth Beach</td>\n",
       "      <td>Surfing</td>\n",
       "      <td>Rory Angiolella</td>\n",
       "      <td>M</td>\n",
       "      <td>...</td>\n",
       "      <td>NaN</td>\n",
       "      <td>The Age, 9/18/2016</td>\n",
       "      <td>2016.09.17-Angiolella.pdf</td>\n",
       "      <td>http://sharkattackfile.net/spreadsheets/pdf_di...</td>\n",
       "      <td>http://sharkattackfile.net/spreadsheets/pdf_di...</td>\n",
       "      <td>2016.09.17</td>\n",
       "      <td>2016.09.17</td>\n",
       "      <td>5990</td>\n",
       "      <td>NaN</td>\n",
       "      <td>NaN</td>\n",
       "    </tr>\n",
       "    <tr>\n",
       "      <th>4</th>\n",
       "      <td>2016.09.15</td>\n",
       "      <td>16-Sep-16</td>\n",
       "      <td>2016</td>\n",
       "      <td>Unprovoked</td>\n",
       "      <td>AUSTRALIA</td>\n",
       "      <td>Victoria</td>\n",
       "      <td>Bells Beach</td>\n",
       "      <td>Surfing</td>\n",
       "      <td>male</td>\n",
       "      <td>M</td>\n",
       "      <td>...</td>\n",
       "      <td>2 m shark</td>\n",
       "      <td>The Age, 9/16/2016</td>\n",
       "      <td>2016.09.16-BellsBeach.pdf</td>\n",
       "      <td>http://sharkattackfile.net/spreadsheets/pdf_di...</td>\n",
       "      <td>http://sharkattackfile.net/spreadsheets/pdf_di...</td>\n",
       "      <td>2016.09.16</td>\n",
       "      <td>2016.09.15</td>\n",
       "      <td>5989</td>\n",
       "      <td>NaN</td>\n",
       "      <td>NaN</td>\n",
       "    </tr>\n",
       "  </tbody>\n",
       "</table>\n",
       "<p>5 rows × 24 columns</p>\n",
       "</div>"
      ],
      "text/plain": [
       "    Case Number       Date  Year        Type    Country      Area  \\\n",
       "0  2016.09.18.c  18-Sep-16  2016  Unprovoked        USA   Florida   \n",
       "1  2016.09.18.b  18-Sep-16  2016  Unprovoked        USA   Florida   \n",
       "2  2016.09.18.a  18-Sep-16  2016  Unprovoked        USA   Florida   \n",
       "3    2016.09.17  17-Sep-16  2016  Unprovoked  AUSTRALIA  Victoria   \n",
       "4    2016.09.15  16-Sep-16  2016  Unprovoked  AUSTRALIA  Victoria   \n",
       "\n",
       "                           Location Activity             Name Sex   ...  \\\n",
       "0  New Smyrna Beach, Volusia County  Surfing             male    M  ...   \n",
       "1  New Smyrna Beach, Volusia County  Surfing   Chucky Luciano    M  ...   \n",
       "2  New Smyrna Beach, Volusia County  Surfing             male    M  ...   \n",
       "3                  Thirteenth Beach  Surfing  Rory Angiolella    M  ...   \n",
       "4                       Bells Beach  Surfing             male    M  ...   \n",
       "\n",
       "    Species        Investigator or Source                        pdf  \\\n",
       "0        NaN  Orlando Sentinel, 9/19/2016       2016.09.18.c-NSB.pdf   \n",
       "1        NaN  Orlando Sentinel, 9/19/2016   2016.09.18.b-Luciano.pdf   \n",
       "2        NaN  Orlando Sentinel, 9/19/2016       2016.09.18.a-NSB.pdf   \n",
       "3        NaN           The Age, 9/18/2016  2016.09.17-Angiolella.pdf   \n",
       "4  2 m shark           The Age, 9/16/2016  2016.09.16-BellsBeach.pdf   \n",
       "\n",
       "                                        href formula  \\\n",
       "0  http://sharkattackfile.net/spreadsheets/pdf_di...   \n",
       "1  http://sharkattackfile.net/spreadsheets/pdf_di...   \n",
       "2  http://sharkattackfile.net/spreadsheets/pdf_di...   \n",
       "3  http://sharkattackfile.net/spreadsheets/pdf_di...   \n",
       "4  http://sharkattackfile.net/spreadsheets/pdf_di...   \n",
       "\n",
       "                                                href Case Number.1  \\\n",
       "0  http://sharkattackfile.net/spreadsheets/pdf_di...  2016.09.18.c   \n",
       "1  http://sharkattackfile.net/spreadsheets/pdf_di...  2016.09.18.b   \n",
       "2  http://sharkattackfile.net/spreadsheets/pdf_di...  2016.09.18.a   \n",
       "3  http://sharkattackfile.net/spreadsheets/pdf_di...    2016.09.17   \n",
       "4  http://sharkattackfile.net/spreadsheets/pdf_di...    2016.09.16   \n",
       "\n",
       "  Case Number.2 original order Unnamed: 22 Unnamed: 23  \n",
       "0  2016.09.18.c           5993         NaN         NaN  \n",
       "1  2016.09.18.b           5992         NaN         NaN  \n",
       "2  2016.09.18.a           5991         NaN         NaN  \n",
       "3    2016.09.17           5990         NaN         NaN  \n",
       "4    2016.09.15           5989         NaN         NaN  \n",
       "\n",
       "[5 rows x 24 columns]"
      ]
     },
     "execution_count": 184,
     "metadata": {},
     "output_type": "execute_result"
    }
   ],
   "source": [
    "data.head()"
   ]
  },
  {
   "cell_type": "markdown",
   "metadata": {},
   "source": [
    "We'll also .shape it to see it's size."
   ]
  },
  {
   "cell_type": "code",
   "execution_count": 185,
   "metadata": {
    "ExecuteTime": {
     "end_time": "2020-02-06T22:27:42.339787Z",
     "start_time": "2020-02-06T22:27:42.333516Z"
    }
   },
   "outputs": [
    {
     "data": {
      "text/plain": [
       "(5992, 24)"
      ]
     },
     "execution_count": 185,
     "metadata": {},
     "output_type": "execute_result"
    }
   ],
   "source": [
    "data.shape"
   ]
  },
  {
   "cell_type": "markdown",
   "metadata": {},
   "source": [
    "## Header Cleaning"
   ]
  },
  {
   "cell_type": "markdown",
   "metadata": {},
   "source": [
    "We print the column names, not only to get get further knowledge of what we have in the table, but to see if we have to modify the names."
   ]
  },
  {
   "cell_type": "code",
   "execution_count": 186,
   "metadata": {
    "ExecuteTime": {
     "end_time": "2020-02-06T22:27:43.422961Z",
     "start_time": "2020-02-06T22:27:43.417250Z"
    }
   },
   "outputs": [
    {
     "data": {
      "text/plain": [
       "Index(['Case Number', 'Date', 'Year', 'Type', 'Country', 'Area', 'Location',\n",
       "       'Activity', 'Name', 'Sex ', 'Age', 'Injury', 'Fatal (Y/N)', 'Time',\n",
       "       'Species ', 'Investigator or Source', 'pdf', 'href formula', 'href',\n",
       "       'Case Number.1', 'Case Number.2', 'original order', 'Unnamed: 22',\n",
       "       'Unnamed: 23'],\n",
       "      dtype='object')"
      ]
     },
     "execution_count": 186,
     "metadata": {},
     "output_type": "execute_result"
    }
   ],
   "source": [
    "data.columns"
   ]
  },
  {
   "cell_type": "markdown",
   "metadata": {},
   "source": [
    "We see some names have extra spaces (`'Sex '`, `'Species '`), non-alphanumeric (`'Fatal (Y/N)'`, `'Case Number.1'`, `'Case Number.2'`, `'Unnamed: 22'`, `'Unnamed: 23'`]) or don't start with capital letter (`'pdf'`, `'href formula'`, `'href'`, `'original order'`). We will make sure all of them follow the same style: Xxxx."
   ]
  },
  {
   "cell_type": "code",
   "execution_count": 187,
   "metadata": {
    "ExecuteTime": {
     "end_time": "2020-02-06T22:27:44.227206Z",
     "start_time": "2020-02-06T22:27:44.221171Z"
    },
    "scrolled": true
   },
   "outputs": [],
   "source": [
    "data.columns = ['Case Number', 'Date', 'Year', 'Type', 'Country', 'Area', 'Location',\n",
    "       'Activity', 'Name', 'Sex', 'Age', 'Injury', 'Fatal', 'Time',\n",
    "       'Species', 'Investigator or Source', 'Pdf', 'Href Formula', 'Href',\n",
    "       'Case Number 1', 'Case Number 2', 'Original Order', 'Unnamed 22',\n",
    "       'Unnamed 23']"
   ]
  },
  {
   "cell_type": "markdown",
   "metadata": {
    "ExecuteTime": {
     "end_time": "2020-02-06T19:28:13.149399Z",
     "start_time": "2020-02-06T19:28:13.143697Z"
    }
   },
   "source": [
    "We print the column names again to make sure that the name changing worked."
   ]
  },
  {
   "cell_type": "code",
   "execution_count": 188,
   "metadata": {
    "ExecuteTime": {
     "end_time": "2020-02-06T22:27:44.936313Z",
     "start_time": "2020-02-06T22:27:44.930499Z"
    }
   },
   "outputs": [
    {
     "data": {
      "text/plain": [
       "Index(['Case Number', 'Date', 'Year', 'Type', 'Country', 'Area', 'Location',\n",
       "       'Activity', 'Name', 'Sex', 'Age', 'Injury', 'Fatal', 'Time', 'Species',\n",
       "       'Investigator or Source', 'Pdf', 'Href Formula', 'Href',\n",
       "       'Case Number 1', 'Case Number 2', 'Original Order', 'Unnamed 22',\n",
       "       'Unnamed 23'],\n",
       "      dtype='object')"
      ]
     },
     "execution_count": 188,
     "metadata": {},
     "output_type": "execute_result"
    }
   ],
   "source": [
    "data.columns"
   ]
  },
  {
   "cell_type": "markdown",
   "metadata": {
    "ExecuteTime": {
     "end_time": "2020-02-06T19:06:29.906214Z",
     "start_time": "2020-02-06T19:06:29.851065Z"
    }
   },
   "source": [
    "## Header Organization"
   ]
  },
  {
   "cell_type": "markdown",
   "metadata": {},
   "source": [
    "Once we have all the column names in the same style we will organize them; in this case I've choosen to group them by similar content"
   ]
  },
  {
   "cell_type": "code",
   "execution_count": 189,
   "metadata": {
    "ExecuteTime": {
     "end_time": "2020-02-06T22:27:46.255532Z",
     "start_time": "2020-02-06T22:27:46.245719Z"
    }
   },
   "outputs": [],
   "source": [
    "column_order = ['Case Number', 'Case Number 1','Case Number 2', 'Date', 'Year', 'Time',  'Country', 'Area', \n",
    "                'Location','Name', 'Sex', 'Age', 'Activity', 'Type', 'Species', 'Injury', 'Fatal', \n",
    "                'Investigator or Source', 'Pdf', 'Href Formula', 'Href','Original Order', 'Unnamed 22',\n",
    "                'Unnamed 23']\n",
    "data = data[column_order]"
   ]
  },
  {
   "cell_type": "markdown",
   "metadata": {},
   "source": [
    "We print the column names again to make sure that the reorganization worked."
   ]
  },
  {
   "cell_type": "code",
   "execution_count": 190,
   "metadata": {
    "ExecuteTime": {
     "end_time": "2020-02-06T22:27:47.330645Z",
     "start_time": "2020-02-06T22:27:47.324670Z"
    }
   },
   "outputs": [
    {
     "data": {
      "text/plain": [
       "Index(['Case Number', 'Case Number 1', 'Case Number 2', 'Date', 'Year', 'Time',\n",
       "       'Country', 'Area', 'Location', 'Name', 'Sex', 'Age', 'Activity', 'Type',\n",
       "       'Species', 'Injury', 'Fatal', 'Investigator or Source', 'Pdf',\n",
       "       'Href Formula', 'Href', 'Original Order', 'Unnamed 22', 'Unnamed 23'],\n",
       "      dtype='object')"
      ]
     },
     "execution_count": 190,
     "metadata": {},
     "output_type": "execute_result"
    }
   ],
   "source": [
    "data.columns"
   ]
  },
  {
   "cell_type": "markdown",
   "metadata": {},
   "source": [
    "## NULLs"
   ]
  },
  {
   "cell_type": "markdown",
   "metadata": {},
   "source": [
    "When you delete Data you have to be careful and very sure of what you're doing, that is why for the first filter we will check the percentages of NULLs per columns"
   ]
  },
  {
   "cell_type": "code",
   "execution_count": 191,
   "metadata": {
    "ExecuteTime": {
     "end_time": "2020-02-06T22:27:48.633725Z",
     "start_time": "2020-02-06T22:27:48.613218Z"
    }
   },
   "outputs": [
    {
     "data": {
      "text/plain": [
       "Case Number                0.000000\n",
       "Case Number 1              0.000000\n",
       "Case Number 2              0.000000\n",
       "Date                       0.000000\n",
       "Year                       0.000000\n",
       "Time                      53.621495\n",
       "Country                    0.717623\n",
       "Area                       6.708945\n",
       "Location                   8.277704\n",
       "Name                       3.337784\n",
       "Sex                        9.462617\n",
       "Age                       44.742991\n",
       "Activity                   8.795060\n",
       "Type                       0.000000\n",
       "Species                   48.965287\n",
       "Injury                     0.450601\n",
       "Fatal                      0.317089\n",
       "Investigator or Source     0.250334\n",
       "Pdf                        0.000000\n",
       "Href Formula               0.016689\n",
       "Href                       0.050067\n",
       "Original Order             0.000000\n",
       "Unnamed 22                99.983311\n",
       "Unnamed 23                99.966622\n",
       "dtype: float64"
      ]
     },
     "execution_count": 191,
     "metadata": {},
     "output_type": "execute_result"
    }
   ],
   "source": [
    "data.isnull().sum()* 100 / len(data)"
   ]
  },
  {
   "cell_type": "markdown",
   "metadata": {},
   "source": [
    "We see that the following columns are the ones that contain over a 40% NULLS and have no complementary column from where we can extract information to complete them:\n",
    "<br><br>`Age`: 44.74%\n",
    "<br><br>`Species`: 48.96%\n",
    "<br><br>`Time`: 53.62%\n",
    "<br><br>`Unnamed: 22`: 99.98%\n",
    "<br><br>`Unnamed: 23`: 99.96%"
   ]
  },
  {
   "cell_type": "markdown",
   "metadata": {},
   "source": [
    "The following function DROPs all the columns that have more than a 40% NULL (all of the above)"
   ]
  },
  {
   "cell_type": "code",
   "execution_count": 192,
   "metadata": {
    "ExecuteTime": {
     "end_time": "2020-02-06T22:27:49.984361Z",
     "start_time": "2020-02-06T22:27:49.941296Z"
    }
   },
   "outputs": [],
   "source": [
    "def remove_null_columns(df):\n",
    "    dff = pd.DataFrame()\n",
    "    for cl in df:\n",
    "        if df[cl].isnull().sum()* 100 / len(data) >= 40:\n",
    "            pass\n",
    "        else:\n",
    "            dff[cl] = df[cl]\n",
    "    return dff  \n",
    "data = remove_null_columns(data)"
   ]
  },
  {
   "cell_type": "markdown",
   "metadata": {
    "ExecuteTime": {
     "end_time": "2020-02-06T19:03:31.311411Z",
     "start_time": "2020-02-06T19:03:31.302688Z"
    }
   },
   "source": [
    "We will return the columns that we're left with"
   ]
  },
  {
   "cell_type": "code",
   "execution_count": 193,
   "metadata": {
    "ExecuteTime": {
     "end_time": "2020-02-06T22:27:50.890039Z",
     "start_time": "2020-02-06T22:27:50.878473Z"
    }
   },
   "outputs": [
    {
     "data": {
      "text/plain": [
       "Index(['Case Number', 'Case Number 1', 'Case Number 2', 'Date', 'Year',\n",
       "       'Country', 'Area', 'Location', 'Name', 'Sex', 'Activity', 'Type',\n",
       "       'Injury', 'Fatal', 'Investigator or Source', 'Pdf', 'Href Formula',\n",
       "       'Href', 'Original Order'],\n",
       "      dtype='object')"
      ]
     },
     "execution_count": 193,
     "metadata": {},
     "output_type": "execute_result"
    }
   ],
   "source": [
    "data.columns"
   ]
  },
  {
   "cell_type": "markdown",
   "metadata": {},
   "source": [
    "We will check what NULLs we have left to see how to continue."
   ]
  },
  {
   "cell_type": "code",
   "execution_count": 194,
   "metadata": {
    "ExecuteTime": {
     "end_time": "2020-02-06T22:27:51.916659Z",
     "start_time": "2020-02-06T22:27:51.892585Z"
    }
   },
   "outputs": [
    {
     "data": {
      "text/plain": [
       "Case Number               0.000000\n",
       "Case Number 1             0.000000\n",
       "Case Number 2             0.000000\n",
       "Date                      0.000000\n",
       "Year                      0.000000\n",
       "Country                   0.717623\n",
       "Area                      6.708945\n",
       "Location                  8.277704\n",
       "Name                      3.337784\n",
       "Sex                       9.462617\n",
       "Activity                  8.795060\n",
       "Type                      0.000000\n",
       "Injury                    0.450601\n",
       "Fatal                     0.317089\n",
       "Investigator or Source    0.250334\n",
       "Pdf                       0.000000\n",
       "Href Formula              0.016689\n",
       "Href                      0.050067\n",
       "Original Order            0.000000\n",
       "dtype: float64"
      ]
     },
     "execution_count": 194,
     "metadata": {},
     "output_type": "execute_result"
    }
   ],
   "source": [
    "data.isnull().sum()* 100 / len(data)"
   ]
  },
  {
   "cell_type": "markdown",
   "metadata": {
    "ExecuteTime": {
     "end_time": "2020-02-06T19:59:24.398704Z",
     "start_time": "2020-02-06T19:59:24.392131Z"
    }
   },
   "source": [
    "We can see some columns with a degree of connection between them an a small percentage of NULL; further on we will try to complete the columns that interest us the most:\n",
    "<br>\n",
    "<br>Related columns with a small percentage of NULLs:<br>\n",
    "<br>**GROUP 1**\n",
    "<br>`Country`: 0.7%\n",
    "<br>`Area`: 6.7%\n",
    "<br>`Location`: 8.2%\n",
    "<br>We will focus on `Country` given that is the one with the smaller percentage of NULLs<br>\n",
    "<br>**GROUP 2**\n",
    "<br>`Injury`: 0.4%\n",
    "<br>`Fatal`: 0.3%\n",
    "<br>We will focus on `Fatal` given that, although minimal difference, it has a lower percentage of NULLs<br>\n",
    "<br>**GROUP 3**\n",
    "<br>`Href Formula`: 0.01%\n",
    "<br>`Href`: 0.05%\n",
    "<br>We will focus on `Href` given that, although minimal difference, it has a lower percentage of NULLs"
   ]
  },
  {
   "cell_type": "markdown",
   "metadata": {},
   "source": [
    "## Row Cleaning"
   ]
  },
  {
   "cell_type": "markdown",
   "metadata": {},
   "source": [
    "We have to consider that we might also have NULLs in various positions in a same ROW, that is why, when we start the coulmn cleaning we will be filtering by various columns and droping rows. For that. we will create a function that drop the rows."
   ]
  },
  {
   "cell_type": "code",
   "execution_count": 195,
   "metadata": {
    "ExecuteTime": {
     "end_time": "2020-02-06T22:27:53.962376Z",
     "start_time": "2020-02-06T22:27:53.956566Z"
    },
    "code_folding": []
   },
   "outputs": [],
   "source": [
    "def drop_rows(x):\n",
    "    index_drop = [index for index in x.index]\n",
    "    index_drop.reverse()\n",
    "    for i in index_drop:\n",
    "        data.drop(data.index[i], inplace = True)"
   ]
  },
  {
   "cell_type": "markdown",
   "metadata": {},
   "source": [
    "## Column cleaning"
   ]
  },
  {
   "cell_type": "markdown",
   "metadata": {},
   "source": [
    "We will try to complete the columns that have NULLs with the ones that have complementary information or DROP the ROWS that don't have enough information to be usefull.<br>\n",
    "<br>For that we will follow the subsequent steps:\n",
    "<br>\n",
    "<br>1. Selecte the columns we will be filtering<br>\n",
    "<br>2. Filter all of them with .isnull()<br>\n",
    "<br>3. Filter all of them except one with .notnull(), the selected column can not be the choosen to complete. If there are more than two columns selected repeat with respectevely<br>\n",
    "<br>4. Once you have the information you need for the column (or you don't)\n",
    "\n",
    "    Traspass the information\n",
    "    Drop the ROWs\n",
    "\n",
    "<br>5. Drop the unneeded columns<br>\n",
    "\n",
    "<br>**NOTE: Every time you drop rows check the shape of the table to make sure they have been properly eliminated**\n"
   ]
  },
  {
   "cell_type": "markdown",
   "metadata": {},
   "source": [
    "### GROUP 1: Location, Area & Country"
   ]
  },
  {
   "cell_type": "markdown",
   "metadata": {
    "ExecuteTime": {
     "end_time": "2020-02-05T17:51:56.405479Z",
     "start_time": "2020-02-05T17:51:56.390199Z"
    }
   },
   "source": [
    "We will focus on `Country` so we will be droping all of those ROW where we can't exctract a Country Name from `Area` or `Location`. <br>\n",
    "<br>To double check the information we will start by checking how many NULLs `Country` has."
   ]
  },
  {
   "cell_type": "code",
   "execution_count": 196,
   "metadata": {
    "ExecuteTime": {
     "end_time": "2020-02-06T22:27:56.356414Z",
     "start_time": "2020-02-06T22:27:56.349291Z"
    }
   },
   "outputs": [
    {
     "data": {
      "text/plain": [
       "43"
      ]
     },
     "execution_count": 196,
     "metadata": {},
     "output_type": "execute_result"
    }
   ],
   "source": [
    "data[\"Country\"].isnull().sum()"
   ]
  },
  {
   "cell_type": "markdown",
   "metadata": {},
   "source": [
    "Using the function we will DROP all the ROWS where `Location`, `Area`, and `Country` is NULL"
   ]
  },
  {
   "cell_type": "code",
   "execution_count": 197,
   "metadata": {
    "ExecuteTime": {
     "end_time": "2020-02-06T22:27:57.430023Z",
     "start_time": "2020-02-06T22:27:57.386855Z"
    },
    "scrolled": true
   },
   "outputs": [
    {
     "data": {
      "text/html": [
       "<div>\n",
       "<style scoped>\n",
       "    .dataframe tbody tr th:only-of-type {\n",
       "        vertical-align: middle;\n",
       "    }\n",
       "\n",
       "    .dataframe tbody tr th {\n",
       "        vertical-align: top;\n",
       "    }\n",
       "\n",
       "    .dataframe thead th {\n",
       "        text-align: right;\n",
       "    }\n",
       "</style>\n",
       "<table border=\"1\" class=\"dataframe\">\n",
       "  <thead>\n",
       "    <tr style=\"text-align: right;\">\n",
       "      <th></th>\n",
       "      <th>Case Number</th>\n",
       "      <th>Case Number 1</th>\n",
       "      <th>Case Number 2</th>\n",
       "      <th>Date</th>\n",
       "      <th>Year</th>\n",
       "      <th>Country</th>\n",
       "      <th>Area</th>\n",
       "      <th>Location</th>\n",
       "      <th>Name</th>\n",
       "      <th>Sex</th>\n",
       "      <th>Activity</th>\n",
       "      <th>Type</th>\n",
       "      <th>Injury</th>\n",
       "      <th>Fatal</th>\n",
       "      <th>Investigator or Source</th>\n",
       "      <th>Pdf</th>\n",
       "      <th>Href Formula</th>\n",
       "      <th>Href</th>\n",
       "      <th>Original Order</th>\n",
       "    </tr>\n",
       "  </thead>\n",
       "  <tbody>\n",
       "    <tr>\n",
       "      <th>303</th>\n",
       "      <td>2014.08.00</td>\n",
       "      <td>2014.08.00</td>\n",
       "      <td>2014.08.00</td>\n",
       "      <td>Aug-14</td>\n",
       "      <td>2014</td>\n",
       "      <td>NaN</td>\n",
       "      <td>NaN</td>\n",
       "      <td>NaN</td>\n",
       "      <td>Cuban refugees</td>\n",
       "      <td>M</td>\n",
       "      <td>Sea disaster</td>\n",
       "      <td>Invalid</td>\n",
       "      <td>Shark involvement prior to death not confirmed</td>\n",
       "      <td>Y</td>\n",
       "      <td>Associated Press, 11/27/2014</td>\n",
       "      <td>2014.08.00-Cuban-refugees.pdf</td>\n",
       "      <td>http://sharkattackfile.net/spreadsheets/pdf_di...</td>\n",
       "      <td>http://sharkattackfile.net/spreadsheets/pdf_di...</td>\n",
       "      <td>5689</td>\n",
       "    </tr>\n",
       "    <tr>\n",
       "      <th>3153</th>\n",
       "      <td>1970.11.00</td>\n",
       "      <td>1970.11.00</td>\n",
       "      <td>1970.11.00</td>\n",
       "      <td>Nov-70</td>\n",
       "      <td>1970</td>\n",
       "      <td>NaN</td>\n",
       "      <td>NaN</td>\n",
       "      <td>NaN</td>\n",
       "      <td>Heinz Plotsky</td>\n",
       "      <td>M</td>\n",
       "      <td>NaN</td>\n",
       "      <td>Unprovoked</td>\n",
       "      <td>Extensive injuries</td>\n",
       "      <td>N</td>\n",
       "      <td>H.D. Baldridge (1994), SAF Case #1645</td>\n",
       "      <td>1970.11.00-NV-Plotsky.pdf</td>\n",
       "      <td>http://sharkattackfile.net/spreadsheets/pdf_di...</td>\n",
       "      <td>http://sharkattackfile.net/spreadsheets/pdf_di...</td>\n",
       "      <td>2840</td>\n",
       "    </tr>\n",
       "    <tr>\n",
       "      <th>3163</th>\n",
       "      <td>1970.07.05</td>\n",
       "      <td>1970.07.05</td>\n",
       "      <td>1970.07.05</td>\n",
       "      <td>05-Jul-70</td>\n",
       "      <td>1970</td>\n",
       "      <td>NaN</td>\n",
       "      <td>NaN</td>\n",
       "      <td>NaN</td>\n",
       "      <td>male</td>\n",
       "      <td>M</td>\n",
       "      <td>NaN</td>\n",
       "      <td>Unprovoked</td>\n",
       "      <td>Finger or toe severed</td>\n",
       "      <td>N</td>\n",
       "      <td>H.D. Baldridge (1994), SAF Case #1628</td>\n",
       "      <td>1970.07.05-NV-male.pdf</td>\n",
       "      <td>http://sharkattackfile.net/spreadsheets/pdf_di...</td>\n",
       "      <td>http://sharkattackfile.net/spreadsheets/pdf_di...</td>\n",
       "      <td>2830</td>\n",
       "    </tr>\n",
       "    <tr>\n",
       "      <th>3170</th>\n",
       "      <td>1970.04.00.b</td>\n",
       "      <td>1970.04.00.b</td>\n",
       "      <td>1970.04.00.b</td>\n",
       "      <td>Apr-70</td>\n",
       "      <td>1970</td>\n",
       "      <td>NaN</td>\n",
       "      <td>NaN</td>\n",
       "      <td>NaN</td>\n",
       "      <td>Lionel Jarvis</td>\n",
       "      <td>M</td>\n",
       "      <td>Freediving</td>\n",
       "      <td>Provoked</td>\n",
       "      <td>Arm abraded &amp; lacerated. Recorded as PROVOKED ...</td>\n",
       "      <td>N</td>\n",
       "      <td>H.D. Baldridge (1994), SAF Case #1616</td>\n",
       "      <td>1970.04.00.b-NV-Jarvis.pdf</td>\n",
       "      <td>http://sharkattackfile.net/spreadsheets/pdf_di...</td>\n",
       "      <td>http://sharkattackfile.net/spreadsheets/pdf_di...</td>\n",
       "      <td>2823</td>\n",
       "    </tr>\n",
       "    <tr>\n",
       "      <th>3174</th>\n",
       "      <td>1970.02.05</td>\n",
       "      <td>1970.02.05</td>\n",
       "      <td>1970.02.05</td>\n",
       "      <td>05-Feb-70</td>\n",
       "      <td>1970</td>\n",
       "      <td>NaN</td>\n",
       "      <td>NaN</td>\n",
       "      <td>NaN</td>\n",
       "      <td>Sally Anne Irvine</td>\n",
       "      <td>F</td>\n",
       "      <td>Wading</td>\n",
       "      <td>Unprovoked</td>\n",
       "      <td>Lacerations to lower leg</td>\n",
       "      <td>N</td>\n",
       "      <td>H.D. Baldridge (1994) SAF Case #1626</td>\n",
       "      <td>1970.02.05-NV-Irvine.pdf</td>\n",
       "      <td>http://sharkattackfile.net/spreadsheets/pdf_di...</td>\n",
       "      <td>http://sharkattackfile.net/spreadsheets/pdf_di...</td>\n",
       "      <td>2819</td>\n",
       "    </tr>\n",
       "    <tr>\n",
       "      <th>3200</th>\n",
       "      <td>1969.08.00</td>\n",
       "      <td>1969.08.00</td>\n",
       "      <td>1969.08.00</td>\n",
       "      <td>Aug-69</td>\n",
       "      <td>1969</td>\n",
       "      <td>NaN</td>\n",
       "      <td>NaN</td>\n",
       "      <td>NaN</td>\n",
       "      <td>Rodney Hughes</td>\n",
       "      <td>M</td>\n",
       "      <td>NaN</td>\n",
       "      <td>Unprovoked</td>\n",
       "      <td>Am lacerated</td>\n",
       "      <td>N</td>\n",
       "      <td>H.D. Baldridge (1994) SAF Case #1602</td>\n",
       "      <td>1969.08.00-NV-Hughes.pdf</td>\n",
       "      <td>http://sharkattackfile.net/spreadsheets/pdf_di...</td>\n",
       "      <td>http://sharkattackfile.net/spreadsheets/pdf_di...</td>\n",
       "      <td>2793</td>\n",
       "    </tr>\n",
       "    <tr>\n",
       "      <th>3435</th>\n",
       "      <td>1964.09.27</td>\n",
       "      <td>1964.09.27</td>\n",
       "      <td>1964.09.27</td>\n",
       "      <td>27-Sep-64</td>\n",
       "      <td>1964</td>\n",
       "      <td>NaN</td>\n",
       "      <td>NaN</td>\n",
       "      <td>NaN</td>\n",
       "      <td>Giancarlo Griffon</td>\n",
       "      <td>M</td>\n",
       "      <td>Spearfishing</td>\n",
       "      <td>Invalid</td>\n",
       "      <td>Disappeared, probable drowning but sharks in a...</td>\n",
       "      <td>NaN</td>\n",
       "      <td>C. Moore. GSAF</td>\n",
       "      <td>1964.09.27-Griffon.pdf</td>\n",
       "      <td>http://sharkattackfile.net/spreadsheets/pdf_di...</td>\n",
       "      <td>http://sharkattackfile.net/spreadsheets/pdf_di...</td>\n",
       "      <td>2558</td>\n",
       "    </tr>\n",
       "    <tr>\n",
       "      <th>4499</th>\n",
       "      <td>1942.00.00.e</td>\n",
       "      <td>1942.00.00.e</td>\n",
       "      <td>1942.00.00.e</td>\n",
       "      <td>1942</td>\n",
       "      <td>1942</td>\n",
       "      <td>NaN</td>\n",
       "      <td>NaN</td>\n",
       "      <td>NaN</td>\n",
       "      <td>male</td>\n",
       "      <td>M</td>\n",
       "      <td>Jumped overboard from torpedoed Panamanian fre...</td>\n",
       "      <td>Sea Disaster</td>\n",
       "      <td>FATAL</td>\n",
       "      <td>Y</td>\n",
       "      <td>V.M. Coppleson (1962), p.258</td>\n",
       "      <td>1942.00.00.e-seaman.pdf</td>\n",
       "      <td>http://sharkattackfile.net/spreadsheets/pdf_di...</td>\n",
       "      <td>http://sharkattackfile.net/spreadsheets/pdf_di...</td>\n",
       "      <td>1494</td>\n",
       "    </tr>\n",
       "    <tr>\n",
       "      <th>4502</th>\n",
       "      <td>1942.00.00.b</td>\n",
       "      <td>1942.00.00.b</td>\n",
       "      <td>1942.00.00.b</td>\n",
       "      <td>1942</td>\n",
       "      <td>1942</td>\n",
       "      <td>NaN</td>\n",
       "      <td>NaN</td>\n",
       "      <td>NaN</td>\n",
       "      <td>Bombardier J. Hall, Private Green of the Sherw...</td>\n",
       "      <td>M</td>\n",
       "      <td>Days before the surrender of Singapore, the 3 ...</td>\n",
       "      <td>Boating</td>\n",
       "      <td>No injury to occupants. Sharks continually fol...</td>\n",
       "      <td>N</td>\n",
       "      <td>V.M. Coppleson (1962), p.206</td>\n",
       "      <td>1942.00.00.b-Hall-Green-Jennings.pdf</td>\n",
       "      <td>http://sharkattackfile.net/spreadsheets/pdf_di...</td>\n",
       "      <td>http://sharkattackfile.net/spreadsheets/pdf_di...</td>\n",
       "      <td>1491</td>\n",
       "    </tr>\n",
       "    <tr>\n",
       "      <th>4681</th>\n",
       "      <td>1935.04.12.R</td>\n",
       "      <td>1935.04.12.R</td>\n",
       "      <td>1935.04.12.R</td>\n",
       "      <td>Reported 12-Apr-1935</td>\n",
       "      <td>1935</td>\n",
       "      <td>NaN</td>\n",
       "      <td>NaN</td>\n",
       "      <td>NaN</td>\n",
       "      <td>Pearl Purdy Scott</td>\n",
       "      <td>F</td>\n",
       "      <td>Diving</td>\n",
       "      <td>Unprovoked</td>\n",
       "      <td>Laceration to left leg</td>\n",
       "      <td>N</td>\n",
       "      <td>Port Arthur News, 4/12/1935</td>\n",
       "      <td>1935.04.12.R-PearlPurdyScott.pdf</td>\n",
       "      <td>http://sharkattackfile.net/spreadsheets/pdf_di...</td>\n",
       "      <td>http://sharkattackfile.net/spreadsheets/pdf_di...</td>\n",
       "      <td>1312</td>\n",
       "    </tr>\n",
       "    <tr>\n",
       "      <th>5346</th>\n",
       "      <td>1898.09.19.b.R</td>\n",
       "      <td>1898.09.19.b.R</td>\n",
       "      <td>1898.09.19.b.R</td>\n",
       "      <td>Reported 19-Sep-1898</td>\n",
       "      <td>1898</td>\n",
       "      <td>NaN</td>\n",
       "      <td>NaN</td>\n",
       "      <td>NaN</td>\n",
       "      <td>Halletts</td>\n",
       "      <td>M</td>\n",
       "      <td>Diving</td>\n",
       "      <td>Unprovoked</td>\n",
       "      <td>Lacerations to hand from shark trapped inside ...</td>\n",
       "      <td>N</td>\n",
       "      <td>Lincoln Evening News &amp; Daily Call, 9/19/1898</td>\n",
       "      <td>1898.09.19.b.R-Halletts.pdf</td>\n",
       "      <td>http://sharkattackfile.net/spreadsheets/pdf_di...</td>\n",
       "      <td>http://sharkattackfile.net/spreadsheets/pdf_di...</td>\n",
       "      <td>647</td>\n",
       "    </tr>\n",
       "    <tr>\n",
       "      <th>5347</th>\n",
       "      <td>1898.09.19.a.R</td>\n",
       "      <td>1898.09.19.a.R</td>\n",
       "      <td>1898.09.19.a.R</td>\n",
       "      <td>Reported 19-Sep-1898</td>\n",
       "      <td>1898</td>\n",
       "      <td>NaN</td>\n",
       "      <td>NaN</td>\n",
       "      <td>NaN</td>\n",
       "      <td>male</td>\n",
       "      <td>M</td>\n",
       "      <td>Diving</td>\n",
       "      <td>Unprovoked</td>\n",
       "      <td>Lacerations to fingers</td>\n",
       "      <td>N</td>\n",
       "      <td>Lincoln Evening News &amp; Daily Call, 9/19/1898</td>\n",
       "      <td>1898.09.19.a.R.Sully.pdf</td>\n",
       "      <td>http://sharkattackfile.net/spreadsheets/pdf_di...</td>\n",
       "      <td>http://sharkattackfile.net/spreadsheets/pdf_di...</td>\n",
       "      <td>646</td>\n",
       "    </tr>\n",
       "    <tr>\n",
       "      <th>5394</th>\n",
       "      <td>1895.06.13.R</td>\n",
       "      <td>1895.06.13.R</td>\n",
       "      <td>1895.06.13.R</td>\n",
       "      <td>Reported 13-Jun-1895</td>\n",
       "      <td>1895</td>\n",
       "      <td>NaN</td>\n",
       "      <td>NaN</td>\n",
       "      <td>NaN</td>\n",
       "      <td>Marsh</td>\n",
       "      <td>M</td>\n",
       "      <td>Diving</td>\n",
       "      <td>Unprovoked</td>\n",
       "      <td>Right hand severed</td>\n",
       "      <td>N</td>\n",
       "      <td>Lima Times, 6/13/1895</td>\n",
       "      <td>1895.06.13.R-EnglishDiver.pdf</td>\n",
       "      <td>http://sharkattackfile.net/spreadsheets/pdf_di...</td>\n",
       "      <td>http://sharkattackfile.net/spreadsheets/pdf_di...</td>\n",
       "      <td>599</td>\n",
       "    </tr>\n",
       "    <tr>\n",
       "      <th>5525</th>\n",
       "      <td>1885.04.16.R</td>\n",
       "      <td>1885.04.16.R</td>\n",
       "      <td>1885.04.16.R</td>\n",
       "      <td>Reported 16-Apr-1885</td>\n",
       "      <td>1885</td>\n",
       "      <td>NaN</td>\n",
       "      <td>NaN</td>\n",
       "      <td>NaN</td>\n",
       "      <td>2 males</td>\n",
       "      <td>M</td>\n",
       "      <td>Swimming</td>\n",
       "      <td>Unprovoked</td>\n",
       "      <td>FATAL</td>\n",
       "      <td>Y</td>\n",
       "      <td>Gleaner (Jamaica), 4/16/1885</td>\n",
       "      <td>1885.04.16.R-GermanShip.pdf</td>\n",
       "      <td>http://sharkattackfile.net/spreadsheets/pdf_di...</td>\n",
       "      <td>http://sharkattackfile.net/spreadsheets/pdf_di...</td>\n",
       "      <td>468</td>\n",
       "    </tr>\n",
       "    <tr>\n",
       "      <th>5589</th>\n",
       "      <td>1878.10.13</td>\n",
       "      <td>1878.10.13</td>\n",
       "      <td>1878.10.13</td>\n",
       "      <td>13-Oct-1878</td>\n",
       "      <td>1878</td>\n",
       "      <td>NaN</td>\n",
       "      <td>NaN</td>\n",
       "      <td>NaN</td>\n",
       "      <td>Sherrington</td>\n",
       "      <td>M</td>\n",
       "      <td>Jumped overboard after murdering 2 shipmates</td>\n",
       "      <td>Unprovoked</td>\n",
       "      <td>FATAL</td>\n",
       "      <td>Y</td>\n",
       "      <td>The Maitland Mercury &amp; Hunter River General Ad...</td>\n",
       "      <td>1878.10.13-Sherrington.pdf</td>\n",
       "      <td>http://sharkattackfile.net/spreadsheets/pdf_di...</td>\n",
       "      <td>http://sharkattackfile.net/spreadsheets/pdf_di...</td>\n",
       "      <td>404</td>\n",
       "    </tr>\n",
       "    <tr>\n",
       "      <th>5632</th>\n",
       "      <td>1874.06.15.a.R</td>\n",
       "      <td>1874.06.15.a.R</td>\n",
       "      <td>1874.06.15.a.R</td>\n",
       "      <td>Reported 15-Jun-1874</td>\n",
       "      <td>1874</td>\n",
       "      <td>NaN</td>\n",
       "      <td>NaN</td>\n",
       "      <td>NaN</td>\n",
       "      <td>NaN</td>\n",
       "      <td>M</td>\n",
       "      <td>Salvaging a shipwreck</td>\n",
       "      <td>Unprovoked</td>\n",
       "      <td>Heel bitten</td>\n",
       "      <td>N</td>\n",
       "      <td>Daily Southern Cross, 6/15/1874</td>\n",
       "      <td>1874.06.15.a.R-Achilles-tendon.pdf</td>\n",
       "      <td>http://sharkattackfile.net/spreadsheets/pdf_di...</td>\n",
       "      <td>http://sharkattackfile.net/spreadsheets/pdf_di...</td>\n",
       "      <td>361</td>\n",
       "    </tr>\n",
       "    <tr>\n",
       "      <th>5664</th>\n",
       "      <td>1869.04.10</td>\n",
       "      <td>1869.04.10</td>\n",
       "      <td>1869.04.10</td>\n",
       "      <td>10-Apr-1869</td>\n",
       "      <td>1869</td>\n",
       "      <td>NaN</td>\n",
       "      <td>NaN</td>\n",
       "      <td>NaN</td>\n",
       "      <td>Christian Frederick</td>\n",
       "      <td>M</td>\n",
       "      <td>Fell overboard</td>\n",
       "      <td>Invalid</td>\n",
       "      <td>FATAL, but shark involvement prior to death wa...</td>\n",
       "      <td>Y</td>\n",
       "      <td>Nelson Examiner &amp; New Zealand Chronicle, 4/24/...</td>\n",
       "      <td>1869.04.10-Frederick.pdf</td>\n",
       "      <td>http://sharkattackfile.net/spreadsheets/pdf_di...</td>\n",
       "      <td>http://sharkattackfile.net/spreadsheets/pdf_di...</td>\n",
       "      <td>329</td>\n",
       "    </tr>\n",
       "    <tr>\n",
       "      <th>5723</th>\n",
       "      <td>1856.11.30</td>\n",
       "      <td>1856.11.30</td>\n",
       "      <td>1856.11.30</td>\n",
       "      <td>30-Nov-1856</td>\n",
       "      <td>1856</td>\n",
       "      <td>NaN</td>\n",
       "      <td>NaN</td>\n",
       "      <td>NaN</td>\n",
       "      <td>Cornelius Conhlren</td>\n",
       "      <td>M</td>\n",
       "      <td>NaN</td>\n",
       "      <td>Unprovoked</td>\n",
       "      <td>FATAL</td>\n",
       "      <td>Y</td>\n",
       "      <td>Hartford Daily Courant, 1/29/1857</td>\n",
       "      <td>1856.11.30-Conhlren.pdf</td>\n",
       "      <td>http://sharkattackfile.net/spreadsheets/pdf_di...</td>\n",
       "      <td>http://sharkattackfile.net/spreadsheets/pdf_di...</td>\n",
       "      <td>270</td>\n",
       "    </tr>\n",
       "    <tr>\n",
       "      <th>5729</th>\n",
       "      <td>1855.07.28</td>\n",
       "      <td>1855.07.28</td>\n",
       "      <td>1855.07.28</td>\n",
       "      <td>28-Jul-1855</td>\n",
       "      <td>1855</td>\n",
       "      <td>NaN</td>\n",
       "      <td>NaN</td>\n",
       "      <td>NaN</td>\n",
       "      <td>a young boy, one of the crew of the Post Boy</td>\n",
       "      <td>M</td>\n",
       "      <td>Bathing</td>\n",
       "      <td>Unprovoked</td>\n",
       "      <td>FATAL</td>\n",
       "      <td>Y</td>\n",
       "      <td>Maitland Mercury, 8/25/1855</td>\n",
       "      <td>1855.07.28-PostBoy-sailors.pdf</td>\n",
       "      <td>http://sharkattackfile.net/spreadsheets/pdf_di...</td>\n",
       "      <td>http://sharkattackfile.net/spreadsheets/pdf_di...</td>\n",
       "      <td>264</td>\n",
       "    </tr>\n",
       "    <tr>\n",
       "      <th>5827</th>\n",
       "      <td>1811.03.01</td>\n",
       "      <td>1811.03.01</td>\n",
       "      <td>1811.03.01</td>\n",
       "      <td>01-Mar-1811</td>\n",
       "      <td>1811</td>\n",
       "      <td>NaN</td>\n",
       "      <td>NaN</td>\n",
       "      <td>NaN</td>\n",
       "      <td>John Walker</td>\n",
       "      <td>M</td>\n",
       "      <td>Fell overboard</td>\n",
       "      <td>Unprovoked</td>\n",
       "      <td>FATAL</td>\n",
       "      <td>Y</td>\n",
       "      <td>Journal of Captain Marryat</td>\n",
       "      <td>1811.03.01-John-Walker.pdf</td>\n",
       "      <td>http://sharkattackfile.net/spreadsheets/pdf_di...</td>\n",
       "      <td>http://sharkattackfile.net/spreadsheets/pdf_di...</td>\n",
       "      <td>166</td>\n",
       "    </tr>\n",
       "    <tr>\n",
       "      <th>5856</th>\n",
       "      <td>1638.00.00.R</td>\n",
       "      <td>1638.00.00.R</td>\n",
       "      <td>1638.00.00.R</td>\n",
       "      <td>Reported 1638</td>\n",
       "      <td>1638</td>\n",
       "      <td>NaN</td>\n",
       "      <td>NaN</td>\n",
       "      <td>NaN</td>\n",
       "      <td>sailors</td>\n",
       "      <td>M</td>\n",
       "      <td>NaN</td>\n",
       "      <td>Unprovoked</td>\n",
       "      <td>NaN</td>\n",
       "      <td>UNKNOWN</td>\n",
       "      <td>Sir Thomas Herbert</td>\n",
       "      <td>1638.00.00.R-Herbert</td>\n",
       "      <td>http://sharkattackfile.net/spreadsheets/pdf_di...</td>\n",
       "      <td>http://sharkattackfile.net/spreadsheets/pdf_di...</td>\n",
       "      <td>137</td>\n",
       "    </tr>\n",
       "    <tr>\n",
       "      <th>5862</th>\n",
       "      <td>1555.00.00</td>\n",
       "      <td>1555.00.00</td>\n",
       "      <td>1555.00.00</td>\n",
       "      <td>1555</td>\n",
       "      <td>1555</td>\n",
       "      <td>NaN</td>\n",
       "      <td>NaN</td>\n",
       "      <td>NaN</td>\n",
       "      <td>male</td>\n",
       "      <td>M</td>\n",
       "      <td>Swimming</td>\n",
       "      <td>Unprovoked</td>\n",
       "      <td>NaN</td>\n",
       "      <td>UNKNOWN</td>\n",
       "      <td>Olaus Magnus</td>\n",
       "      <td>1555.00.00 - Olaus Magnus.pdf</td>\n",
       "      <td>http://sharkattackfile.net/spreadsheets/pdf_di...</td>\n",
       "      <td>http://sharkattackfile.net/spreadsheets/pdf_di...</td>\n",
       "      <td>131</td>\n",
       "    </tr>\n",
       "    <tr>\n",
       "      <th>5889</th>\n",
       "      <td>ND-0124</td>\n",
       "      <td>ND-0124</td>\n",
       "      <td>ND-0124</td>\n",
       "      <td>Before 2011</td>\n",
       "      <td>0</td>\n",
       "      <td>NaN</td>\n",
       "      <td>NaN</td>\n",
       "      <td>NaN</td>\n",
       "      <td>Phillip Peters</td>\n",
       "      <td>M</td>\n",
       "      <td>NaN</td>\n",
       "      <td>Provoked</td>\n",
       "      <td>Bitten by captive sharks PROVOKED INCIDENTS</td>\n",
       "      <td>N</td>\n",
       "      <td>Watertown Daily Times, 7/8/2011</td>\n",
       "      <td>ND-0124-Peters.pdf</td>\n",
       "      <td>http://sharkattackfile.net/spreadsheets/pdf_di...</td>\n",
       "      <td>http://sharkattackfile.net/spreadsheets/pdf_di...</td>\n",
       "      <td>104</td>\n",
       "    </tr>\n",
       "    <tr>\n",
       "      <th>5949</th>\n",
       "      <td>ND.0044</td>\n",
       "      <td>ND.0044</td>\n",
       "      <td>ND.0044</td>\n",
       "      <td>1941-1945</td>\n",
       "      <td>0</td>\n",
       "      <td>NaN</td>\n",
       "      <td>NaN</td>\n",
       "      <td>NaN</td>\n",
       "      <td>C.</td>\n",
       "      <td>NaN</td>\n",
       "      <td>A group of survivors on a raft for 17-days</td>\n",
       "      <td>Sea Disaster</td>\n",
       "      <td>FATAL, shark leapt into raft and bit the man w...</td>\n",
       "      <td>Y</td>\n",
       "      <td>G.A. Llano in Airmen Against the Sea, p.69</td>\n",
       "      <td>ND-0044-C.pdf</td>\n",
       "      <td>http://sharkattackfile.net/spreadsheets/pdf_di...</td>\n",
       "      <td>http://sharkattackfile.net/spreadsheets/pdf_di...</td>\n",
       "      <td>44</td>\n",
       "    </tr>\n",
       "  </tbody>\n",
       "</table>\n",
       "</div>"
      ],
      "text/plain": [
       "         Case Number   Case Number 1   Case Number 2                  Date  \\\n",
       "303       2014.08.00      2014.08.00      2014.08.00                Aug-14   \n",
       "3153      1970.11.00      1970.11.00      1970.11.00                Nov-70   \n",
       "3163      1970.07.05      1970.07.05      1970.07.05             05-Jul-70   \n",
       "3170    1970.04.00.b    1970.04.00.b    1970.04.00.b                Apr-70   \n",
       "3174      1970.02.05      1970.02.05      1970.02.05             05-Feb-70   \n",
       "3200      1969.08.00      1969.08.00      1969.08.00                Aug-69   \n",
       "3435      1964.09.27      1964.09.27      1964.09.27             27-Sep-64   \n",
       "4499    1942.00.00.e    1942.00.00.e    1942.00.00.e                  1942   \n",
       "4502    1942.00.00.b    1942.00.00.b    1942.00.00.b                  1942   \n",
       "4681    1935.04.12.R    1935.04.12.R    1935.04.12.R  Reported 12-Apr-1935   \n",
       "5346  1898.09.19.b.R  1898.09.19.b.R  1898.09.19.b.R  Reported 19-Sep-1898   \n",
       "5347  1898.09.19.a.R  1898.09.19.a.R  1898.09.19.a.R  Reported 19-Sep-1898   \n",
       "5394    1895.06.13.R    1895.06.13.R    1895.06.13.R  Reported 13-Jun-1895   \n",
       "5525    1885.04.16.R    1885.04.16.R    1885.04.16.R  Reported 16-Apr-1885   \n",
       "5589      1878.10.13      1878.10.13      1878.10.13           13-Oct-1878   \n",
       "5632  1874.06.15.a.R  1874.06.15.a.R  1874.06.15.a.R  Reported 15-Jun-1874   \n",
       "5664      1869.04.10      1869.04.10      1869.04.10           10-Apr-1869   \n",
       "5723      1856.11.30      1856.11.30      1856.11.30           30-Nov-1856   \n",
       "5729      1855.07.28      1855.07.28      1855.07.28           28-Jul-1855   \n",
       "5827      1811.03.01      1811.03.01      1811.03.01           01-Mar-1811   \n",
       "5856    1638.00.00.R    1638.00.00.R    1638.00.00.R         Reported 1638   \n",
       "5862      1555.00.00      1555.00.00      1555.00.00                  1555   \n",
       "5889         ND-0124         ND-0124         ND-0124           Before 2011   \n",
       "5949         ND.0044         ND.0044         ND.0044             1941-1945   \n",
       "\n",
       "      Year Country Area Location  \\\n",
       "303   2014     NaN  NaN      NaN   \n",
       "3153  1970     NaN  NaN      NaN   \n",
       "3163  1970     NaN  NaN      NaN   \n",
       "3170  1970     NaN  NaN      NaN   \n",
       "3174  1970     NaN  NaN      NaN   \n",
       "3200  1969     NaN  NaN      NaN   \n",
       "3435  1964     NaN  NaN      NaN   \n",
       "4499  1942     NaN  NaN      NaN   \n",
       "4502  1942     NaN  NaN      NaN   \n",
       "4681  1935     NaN  NaN      NaN   \n",
       "5346  1898     NaN  NaN      NaN   \n",
       "5347  1898     NaN  NaN      NaN   \n",
       "5394  1895     NaN  NaN      NaN   \n",
       "5525  1885     NaN  NaN      NaN   \n",
       "5589  1878     NaN  NaN      NaN   \n",
       "5632  1874     NaN  NaN      NaN   \n",
       "5664  1869     NaN  NaN      NaN   \n",
       "5723  1856     NaN  NaN      NaN   \n",
       "5729  1855     NaN  NaN      NaN   \n",
       "5827  1811     NaN  NaN      NaN   \n",
       "5856  1638     NaN  NaN      NaN   \n",
       "5862  1555     NaN  NaN      NaN   \n",
       "5889     0     NaN  NaN      NaN   \n",
       "5949     0     NaN  NaN      NaN   \n",
       "\n",
       "                                                   Name  Sex  \\\n",
       "303                                      Cuban refugees    M   \n",
       "3153                                      Heinz Plotsky    M   \n",
       "3163                                               male    M   \n",
       "3170                                      Lionel Jarvis    M   \n",
       "3174                                  Sally Anne Irvine    F   \n",
       "3200                                      Rodney Hughes    M   \n",
       "3435                                  Giancarlo Griffon    M   \n",
       "4499                                               male    M   \n",
       "4502  Bombardier J. Hall, Private Green of the Sherw...    M   \n",
       "4681                                  Pearl Purdy Scott    F   \n",
       "5346                                           Halletts    M   \n",
       "5347                                               male    M   \n",
       "5394                                              Marsh    M   \n",
       "5525                                            2 males    M   \n",
       "5589                                        Sherrington    M   \n",
       "5632                                                NaN    M   \n",
       "5664                                Christian Frederick    M   \n",
       "5723                                 Cornelius Conhlren    M   \n",
       "5729       a young boy, one of the crew of the Post Boy    M   \n",
       "5827                                        John Walker    M   \n",
       "5856                                            sailors    M   \n",
       "5862                                               male    M   \n",
       "5889                                     Phillip Peters    M   \n",
       "5949                                                 C.  NaN   \n",
       "\n",
       "                                               Activity          Type  \\\n",
       "303                                        Sea disaster       Invalid   \n",
       "3153                                                NaN    Unprovoked   \n",
       "3163                                                NaN    Unprovoked   \n",
       "3170                                         Freediving      Provoked   \n",
       "3174                                             Wading    Unprovoked   \n",
       "3200                                                NaN    Unprovoked   \n",
       "3435                                       Spearfishing       Invalid   \n",
       "4499  Jumped overboard from torpedoed Panamanian fre...  Sea Disaster   \n",
       "4502  Days before the surrender of Singapore, the 3 ...       Boating   \n",
       "4681                                             Diving    Unprovoked   \n",
       "5346                                             Diving    Unprovoked   \n",
       "5347                                             Diving    Unprovoked   \n",
       "5394                                             Diving    Unprovoked   \n",
       "5525                                           Swimming    Unprovoked   \n",
       "5589       Jumped overboard after murdering 2 shipmates    Unprovoked   \n",
       "5632                              Salvaging a shipwreck    Unprovoked   \n",
       "5664                                     Fell overboard       Invalid   \n",
       "5723                                                NaN    Unprovoked   \n",
       "5729                                            Bathing    Unprovoked   \n",
       "5827                                     Fell overboard    Unprovoked   \n",
       "5856                                                NaN    Unprovoked   \n",
       "5862                                           Swimming    Unprovoked   \n",
       "5889                                                NaN      Provoked   \n",
       "5949         A group of survivors on a raft for 17-days  Sea Disaster   \n",
       "\n",
       "                                                 Injury    Fatal  \\\n",
       "303      Shark involvement prior to death not confirmed        Y   \n",
       "3153                                 Extensive injuries        N   \n",
       "3163                              Finger or toe severed        N   \n",
       "3170  Arm abraded & lacerated. Recorded as PROVOKED ...        N   \n",
       "3174                           Lacerations to lower leg        N   \n",
       "3200                                       Am lacerated        N   \n",
       "3435  Disappeared, probable drowning but sharks in a...      NaN   \n",
       "4499                                              FATAL        Y   \n",
       "4502  No injury to occupants. Sharks continually fol...        N   \n",
       "4681                             Laceration to left leg        N   \n",
       "5346  Lacerations to hand from shark trapped inside ...        N   \n",
       "5347                             Lacerations to fingers        N   \n",
       "5394                                 Right hand severed        N   \n",
       "5525                                              FATAL        Y   \n",
       "5589                                              FATAL        Y   \n",
       "5632                                        Heel bitten        N   \n",
       "5664  FATAL, but shark involvement prior to death wa...        Y   \n",
       "5723                                              FATAL        Y   \n",
       "5729                                              FATAL        Y   \n",
       "5827                                              FATAL        Y   \n",
       "5856                                                NaN  UNKNOWN   \n",
       "5862                                                NaN  UNKNOWN   \n",
       "5889        Bitten by captive sharks PROVOKED INCIDENTS        N   \n",
       "5949  FATAL, shark leapt into raft and bit the man w...        Y   \n",
       "\n",
       "                                 Investigator or Source  \\\n",
       "303                        Associated Press, 11/27/2014   \n",
       "3153              H.D. Baldridge (1994), SAF Case #1645   \n",
       "3163              H.D. Baldridge (1994), SAF Case #1628   \n",
       "3170              H.D. Baldridge (1994), SAF Case #1616   \n",
       "3174               H.D. Baldridge (1994) SAF Case #1626   \n",
       "3200               H.D. Baldridge (1994) SAF Case #1602   \n",
       "3435                                     C. Moore. GSAF   \n",
       "4499                       V.M. Coppleson (1962), p.258   \n",
       "4502                       V.M. Coppleson (1962), p.206   \n",
       "4681                        Port Arthur News, 4/12/1935   \n",
       "5346       Lincoln Evening News & Daily Call, 9/19/1898   \n",
       "5347       Lincoln Evening News & Daily Call, 9/19/1898   \n",
       "5394                              Lima Times, 6/13/1895   \n",
       "5525                       Gleaner (Jamaica), 4/16/1885   \n",
       "5589  The Maitland Mercury & Hunter River General Ad...   \n",
       "5632                    Daily Southern Cross, 6/15/1874   \n",
       "5664  Nelson Examiner & New Zealand Chronicle, 4/24/...   \n",
       "5723                  Hartford Daily Courant, 1/29/1857   \n",
       "5729                        Maitland Mercury, 8/25/1855   \n",
       "5827                         Journal of Captain Marryat   \n",
       "5856                                 Sir Thomas Herbert   \n",
       "5862                                       Olaus Magnus   \n",
       "5889                    Watertown Daily Times, 7/8/2011   \n",
       "5949         G.A. Llano in Airmen Against the Sea, p.69   \n",
       "\n",
       "                                       Pdf  \\\n",
       "303          2014.08.00-Cuban-refugees.pdf   \n",
       "3153             1970.11.00-NV-Plotsky.pdf   \n",
       "3163                1970.07.05-NV-male.pdf   \n",
       "3170            1970.04.00.b-NV-Jarvis.pdf   \n",
       "3174              1970.02.05-NV-Irvine.pdf   \n",
       "3200              1969.08.00-NV-Hughes.pdf   \n",
       "3435                1964.09.27-Griffon.pdf   \n",
       "4499               1942.00.00.e-seaman.pdf   \n",
       "4502  1942.00.00.b-Hall-Green-Jennings.pdf   \n",
       "4681      1935.04.12.R-PearlPurdyScott.pdf   \n",
       "5346           1898.09.19.b.R-Halletts.pdf   \n",
       "5347              1898.09.19.a.R.Sully.pdf   \n",
       "5394         1895.06.13.R-EnglishDiver.pdf   \n",
       "5525           1885.04.16.R-GermanShip.pdf   \n",
       "5589            1878.10.13-Sherrington.pdf   \n",
       "5632    1874.06.15.a.R-Achilles-tendon.pdf   \n",
       "5664              1869.04.10-Frederick.pdf   \n",
       "5723               1856.11.30-Conhlren.pdf   \n",
       "5729        1855.07.28-PostBoy-sailors.pdf   \n",
       "5827            1811.03.01-John-Walker.pdf   \n",
       "5856                  1638.00.00.R-Herbert   \n",
       "5862         1555.00.00 - Olaus Magnus.pdf   \n",
       "5889                    ND-0124-Peters.pdf   \n",
       "5949                         ND-0044-C.pdf   \n",
       "\n",
       "                                           Href Formula  \\\n",
       "303   http://sharkattackfile.net/spreadsheets/pdf_di...   \n",
       "3153  http://sharkattackfile.net/spreadsheets/pdf_di...   \n",
       "3163  http://sharkattackfile.net/spreadsheets/pdf_di...   \n",
       "3170  http://sharkattackfile.net/spreadsheets/pdf_di...   \n",
       "3174  http://sharkattackfile.net/spreadsheets/pdf_di...   \n",
       "3200  http://sharkattackfile.net/spreadsheets/pdf_di...   \n",
       "3435  http://sharkattackfile.net/spreadsheets/pdf_di...   \n",
       "4499  http://sharkattackfile.net/spreadsheets/pdf_di...   \n",
       "4502  http://sharkattackfile.net/spreadsheets/pdf_di...   \n",
       "4681  http://sharkattackfile.net/spreadsheets/pdf_di...   \n",
       "5346  http://sharkattackfile.net/spreadsheets/pdf_di...   \n",
       "5347  http://sharkattackfile.net/spreadsheets/pdf_di...   \n",
       "5394  http://sharkattackfile.net/spreadsheets/pdf_di...   \n",
       "5525  http://sharkattackfile.net/spreadsheets/pdf_di...   \n",
       "5589  http://sharkattackfile.net/spreadsheets/pdf_di...   \n",
       "5632  http://sharkattackfile.net/spreadsheets/pdf_di...   \n",
       "5664  http://sharkattackfile.net/spreadsheets/pdf_di...   \n",
       "5723  http://sharkattackfile.net/spreadsheets/pdf_di...   \n",
       "5729  http://sharkattackfile.net/spreadsheets/pdf_di...   \n",
       "5827  http://sharkattackfile.net/spreadsheets/pdf_di...   \n",
       "5856  http://sharkattackfile.net/spreadsheets/pdf_di...   \n",
       "5862  http://sharkattackfile.net/spreadsheets/pdf_di...   \n",
       "5889  http://sharkattackfile.net/spreadsheets/pdf_di...   \n",
       "5949  http://sharkattackfile.net/spreadsheets/pdf_di...   \n",
       "\n",
       "                                                   Href  Original Order  \n",
       "303   http://sharkattackfile.net/spreadsheets/pdf_di...            5689  \n",
       "3153  http://sharkattackfile.net/spreadsheets/pdf_di...            2840  \n",
       "3163  http://sharkattackfile.net/spreadsheets/pdf_di...            2830  \n",
       "3170  http://sharkattackfile.net/spreadsheets/pdf_di...            2823  \n",
       "3174  http://sharkattackfile.net/spreadsheets/pdf_di...            2819  \n",
       "3200  http://sharkattackfile.net/spreadsheets/pdf_di...            2793  \n",
       "3435  http://sharkattackfile.net/spreadsheets/pdf_di...            2558  \n",
       "4499  http://sharkattackfile.net/spreadsheets/pdf_di...            1494  \n",
       "4502  http://sharkattackfile.net/spreadsheets/pdf_di...            1491  \n",
       "4681  http://sharkattackfile.net/spreadsheets/pdf_di...            1312  \n",
       "5346  http://sharkattackfile.net/spreadsheets/pdf_di...             647  \n",
       "5347  http://sharkattackfile.net/spreadsheets/pdf_di...             646  \n",
       "5394  http://sharkattackfile.net/spreadsheets/pdf_di...             599  \n",
       "5525  http://sharkattackfile.net/spreadsheets/pdf_di...             468  \n",
       "5589  http://sharkattackfile.net/spreadsheets/pdf_di...             404  \n",
       "5632  http://sharkattackfile.net/spreadsheets/pdf_di...             361  \n",
       "5664  http://sharkattackfile.net/spreadsheets/pdf_di...             329  \n",
       "5723  http://sharkattackfile.net/spreadsheets/pdf_di...             270  \n",
       "5729  http://sharkattackfile.net/spreadsheets/pdf_di...             264  \n",
       "5827  http://sharkattackfile.net/spreadsheets/pdf_di...             166  \n",
       "5856  http://sharkattackfile.net/spreadsheets/pdf_di...             137  \n",
       "5862  http://sharkattackfile.net/spreadsheets/pdf_di...             131  \n",
       "5889  http://sharkattackfile.net/spreadsheets/pdf_di...             104  \n",
       "5949  http://sharkattackfile.net/spreadsheets/pdf_di...              44  "
      ]
     },
     "execution_count": 197,
     "metadata": {},
     "output_type": "execute_result"
    }
   ],
   "source": [
    "data[(data[\"Location\"].isnull()) & (data[\"Area\"].isnull()) & (data[\"Country\"].isnull())]"
   ]
  },
  {
   "cell_type": "code",
   "execution_count": 198,
   "metadata": {
    "ExecuteTime": {
     "end_time": "2020-02-06T22:27:57.939746Z",
     "start_time": "2020-02-06T22:27:57.833103Z"
    }
   },
   "outputs": [],
   "source": [
    "filter_by_country = data[(data[\"Location\"].isnull()) & (data[\"Area\"].isnull()) & (data[\"Country\"].isnull())]\n",
    "drop_rows(filter_by_country)"
   ]
  },
  {
   "cell_type": "markdown",
   "metadata": {},
   "source": [
    "Double check how many NULLs `Country` has to make sure the function works, we will be doing this every time we pass the function."
   ]
  },
  {
   "cell_type": "code",
   "execution_count": 199,
   "metadata": {
    "ExecuteTime": {
     "end_time": "2020-02-06T22:27:58.931466Z",
     "start_time": "2020-02-06T22:27:58.924829Z"
    }
   },
   "outputs": [
    {
     "data": {
      "text/plain": [
       "19"
      ]
     },
     "execution_count": 199,
     "metadata": {},
     "output_type": "execute_result"
    }
   ],
   "source": [
    "data[\"Country\"].isnull().sum()"
   ]
  },
  {
   "cell_type": "markdown",
   "metadata": {
    "ExecuteTime": {
     "end_time": "2020-02-05T18:26:39.992588Z",
     "start_time": "2020-02-05T18:26:39.987237Z"
    }
   },
   "source": [
    "FILTER by `Location`: we will check the ROWs where `Location` is not NULL"
   ]
  },
  {
   "cell_type": "code",
   "execution_count": 200,
   "metadata": {
    "ExecuteTime": {
     "end_time": "2020-02-06T22:27:59.974140Z",
     "start_time": "2020-02-06T22:27:59.942948Z"
    }
   },
   "outputs": [
    {
     "data": {
      "text/html": [
       "<div>\n",
       "<style scoped>\n",
       "    .dataframe tbody tr th:only-of-type {\n",
       "        vertical-align: middle;\n",
       "    }\n",
       "\n",
       "    .dataframe tbody tr th {\n",
       "        vertical-align: top;\n",
       "    }\n",
       "\n",
       "    .dataframe thead th {\n",
       "        text-align: right;\n",
       "    }\n",
       "</style>\n",
       "<table border=\"1\" class=\"dataframe\">\n",
       "  <thead>\n",
       "    <tr style=\"text-align: right;\">\n",
       "      <th></th>\n",
       "      <th>Case Number</th>\n",
       "      <th>Case Number 1</th>\n",
       "      <th>Case Number 2</th>\n",
       "      <th>Date</th>\n",
       "      <th>Year</th>\n",
       "      <th>Country</th>\n",
       "      <th>Area</th>\n",
       "      <th>Location</th>\n",
       "      <th>Name</th>\n",
       "      <th>Sex</th>\n",
       "      <th>Activity</th>\n",
       "      <th>Type</th>\n",
       "      <th>Injury</th>\n",
       "      <th>Fatal</th>\n",
       "      <th>Investigator or Source</th>\n",
       "      <th>Pdf</th>\n",
       "      <th>Href Formula</th>\n",
       "      <th>Href</th>\n",
       "      <th>Original Order</th>\n",
       "    </tr>\n",
       "  </thead>\n",
       "  <tbody>\n",
       "    <tr>\n",
       "      <th>3379</th>\n",
       "      <td>1965.10.21</td>\n",
       "      <td>1965.10.21</td>\n",
       "      <td>1965.10.21</td>\n",
       "      <td>21-Oct-65</td>\n",
       "      <td>1965</td>\n",
       "      <td>NaN</td>\n",
       "      <td>NaN</td>\n",
       "      <td>Florida Strait</td>\n",
       "      <td>Mario Castellanos</td>\n",
       "      <td>M</td>\n",
       "      <td>The boat Caribou II sank</td>\n",
       "      <td>Unprovoked</td>\n",
       "      <td>Survived</td>\n",
       "      <td>N</td>\n",
       "      <td>Lodi News Sentinel, 10/30/1965</td>\n",
       "      <td>1965.10.21-Castellanos.pdf</td>\n",
       "      <td>http://sharkattackfile.net/spreadsheets/pdf_di...</td>\n",
       "      <td>http://sharkattackfile.net/spreadsheets/pdf_di...</td>\n",
       "      <td>2614</td>\n",
       "    </tr>\n",
       "    <tr>\n",
       "      <th>4412</th>\n",
       "      <td>1944.10.24</td>\n",
       "      <td>1944.10.24</td>\n",
       "      <td>1944.10.24</td>\n",
       "      <td>24-Oct-44</td>\n",
       "      <td>1944</td>\n",
       "      <td>NaN</td>\n",
       "      <td>NaN</td>\n",
       "      <td>225 miles east of Hong Kong</td>\n",
       "      <td>NaN</td>\n",
       "      <td>M</td>\n",
       "      <td>Japanese POW ship Arisan Maru with 1800 Americ...</td>\n",
       "      <td>Sea Disaster</td>\n",
       "      <td>Most of the men drowned &amp; some were taken by s...</td>\n",
       "      <td>Y</td>\n",
       "      <td>internet (multiple)</td>\n",
       "      <td>1944.10.24-ArisanMaru.pdf</td>\n",
       "      <td>http://sharkattackfile.net/spreadsheets/pdf_di...</td>\n",
       "      <td>http://sharkattackfile.net/spreadsheets/pdf_di...</td>\n",
       "      <td>1581</td>\n",
       "    </tr>\n",
       "    <tr>\n",
       "      <th>5189</th>\n",
       "      <td>1909.01.17</td>\n",
       "      <td>1909.01.17</td>\n",
       "      <td>1909.01.17</td>\n",
       "      <td>17-Jan-09</td>\n",
       "      <td>1909</td>\n",
       "      <td>NaN</td>\n",
       "      <td>NaN</td>\n",
       "      <td>Near the equator</td>\n",
       "      <td>Thomas Butler</td>\n",
       "      <td>M</td>\n",
       "      <td>Jumped overboard</td>\n",
       "      <td>Invalid</td>\n",
       "      <td>FATAL</td>\n",
       "      <td>Y</td>\n",
       "      <td>Star, 3/18/1909</td>\n",
       "      <td>1909.01.17-Butler.pdf</td>\n",
       "      <td>http://sharkattackfile.net/spreadsheets/pdf_di...</td>\n",
       "      <td>http://sharkattackfile.net/spreadsheets/pdf_di...</td>\n",
       "      <td>804</td>\n",
       "    </tr>\n",
       "    <tr>\n",
       "      <th>5560</th>\n",
       "      <td>1881.06.25</td>\n",
       "      <td>1881.06.25</td>\n",
       "      <td>1881.06.25</td>\n",
       "      <td>25-Jut-1881</td>\n",
       "      <td>1881</td>\n",
       "      <td>NaN</td>\n",
       "      <td>NaN</td>\n",
       "      <td>Santa Cruz</td>\n",
       "      <td>Father Hudson</td>\n",
       "      <td>M</td>\n",
       "      <td>Bathing</td>\n",
       "      <td>Unprovoked</td>\n",
       "      <td>Survived</td>\n",
       "      <td>N</td>\n",
       "      <td>Grey River Argus,10/3/1881, p.2</td>\n",
       "      <td>1881.06.25-FatherHudson.pdf</td>\n",
       "      <td>http://sharkattackfile.net/spreadsheets/pdf_di...</td>\n",
       "      <td>http://sharkattackfile.net/spreadsheets/pdf_di...</td>\n",
       "      <td>433</td>\n",
       "    </tr>\n",
       "    <tr>\n",
       "      <th>5847</th>\n",
       "      <td>1742.12.17</td>\n",
       "      <td>1742.12.17</td>\n",
       "      <td>1742.12.17</td>\n",
       "      <td>17-Dec-1742</td>\n",
       "      <td>1742</td>\n",
       "      <td>NaN</td>\n",
       "      <td>NaN</td>\n",
       "      <td>Carlisle Bay</td>\n",
       "      <td>2 impressed seamen</td>\n",
       "      <td>M</td>\n",
       "      <td>Swimming</td>\n",
       "      <td>Unprovoked</td>\n",
       "      <td>FATAL</td>\n",
       "      <td>Y</td>\n",
       "      <td>C. Moore, GSAF</td>\n",
       "      <td>1742.12.17-AdviceSeamen.pdf</td>\n",
       "      <td>http://sharkattackfile.net/spreadsheets/pdf_di...</td>\n",
       "      <td>http://sharkattackfile.net/spreadsheets/pdf_di...</td>\n",
       "      <td>146</td>\n",
       "    </tr>\n",
       "    <tr>\n",
       "      <th>5896</th>\n",
       "      <td>nd-0114</td>\n",
       "      <td>nd-0114</td>\n",
       "      <td>nd-0114</td>\n",
       "      <td>Before 2012</td>\n",
       "      <td>0</td>\n",
       "      <td>NaN</td>\n",
       "      <td>NaN</td>\n",
       "      <td>In a river feeding into the Bay of Bengal</td>\n",
       "      <td>Sametra Mestri</td>\n",
       "      <td>F</td>\n",
       "      <td>Netting shrimp</td>\n",
       "      <td>Unprovoked</td>\n",
       "      <td>Hand severed</td>\n",
       "      <td>N</td>\n",
       "      <td>National Georgraphic Television</td>\n",
       "      <td>ND-0114-BayOfBengal.pdf</td>\n",
       "      <td>http://sharkattackfile.net/spreadsheets/pdf_di...</td>\n",
       "      <td>http://sharkattackfile.net/spreadsheets/pdf_di...</td>\n",
       "      <td>97</td>\n",
       "    </tr>\n",
       "  </tbody>\n",
       "</table>\n",
       "</div>"
      ],
      "text/plain": [
       "     Case Number Case Number 1 Case Number 2         Date  Year Country Area  \\\n",
       "3379  1965.10.21    1965.10.21    1965.10.21    21-Oct-65  1965     NaN  NaN   \n",
       "4412  1944.10.24    1944.10.24    1944.10.24    24-Oct-44  1944     NaN  NaN   \n",
       "5189  1909.01.17    1909.01.17    1909.01.17    17-Jan-09  1909     NaN  NaN   \n",
       "5560  1881.06.25    1881.06.25    1881.06.25  25-Jut-1881  1881     NaN  NaN   \n",
       "5847  1742.12.17    1742.12.17    1742.12.17  17-Dec-1742  1742     NaN  NaN   \n",
       "5896     nd-0114       nd-0114       nd-0114  Before 2012     0     NaN  NaN   \n",
       "\n",
       "                                       Location                Name Sex  \\\n",
       "3379                             Florida Strait   Mario Castellanos   M   \n",
       "4412                225 miles east of Hong Kong                 NaN   M   \n",
       "5189                           Near the equator       Thomas Butler   M   \n",
       "5560                                 Santa Cruz       Father Hudson   M   \n",
       "5847                               Carlisle Bay  2 impressed seamen   M   \n",
       "5896  In a river feeding into the Bay of Bengal      Sametra Mestri   F   \n",
       "\n",
       "                                               Activity          Type  \\\n",
       "3379                           The boat Caribou II sank    Unprovoked   \n",
       "4412  Japanese POW ship Arisan Maru with 1800 Americ...  Sea Disaster   \n",
       "5189                                  Jumped overboard        Invalid   \n",
       "5560                                            Bathing    Unprovoked   \n",
       "5847                                           Swimming    Unprovoked   \n",
       "5896                                     Netting shrimp    Unprovoked   \n",
       "\n",
       "                                                 Injury Fatal  \\\n",
       "3379                                           Survived     N   \n",
       "4412  Most of the men drowned & some were taken by s...     Y   \n",
       "5189                                              FATAL     Y   \n",
       "5560                                           Survived     N   \n",
       "5847                                              FATAL     Y   \n",
       "5896                                       Hand severed     N   \n",
       "\n",
       "               Investigator or Source                          Pdf  \\\n",
       "3379   Lodi News Sentinel, 10/30/1965   1965.10.21-Castellanos.pdf   \n",
       "4412              internet (multiple)    1944.10.24-ArisanMaru.pdf   \n",
       "5189                  Star, 3/18/1909        1909.01.17-Butler.pdf   \n",
       "5560  Grey River Argus,10/3/1881, p.2  1881.06.25-FatherHudson.pdf   \n",
       "5847                   C. Moore, GSAF  1742.12.17-AdviceSeamen.pdf   \n",
       "5896  National Georgraphic Television      ND-0114-BayOfBengal.pdf   \n",
       "\n",
       "                                           Href Formula  \\\n",
       "3379  http://sharkattackfile.net/spreadsheets/pdf_di...   \n",
       "4412  http://sharkattackfile.net/spreadsheets/pdf_di...   \n",
       "5189  http://sharkattackfile.net/spreadsheets/pdf_di...   \n",
       "5560  http://sharkattackfile.net/spreadsheets/pdf_di...   \n",
       "5847  http://sharkattackfile.net/spreadsheets/pdf_di...   \n",
       "5896  http://sharkattackfile.net/spreadsheets/pdf_di...   \n",
       "\n",
       "                                                   Href  Original Order  \n",
       "3379  http://sharkattackfile.net/spreadsheets/pdf_di...            2614  \n",
       "4412  http://sharkattackfile.net/spreadsheets/pdf_di...            1581  \n",
       "5189  http://sharkattackfile.net/spreadsheets/pdf_di...             804  \n",
       "5560  http://sharkattackfile.net/spreadsheets/pdf_di...             433  \n",
       "5847  http://sharkattackfile.net/spreadsheets/pdf_di...             146  \n",
       "5896  http://sharkattackfile.net/spreadsheets/pdf_di...              97  "
      ]
     },
     "execution_count": 200,
     "metadata": {},
     "output_type": "execute_result"
    }
   ],
   "source": [
    "data[(data[\"Location\"].notnull()) & (data[\"Area\"].isnull()) & (data[\"Country\"].isnull())]"
   ]
  },
  {
   "cell_type": "code",
   "execution_count": 201,
   "metadata": {
    "ExecuteTime": {
     "end_time": "2020-02-06T22:28:00.394170Z",
     "start_time": "2020-02-06T22:28:00.383245Z"
    }
   },
   "outputs": [],
   "source": [
    "filter_by_location = data[(data[\"Location\"].notnull()) & (data[\"Area\"].isnull()) & (data[\"Country\"].isnull())]"
   ]
  },
  {
   "cell_type": "markdown",
   "metadata": {
    "ExecuteTime": {
     "end_time": "2020-02-05T18:21:08.619320Z",
     "start_time": "2020-02-05T18:21:08.613582Z"
    }
   },
   "source": [
    "We will DROP this ROWs given that the information in them is:\n",
    " \n",
    "1) not usesful\n",
    " \n",
    "2) not reliable"
   ]
  },
  {
   "cell_type": "code",
   "execution_count": 202,
   "metadata": {
    "ExecuteTime": {
     "end_time": "2020-02-06T22:28:01.285443Z",
     "start_time": "2020-02-06T22:28:01.258359Z"
    }
   },
   "outputs": [],
   "source": [
    "drop_rows(filter_by_location)"
   ]
  },
  {
   "cell_type": "markdown",
   "metadata": {},
   "source": [
    "Double check how many NULLs Country has to make sure the function works."
   ]
  },
  {
   "cell_type": "code",
   "execution_count": 203,
   "metadata": {
    "ExecuteTime": {
     "end_time": "2020-02-06T22:28:02.051470Z",
     "start_time": "2020-02-06T22:28:02.044663Z"
    }
   },
   "outputs": [
    {
     "data": {
      "text/plain": [
       "19"
      ]
     },
     "execution_count": 203,
     "metadata": {},
     "output_type": "execute_result"
    }
   ],
   "source": [
    "data[\"Country\"].isnull().sum()"
   ]
  },
  {
   "cell_type": "markdown",
   "metadata": {},
   "source": [
    "THIRD: FILTER by `Area`: we will check the ROWs where `Area` is not NULL"
   ]
  },
  {
   "cell_type": "code",
   "execution_count": 204,
   "metadata": {
    "ExecuteTime": {
     "end_time": "2020-02-06T22:28:03.051237Z",
     "start_time": "2020-02-06T22:28:03.011377Z"
    }
   },
   "outputs": [
    {
     "data": {
      "text/html": [
       "<div>\n",
       "<style scoped>\n",
       "    .dataframe tbody tr th:only-of-type {\n",
       "        vertical-align: middle;\n",
       "    }\n",
       "\n",
       "    .dataframe tbody tr th {\n",
       "        vertical-align: top;\n",
       "    }\n",
       "\n",
       "    .dataframe thead th {\n",
       "        text-align: right;\n",
       "    }\n",
       "</style>\n",
       "<table border=\"1\" class=\"dataframe\">\n",
       "  <thead>\n",
       "    <tr style=\"text-align: right;\">\n",
       "      <th></th>\n",
       "      <th>Case Number</th>\n",
       "      <th>Case Number 1</th>\n",
       "      <th>Case Number 2</th>\n",
       "      <th>Date</th>\n",
       "      <th>Year</th>\n",
       "      <th>Country</th>\n",
       "      <th>Area</th>\n",
       "      <th>Location</th>\n",
       "      <th>Name</th>\n",
       "      <th>Sex</th>\n",
       "      <th>Activity</th>\n",
       "      <th>Type</th>\n",
       "      <th>Injury</th>\n",
       "      <th>Fatal</th>\n",
       "      <th>Investigator or Source</th>\n",
       "      <th>Pdf</th>\n",
       "      <th>Href Formula</th>\n",
       "      <th>Href</th>\n",
       "      <th>Original Order</th>\n",
       "    </tr>\n",
       "  </thead>\n",
       "  <tbody>\n",
       "    <tr>\n",
       "      <th>2731</th>\n",
       "      <td>1983.00.00.d</td>\n",
       "      <td>1983.00.00.d</td>\n",
       "      <td>1983.00.00.d</td>\n",
       "      <td>Ca. 1983</td>\n",
       "      <td>1983</td>\n",
       "      <td>NaN</td>\n",
       "      <td>English Channel</td>\n",
       "      <td>NaN</td>\n",
       "      <td>Padma Shri Taranath Narayan Shenoy</td>\n",
       "      <td>M</td>\n",
       "      <td>Swimming</td>\n",
       "      <td>Unprovoked</td>\n",
       "      <td>Left leg bitten</td>\n",
       "      <td>N</td>\n",
       "      <td>Times of India, 2/5/2012</td>\n",
       "      <td>1983.00.00.d-Shenoy.pdf</td>\n",
       "      <td>http://sharkattackfile.net/spreadsheets/pdf_di...</td>\n",
       "      <td>http://sharkattackfile.net/spreadsheets/pdf_di...</td>\n",
       "      <td>3262</td>\n",
       "    </tr>\n",
       "    <tr>\n",
       "      <th>3792</th>\n",
       "      <td>1960.01.26</td>\n",
       "      <td>1960.01.26</td>\n",
       "      <td>1960.01.26</td>\n",
       "      <td>26-Jan-60</td>\n",
       "      <td>1960</td>\n",
       "      <td>NaN</td>\n",
       "      <td>Between Timor &amp; Darwin, Australia</td>\n",
       "      <td>NaN</td>\n",
       "      <td>NaN</td>\n",
       "      <td>NaN</td>\n",
       "      <td>Portuguese Airliner with 9 people aboard went ...</td>\n",
       "      <td>Sea Disaster</td>\n",
       "      <td>As searchers approached wreckage, sharks circl...</td>\n",
       "      <td>N</td>\n",
       "      <td>V.M. Coppleson (1962), p.260</td>\n",
       "      <td>1960.01.26-Portuguese airliner.pdf</td>\n",
       "      <td>http://sharkattackfile.net/spreadsheets/pdf_di...</td>\n",
       "      <td>http://sharkattackfile.net/spreadsheets/pdf_di...</td>\n",
       "      <td>2201</td>\n",
       "    </tr>\n",
       "    <tr>\n",
       "      <th>4005</th>\n",
       "      <td>1956.09.13</td>\n",
       "      <td>1956.09.13</td>\n",
       "      <td>1956.09.13</td>\n",
       "      <td>13-Sep-56</td>\n",
       "      <td>1956</td>\n",
       "      <td>NaN</td>\n",
       "      <td>Near the Andaman &amp; Nicobar Islands</td>\n",
       "      <td>NaN</td>\n",
       "      <td>male</td>\n",
       "      <td>M</td>\n",
       "      <td>Climbing back on ship</td>\n",
       "      <td>Unprovoked</td>\n",
       "      <td>FATAL</td>\n",
       "      <td>Y</td>\n",
       "      <td>M. Hosina</td>\n",
       "      <td>1956.09.13-TunaBoat.pdf</td>\n",
       "      <td>http://sharkattackfile.net/spreadsheets/pdf_di...</td>\n",
       "      <td>http://sharkattackfile.net/spreadsheets/pdf_di...</td>\n",
       "      <td>1988</td>\n",
       "    </tr>\n",
       "    <tr>\n",
       "      <th>4473</th>\n",
       "      <td>1942.11.00.a</td>\n",
       "      <td>1942.11.00.a</td>\n",
       "      <td>1942.11.00.a</td>\n",
       "      <td>Nov-42</td>\n",
       "      <td>1942</td>\n",
       "      <td>NaN</td>\n",
       "      <td>Off South American coast</td>\n",
       "      <td>NaN</td>\n",
       "      <td>NaN</td>\n",
       "      <td>M</td>\n",
       "      <td>Dutch merchant ship Zaandam torpedoed  by the ...</td>\n",
       "      <td>Sea Disaster</td>\n",
       "      <td>FATAL</td>\n",
       "      <td>Y</td>\n",
       "      <td>M.  Murphy; V.M. Coppleson (1962), pp.207-208</td>\n",
       "      <td>1942.11.00.a-Izzi.pdf</td>\n",
       "      <td>http://sharkattackfile.net/spreadsheets/pdf_di...</td>\n",
       "      <td>http://sharkattackfile.net/spreadsheets/pdf_di...</td>\n",
       "      <td>1520</td>\n",
       "    </tr>\n",
       "    <tr>\n",
       "      <th>4485</th>\n",
       "      <td>1942.06.00</td>\n",
       "      <td>1942.06.00</td>\n",
       "      <td>1942.06.00</td>\n",
       "      <td>Jun-42</td>\n",
       "      <td>1942</td>\n",
       "      <td>NaN</td>\n",
       "      <td>300 miles east of St. Thomas (Virgin Islands)</td>\n",
       "      <td>NaN</td>\n",
       "      <td>male</td>\n",
       "      <td>M</td>\n",
       "      <td>On life raft tethered to lifeboat. A seaman pu...</td>\n",
       "      <td>Unprovoked</td>\n",
       "      <td>Forearm lacerated</td>\n",
       "      <td>N</td>\n",
       "      <td>V.M. Coppleson (1962), p.258</td>\n",
       "      <td>1942.06.00-on-life-raft.pdf</td>\n",
       "      <td>http://sharkattackfile.net/spreadsheets/pdf_di...</td>\n",
       "      <td>http://sharkattackfile.net/spreadsheets/pdf_di...</td>\n",
       "      <td>1508</td>\n",
       "    </tr>\n",
       "    <tr>\n",
       "      <th>5370</th>\n",
       "      <td>1897.03.15.b.R</td>\n",
       "      <td>1897.03.15.b.R</td>\n",
       "      <td>1897.03.15.b.R</td>\n",
       "      <td>Reported 15-Mar-1897</td>\n",
       "      <td>1897</td>\n",
       "      <td>NaN</td>\n",
       "      <td>Mediterranean Sea</td>\n",
       "      <td>NaN</td>\n",
       "      <td>male</td>\n",
       "      <td>M</td>\n",
       "      <td>Swimming</td>\n",
       "      <td>Unprovoked</td>\n",
       "      <td>FATAL</td>\n",
       "      <td>Y</td>\n",
       "      <td>Daily Northwestern, 5/15/1897</td>\n",
       "      <td>1897.03.15.b.R-Mediterranean.pdf</td>\n",
       "      <td>http://sharkattackfile.net/spreadsheets/pdf_di...</td>\n",
       "      <td>http://sharkattackfile.net/spreadsheets/pdf_di...</td>\n",
       "      <td>623</td>\n",
       "    </tr>\n",
       "    <tr>\n",
       "      <th>5558</th>\n",
       "      <td>1881.08.16.R</td>\n",
       "      <td>1881.08.16.R</td>\n",
       "      <td>1881.08.16.R</td>\n",
       "      <td>Reported 16-Aug-1881</td>\n",
       "      <td>1881</td>\n",
       "      <td>NaN</td>\n",
       "      <td>Western Banks</td>\n",
       "      <td>NaN</td>\n",
       "      <td>George Sedgwick</td>\n",
       "      <td>M</td>\n",
       "      <td>Floating, holding onto an oar after dory capsized</td>\n",
       "      <td>Unprovoked</td>\n",
       "      <td>FATAL</td>\n",
       "      <td>Y</td>\n",
       "      <td>Lewiston Evening Journal, 8/16/1881</td>\n",
       "      <td>1881.08.16.R-Sedgwick.pdf</td>\n",
       "      <td>http://sharkattackfile.net/spreadsheets/pdf_di...</td>\n",
       "      <td>http://sharkattackfile.net/spreadsheets/pdf_di...</td>\n",
       "      <td>435</td>\n",
       "    </tr>\n",
       "    <tr>\n",
       "      <th>5866</th>\n",
       "      <td>0077.00.00</td>\n",
       "      <td>0077.00.00</td>\n",
       "      <td>0077.00.00</td>\n",
       "      <td>77  A.D.</td>\n",
       "      <td>77</td>\n",
       "      <td>NaN</td>\n",
       "      <td>Ionian Sea</td>\n",
       "      <td>NaN</td>\n",
       "      <td>males</td>\n",
       "      <td>M</td>\n",
       "      <td>Sponge diving</td>\n",
       "      <td>Unprovoked</td>\n",
       "      <td>FATAL</td>\n",
       "      <td>Y</td>\n",
       "      <td>Perils mentioned by Pliny the Elder (23 A.D. t...</td>\n",
       "      <td>77AD-Pliny.pdf</td>\n",
       "      <td>http://sharkattackfile.net/spreadsheets/pdf_di...</td>\n",
       "      <td>http://sharkattackfile.net/spreadsheets/pdf_di...</td>\n",
       "      <td>127</td>\n",
       "    </tr>\n",
       "    <tr>\n",
       "      <th>5868</th>\n",
       "      <td>0.0214</td>\n",
       "      <td>0.0214</td>\n",
       "      <td>0.0214</td>\n",
       "      <td>Ca. 214 B.C.</td>\n",
       "      <td>0</td>\n",
       "      <td>NaN</td>\n",
       "      <td>Ionian Sea</td>\n",
       "      <td>NaN</td>\n",
       "      <td>Tharsys, a sponge diver</td>\n",
       "      <td>M</td>\n",
       "      <td>Ascending from a dive</td>\n",
       "      <td>Unprovoked</td>\n",
       "      <td>FATAL, shark/s bit him in two</td>\n",
       "      <td>Y</td>\n",
       "      <td>Reported by Greek poet, Leonidas of Tarentum (...</td>\n",
       "      <td>214BC-Tharsys.pdf</td>\n",
       "      <td>http://sharkattackfile.net/spreadsheets/pdf_di...</td>\n",
       "      <td>http://sharkattackfile.net/spreadsheets/pdf_di...</td>\n",
       "      <td>125</td>\n",
       "    </tr>\n",
       "  </tbody>\n",
       "</table>\n",
       "</div>"
      ],
      "text/plain": [
       "         Case Number   Case Number 1   Case Number 2                  Date  \\\n",
       "2731    1983.00.00.d    1983.00.00.d    1983.00.00.d              Ca. 1983   \n",
       "3792      1960.01.26      1960.01.26      1960.01.26             26-Jan-60   \n",
       "4005      1956.09.13      1956.09.13      1956.09.13             13-Sep-56   \n",
       "4473    1942.11.00.a    1942.11.00.a    1942.11.00.a                Nov-42   \n",
       "4485      1942.06.00      1942.06.00      1942.06.00                Jun-42   \n",
       "5370  1897.03.15.b.R  1897.03.15.b.R  1897.03.15.b.R  Reported 15-Mar-1897   \n",
       "5558    1881.08.16.R    1881.08.16.R    1881.08.16.R  Reported 16-Aug-1881   \n",
       "5866      0077.00.00      0077.00.00      0077.00.00              77  A.D.   \n",
       "5868          0.0214          0.0214          0.0214          Ca. 214 B.C.   \n",
       "\n",
       "      Year Country                                           Area Location  \\\n",
       "2731  1983     NaN                                English Channel      NaN   \n",
       "3792  1960     NaN              Between Timor & Darwin, Australia      NaN   \n",
       "4005  1956     NaN             Near the Andaman & Nicobar Islands      NaN   \n",
       "4473  1942     NaN                       Off South American coast      NaN   \n",
       "4485  1942     NaN  300 miles east of St. Thomas (Virgin Islands)      NaN   \n",
       "5370  1897     NaN                              Mediterranean Sea      NaN   \n",
       "5558  1881     NaN                                  Western Banks      NaN   \n",
       "5866    77     NaN                                     Ionian Sea      NaN   \n",
       "5868     0     NaN                                     Ionian Sea      NaN   \n",
       "\n",
       "                                    Name  Sex  \\\n",
       "2731  Padma Shri Taranath Narayan Shenoy    M   \n",
       "3792                                 NaN  NaN   \n",
       "4005                                male    M   \n",
       "4473                                 NaN    M   \n",
       "4485                                male    M   \n",
       "5370                                male    M   \n",
       "5558                     George Sedgwick    M   \n",
       "5866                               males    M   \n",
       "5868             Tharsys, a sponge diver    M   \n",
       "\n",
       "                                               Activity          Type  \\\n",
       "2731                                           Swimming    Unprovoked   \n",
       "3792  Portuguese Airliner with 9 people aboard went ...  Sea Disaster   \n",
       "4005                              Climbing back on ship    Unprovoked   \n",
       "4473  Dutch merchant ship Zaandam torpedoed  by the ...  Sea Disaster   \n",
       "4485  On life raft tethered to lifeboat. A seaman pu...    Unprovoked   \n",
       "5370                                           Swimming    Unprovoked   \n",
       "5558  Floating, holding onto an oar after dory capsized    Unprovoked   \n",
       "5866                                      Sponge diving    Unprovoked   \n",
       "5868                              Ascending from a dive    Unprovoked   \n",
       "\n",
       "                                                 Injury Fatal  \\\n",
       "2731                                    Left leg bitten     N   \n",
       "3792  As searchers approached wreckage, sharks circl...     N   \n",
       "4005                                              FATAL     Y   \n",
       "4473                                              FATAL     Y   \n",
       "4485                                  Forearm lacerated     N   \n",
       "5370                                              FATAL     Y   \n",
       "5558                                              FATAL     Y   \n",
       "5866                                              FATAL     Y   \n",
       "5868                      FATAL, shark/s bit him in two     Y   \n",
       "\n",
       "                                 Investigator or Source  \\\n",
       "2731                           Times of India, 2/5/2012   \n",
       "3792                       V.M. Coppleson (1962), p.260   \n",
       "4005                                          M. Hosina   \n",
       "4473      M.  Murphy; V.M. Coppleson (1962), pp.207-208   \n",
       "4485                       V.M. Coppleson (1962), p.258   \n",
       "5370                      Daily Northwestern, 5/15/1897   \n",
       "5558                Lewiston Evening Journal, 8/16/1881   \n",
       "5866  Perils mentioned by Pliny the Elder (23 A.D. t...   \n",
       "5868  Reported by Greek poet, Leonidas of Tarentum (...   \n",
       "\n",
       "                                     Pdf  \\\n",
       "2731             1983.00.00.d-Shenoy.pdf   \n",
       "3792  1960.01.26-Portuguese airliner.pdf   \n",
       "4005             1956.09.13-TunaBoat.pdf   \n",
       "4473               1942.11.00.a-Izzi.pdf   \n",
       "4485         1942.06.00-on-life-raft.pdf   \n",
       "5370    1897.03.15.b.R-Mediterranean.pdf   \n",
       "5558           1881.08.16.R-Sedgwick.pdf   \n",
       "5866                      77AD-Pliny.pdf   \n",
       "5868                   214BC-Tharsys.pdf   \n",
       "\n",
       "                                           Href Formula  \\\n",
       "2731  http://sharkattackfile.net/spreadsheets/pdf_di...   \n",
       "3792  http://sharkattackfile.net/spreadsheets/pdf_di...   \n",
       "4005  http://sharkattackfile.net/spreadsheets/pdf_di...   \n",
       "4473  http://sharkattackfile.net/spreadsheets/pdf_di...   \n",
       "4485  http://sharkattackfile.net/spreadsheets/pdf_di...   \n",
       "5370  http://sharkattackfile.net/spreadsheets/pdf_di...   \n",
       "5558  http://sharkattackfile.net/spreadsheets/pdf_di...   \n",
       "5866  http://sharkattackfile.net/spreadsheets/pdf_di...   \n",
       "5868  http://sharkattackfile.net/spreadsheets/pdf_di...   \n",
       "\n",
       "                                                   Href  Original Order  \n",
       "2731  http://sharkattackfile.net/spreadsheets/pdf_di...            3262  \n",
       "3792  http://sharkattackfile.net/spreadsheets/pdf_di...            2201  \n",
       "4005  http://sharkattackfile.net/spreadsheets/pdf_di...            1988  \n",
       "4473  http://sharkattackfile.net/spreadsheets/pdf_di...            1520  \n",
       "4485  http://sharkattackfile.net/spreadsheets/pdf_di...            1508  \n",
       "5370  http://sharkattackfile.net/spreadsheets/pdf_di...             623  \n",
       "5558  http://sharkattackfile.net/spreadsheets/pdf_di...             435  \n",
       "5866  http://sharkattackfile.net/spreadsheets/pdf_di...             127  \n",
       "5868  http://sharkattackfile.net/spreadsheets/pdf_di...             125  "
      ]
     },
     "execution_count": 204,
     "metadata": {},
     "output_type": "execute_result"
    }
   ],
   "source": [
    "data[(data[\"Location\"].isnull()) & (data[\"Area\"].notnull()) & (data[\"Country\"].isnull())]"
   ]
  },
  {
   "cell_type": "markdown",
   "metadata": {},
   "source": [
    "We will DROP this ROWS given that the Areas are very big."
   ]
  },
  {
   "cell_type": "code",
   "execution_count": 205,
   "metadata": {
    "ExecuteTime": {
     "end_time": "2020-02-06T22:28:03.846423Z",
     "start_time": "2020-02-06T22:28:03.803181Z"
    },
    "code_folding": []
   },
   "outputs": [],
   "source": [
    "filter_by_area = data[(data[\"Location\"].isnull()) & (data[\"Area\"].notnull()) & (data[\"Country\"].isnull())]\n",
    "drop_rows(filter_by_area)"
   ]
  },
  {
   "cell_type": "markdown",
   "metadata": {},
   "source": [
    "Double check how many NULLs `Country` has to make sure the function works."
   ]
  },
  {
   "cell_type": "code",
   "execution_count": 206,
   "metadata": {
    "ExecuteTime": {
     "end_time": "2020-02-06T22:28:04.655664Z",
     "start_time": "2020-02-06T22:28:04.643912Z"
    }
   },
   "outputs": [
    {
     "data": {
      "text/plain": [
       "18"
      ]
     },
     "execution_count": 206,
     "metadata": {},
     "output_type": "execute_result"
    },
    {
     "data": {
      "text/plain": [
       "0.30236855367041826"
      ]
     },
     "execution_count": 206,
     "metadata": {},
     "output_type": "execute_result"
    }
   ],
   "source": [
    "data[\"Country\"].isnull().sum()\n",
    "data[\"Country\"].isnull().sum()* 100 / len(data)"
   ]
  },
  {
   "cell_type": "markdown",
   "metadata": {},
   "source": [
    "We can see we have reduced from 43 to 5 NULL ROWs in `Country` and once that the corresponding ROWS have been DROP we can start to complete the missing information.\n",
    "\n",
    "To complete the missing information we will have to extract it from `Location` and `Area` to traspass it to `Country`."
   ]
  },
  {
   "cell_type": "code",
   "execution_count": 207,
   "metadata": {
    "ExecuteTime": {
     "end_time": "2020-02-06T22:28:05.584369Z",
     "start_time": "2020-02-06T22:28:05.556856Z"
    }
   },
   "outputs": [
    {
     "data": {
      "text/html": [
       "<div>\n",
       "<style scoped>\n",
       "    .dataframe tbody tr th:only-of-type {\n",
       "        vertical-align: middle;\n",
       "    }\n",
       "\n",
       "    .dataframe tbody tr th {\n",
       "        vertical-align: top;\n",
       "    }\n",
       "\n",
       "    .dataframe thead th {\n",
       "        text-align: right;\n",
       "    }\n",
       "</style>\n",
       "<table border=\"1\" class=\"dataframe\">\n",
       "  <thead>\n",
       "    <tr style=\"text-align: right;\">\n",
       "      <th></th>\n",
       "      <th>Case Number</th>\n",
       "      <th>Case Number 1</th>\n",
       "      <th>Case Number 2</th>\n",
       "      <th>Date</th>\n",
       "      <th>Year</th>\n",
       "      <th>Country</th>\n",
       "      <th>Area</th>\n",
       "      <th>Location</th>\n",
       "      <th>Name</th>\n",
       "      <th>Sex</th>\n",
       "      <th>Activity</th>\n",
       "      <th>Type</th>\n",
       "      <th>Injury</th>\n",
       "      <th>Fatal</th>\n",
       "      <th>Investigator or Source</th>\n",
       "      <th>Pdf</th>\n",
       "      <th>Href Formula</th>\n",
       "      <th>Href</th>\n",
       "      <th>Original Order</th>\n",
       "    </tr>\n",
       "  </thead>\n",
       "  <tbody>\n",
       "    <tr>\n",
       "      <th>3162</th>\n",
       "      <td>1970.08.02</td>\n",
       "      <td>1970.08.02</td>\n",
       "      <td>1970.08.02</td>\n",
       "      <td>02-Aug-70</td>\n",
       "      <td>1970</td>\n",
       "      <td>NaN</td>\n",
       "      <td>Caribbean Sea</td>\n",
       "      <td>Between St. Kitts &amp; Nevis</td>\n",
       "      <td>NaN</td>\n",
       "      <td>NaN</td>\n",
       "      <td>Sea Disaster Sinking of ferryboat Christina</td>\n",
       "      <td>Invalid</td>\n",
       "      <td>Sharks scavenged on bodies, but no record of t...</td>\n",
       "      <td>Y</td>\n",
       "      <td>Rome News Tribune, 8/3/1970</td>\n",
       "      <td>1970.08.02-Christina-ferryboat.pdf</td>\n",
       "      <td>http://sharkattackfile.net/spreadsheets/pdf_di...</td>\n",
       "      <td>http://sharkattackfile.net/spreadsheets/pdf_di...</td>\n",
       "      <td>2831</td>\n",
       "    </tr>\n",
       "    <tr>\n",
       "      <th>4040</th>\n",
       "      <td>1956.00.00.g</td>\n",
       "      <td>1956.00.00.g</td>\n",
       "      <td>1956.00.00.g</td>\n",
       "      <td>1956</td>\n",
       "      <td>1956</td>\n",
       "      <td>NaN</td>\n",
       "      <td>Between Comores &amp; Madagascar</td>\n",
       "      <td>Geyser Bank</td>\n",
       "      <td>Captain Eric Hunt, the cook &amp; a French passenger</td>\n",
       "      <td>M</td>\n",
       "      <td>Shipwreck</td>\n",
       "      <td>Sea Disaster</td>\n",
       "      <td>FATAL</td>\n",
       "      <td>Y</td>\n",
       "      <td>dinofish.com</td>\n",
       "      <td>1956.00.00.g-Capt-Hunt.pdf</td>\n",
       "      <td>http://sharkattackfile.net/spreadsheets/pdf_di...</td>\n",
       "      <td>http://sharkattackfile.net/spreadsheets/pdf_di...</td>\n",
       "      <td>1953</td>\n",
       "    </tr>\n",
       "    <tr>\n",
       "      <th>4271</th>\n",
       "      <td>1949.12.00.b</td>\n",
       "      <td>1949.12.00.b</td>\n",
       "      <td>1949.12.00.b</td>\n",
       "      <td>Dec-49</td>\n",
       "      <td>1949</td>\n",
       "      <td>NaN</td>\n",
       "      <td>Caribbean Sea</td>\n",
       "      <td>Between  Cuba  &amp; Costa Rica</td>\n",
       "      <td>Albert Battles, James Dean &amp; 4 crew</td>\n",
       "      <td>M</td>\n",
       "      <td>Sea Disaster, sinking of the motorship Wingate</td>\n",
       "      <td>Sea Disaster</td>\n",
       "      <td>Fatal or drowning or scavenging</td>\n",
       "      <td>Y</td>\n",
       "      <td>Canberra Times, 1/6/1950</td>\n",
       "      <td>1949.12.00.b-Wingate.pdf</td>\n",
       "      <td>http://sharkattackfile.net/spreadsheets/pdf_di...</td>\n",
       "      <td>http://sharkattackfile.net/spreadsheets/pdf_di...</td>\n",
       "      <td>1722</td>\n",
       "    </tr>\n",
       "    <tr>\n",
       "      <th>4790</th>\n",
       "      <td>1931.04.27.R</td>\n",
       "      <td>1931.04.27.R</td>\n",
       "      <td>1931.04.27.R</td>\n",
       "      <td>Reported 27-Apr-1931</td>\n",
       "      <td>1931</td>\n",
       "      <td>NaN</td>\n",
       "      <td>French Southern Territories</td>\n",
       "      <td>�le Saint-Paul</td>\n",
       "      <td>Quillezic</td>\n",
       "      <td>M</td>\n",
       "      <td>Fishing, boat capsized</td>\n",
       "      <td>Unprovoked</td>\n",
       "      <td>FATAL</td>\n",
       "      <td>Y</td>\n",
       "      <td>Los Angeles Times, 4/27/1931</td>\n",
       "      <td>1931.04.27.R-Quillezic.pdf</td>\n",
       "      <td>http://sharkattackfile.net/spreadsheets/pdf_di...</td>\n",
       "      <td>http://sharkattackfile.net/spreadsheets/pdf_di...</td>\n",
       "      <td>1203</td>\n",
       "    </tr>\n",
       "  </tbody>\n",
       "</table>\n",
       "</div>"
      ],
      "text/plain": [
       "       Case Number Case Number 1 Case Number 2                  Date  Year  \\\n",
       "3162    1970.08.02    1970.08.02    1970.08.02             02-Aug-70  1970   \n",
       "4040  1956.00.00.g  1956.00.00.g  1956.00.00.g                  1956  1956   \n",
       "4271  1949.12.00.b  1949.12.00.b  1949.12.00.b                Dec-49  1949   \n",
       "4790  1931.04.27.R  1931.04.27.R  1931.04.27.R  Reported 27-Apr-1931  1931   \n",
       "\n",
       "     Country                          Area                     Location  \\\n",
       "3162     NaN                 Caribbean Sea    Between St. Kitts & Nevis   \n",
       "4040     NaN  Between Comores & Madagascar                  Geyser Bank   \n",
       "4271     NaN                 Caribbean Sea  Between  Cuba  & Costa Rica   \n",
       "4790     NaN   French Southern Territories               �le Saint-Paul   \n",
       "\n",
       "                                                  Name  Sex  \\\n",
       "3162                                               NaN  NaN   \n",
       "4040  Captain Eric Hunt, the cook & a French passenger    M   \n",
       "4271               Albert Battles, James Dean & 4 crew    M   \n",
       "4790                                         Quillezic    M   \n",
       "\n",
       "                                            Activity          Type  \\\n",
       "3162     Sea Disaster Sinking of ferryboat Christina       Invalid   \n",
       "4040                                       Shipwreck  Sea Disaster   \n",
       "4271  Sea Disaster, sinking of the motorship Wingate  Sea Disaster   \n",
       "4790                          Fishing, boat capsized    Unprovoked   \n",
       "\n",
       "                                                 Injury Fatal  \\\n",
       "3162  Sharks scavenged on bodies, but no record of t...     Y   \n",
       "4040                                              FATAL     Y   \n",
       "4271                    Fatal or drowning or scavenging     Y   \n",
       "4790                                              FATAL     Y   \n",
       "\n",
       "            Investigator or Source                                 Pdf  \\\n",
       "3162   Rome News Tribune, 8/3/1970  1970.08.02-Christina-ferryboat.pdf   \n",
       "4040                  dinofish.com          1956.00.00.g-Capt-Hunt.pdf   \n",
       "4271      Canberra Times, 1/6/1950            1949.12.00.b-Wingate.pdf   \n",
       "4790  Los Angeles Times, 4/27/1931          1931.04.27.R-Quillezic.pdf   \n",
       "\n",
       "                                           Href Formula  \\\n",
       "3162  http://sharkattackfile.net/spreadsheets/pdf_di...   \n",
       "4040  http://sharkattackfile.net/spreadsheets/pdf_di...   \n",
       "4271  http://sharkattackfile.net/spreadsheets/pdf_di...   \n",
       "4790  http://sharkattackfile.net/spreadsheets/pdf_di...   \n",
       "\n",
       "                                                   Href  Original Order  \n",
       "3162  http://sharkattackfile.net/spreadsheets/pdf_di...            2831  \n",
       "4040  http://sharkattackfile.net/spreadsheets/pdf_di...            1953  \n",
       "4271  http://sharkattackfile.net/spreadsheets/pdf_di...            1722  \n",
       "4790  http://sharkattackfile.net/spreadsheets/pdf_di...            1203  "
      ]
     },
     "execution_count": 207,
     "metadata": {},
     "output_type": "execute_result"
    }
   ],
   "source": [
    "data[(data[\"Location\"].notnull()) & (data[\"Area\"].notnull()) & (data[\"Country\"].isnull())]"
   ]
  },
  {
   "cell_type": "markdown",
   "metadata": {},
   "source": [
    "We will traspas the proper information and eliminate the ROW where there was no shark involved"
   ]
  },
  {
   "cell_type": "code",
   "execution_count": 208,
   "metadata": {
    "ExecuteTime": {
     "end_time": "2020-02-06T22:28:06.826082Z",
     "start_time": "2020-02-06T22:28:06.468543Z"
    }
   },
   "outputs": [
    {
     "name": "stderr",
     "output_type": "stream",
     "text": [
      "/usr/local/lib/python3.7/site-packages/ipykernel_launcher.py:5: SettingWithCopyWarning: \n",
      "A value is trying to be set on a copy of a slice from a DataFrame\n",
      "\n",
      "See the caveats in the documentation: http://pandas.pydata.org/pandas-docs/stable/user_guide/indexing.html#returning-a-view-versus-a-copy\n",
      "  \"\"\"\n",
      "/usr/local/lib/python3.7/site-packages/ipykernel_launcher.py:3: SettingWithCopyWarning: \n",
      "A value is trying to be set on a copy of a slice from a DataFrame\n",
      "\n",
      "See the caveats in the documentation: http://pandas.pydata.org/pandas-docs/stable/user_guide/indexing.html#returning-a-view-versus-a-copy\n",
      "  This is separate from the ipykernel package so we can avoid doing imports until\n",
      "/usr/local/lib/python3.7/site-packages/ipykernel_launcher.py:7: SettingWithCopyWarning: \n",
      "A value is trying to be set on a copy of a slice from a DataFrame\n",
      "\n",
      "See the caveats in the documentation: http://pandas.pydata.org/pandas-docs/stable/user_guide/indexing.html#returning-a-view-versus-a-copy\n",
      "  import sys\n"
     ]
    }
   ],
   "source": [
    "for i in data.index: \n",
    "    if data[\"Area\"][i] == \"Between Comores & Madagascar\":\n",
    "        data[\"Country\"][i] = \"Madagascar\"\n",
    "    elif data[\"Location\"][i] == \"Between St. Kitts & Nevis\":\n",
    "        data[\"Country\"][i] = \"St. Kitts & Nevis\"\n",
    "    elif data[\"Location\"][i] == \"�le Saint-Paul\":\n",
    "        data[\"Country\"][i] = \"Le Saint-Paul\""
   ]
  },
  {
   "cell_type": "code",
   "execution_count": 209,
   "metadata": {
    "ExecuteTime": {
     "end_time": "2020-02-06T22:28:06.911431Z",
     "start_time": "2020-02-06T22:28:06.897471Z"
    }
   },
   "outputs": [],
   "source": [
    "no_shark = data[(data[\"Location\"].notnull()) & (data[\"Area\"].notnull()) & (data[\"Country\"].isnull())]\n",
    "drop_rows(no_shark)"
   ]
  },
  {
   "cell_type": "markdown",
   "metadata": {},
   "source": [
    "Double check how many NULLs `Country` has to make sure the function works."
   ]
  },
  {
   "cell_type": "code",
   "execution_count": 210,
   "metadata": {
    "ExecuteTime": {
     "end_time": "2020-02-06T22:28:07.723853Z",
     "start_time": "2020-02-06T22:28:07.716155Z"
    }
   },
   "outputs": [
    {
     "data": {
      "text/plain": [
       "15"
      ]
     },
     "execution_count": 210,
     "metadata": {},
     "output_type": "execute_result"
    }
   ],
   "source": [
    "data[\"Country\"].isnull().sum()"
   ]
  },
  {
   "cell_type": "code",
   "execution_count": 211,
   "metadata": {
    "ExecuteTime": {
     "end_time": "2020-02-06T22:28:08.057000Z",
     "start_time": "2020-02-06T22:28:08.051526Z"
    }
   },
   "outputs": [
    {
     "data": {
      "text/plain": [
       "(5952, 19)"
      ]
     },
     "execution_count": 211,
     "metadata": {},
     "output_type": "execute_result"
    }
   ],
   "source": [
    "data.shape"
   ]
  },
  {
   "cell_type": "markdown",
   "metadata": {},
   "source": [
    "Given that we have transfered all the needed information to `Country` we will drop the other two columns: `Area` & `Location`."
   ]
  },
  {
   "cell_type": "code",
   "execution_count": 212,
   "metadata": {
    "ExecuteTime": {
     "end_time": "2020-02-06T22:28:09.059310Z",
     "start_time": "2020-02-06T22:28:09.051415Z"
    }
   },
   "outputs": [],
   "source": [
    "area_locat = [\"Area\", \"Location\"]\n",
    "data = data.drop(area_locat, axis = 1)"
   ]
  },
  {
   "cell_type": "markdown",
   "metadata": {},
   "source": [
    "We will check the information in the column to regularize it."
   ]
  },
  {
   "cell_type": "code",
   "execution_count": 213,
   "metadata": {
    "ExecuteTime": {
     "end_time": "2020-02-06T22:28:09.964451Z",
     "start_time": "2020-02-06T22:28:09.956401Z"
    }
   },
   "outputs": [
    {
     "data": {
      "text/plain": [
       "array(['USA', 'AUSTRALIA', 'NEW CALEDONIA', 'REUNION', 'BAHAMAS', 'SPAIN',\n",
       "       'CHINA', 'JAPAN', 'COLUMBIA', 'SOUTH AFRICA', 'EGYPT',\n",
       "       'NEW ZEALAND', 'INDONESIA', 'FRENCH POLYNESIA', 'CAPE VERDE',\n",
       "       'Fiji', 'BRAZIL', 'DOMINICAN REPUBLIC', 'CAYMAN ISLANDS',\n",
       "       'UNITED ARAB EMIRATES', 'ARUBA', 'MOZAMBIQUE', 'THAILAND', 'FIJI',\n",
       "       'PUERTO RICO', 'ITALY', 'MEXICO', 'ATLANTIC OCEAN', 'GREECE',\n",
       "       'MAURITIUS', 'ST. MARTIN', 'FRANCE', 'ECUADOR', 'PAPUA NEW GUINEA',\n",
       "       'TRINIDAD & TOBAGO', 'KIRIBATI', 'ISRAEL', 'DIEGO GARCIA',\n",
       "       'TAIWAN', 'JAMAICA', 'PALESTINIAN TERRITORIES', 'GUAM',\n",
       "       'SEYCHELLES', 'BELIZE', 'PHILIPPINES', 'NIGERIA', 'TONGA',\n",
       "       'SCOTLAND', 'CANADA', 'CROATIA', 'SAUDI ARABIA', 'CHILE',\n",
       "       'ANTIGUA', 'KENYA', 'RUSSIA', 'TURKS & CAICOS', 'COSTA RICA',\n",
       "       'UNITED KINGDOM', 'MALAYSIA', 'UNITED ARAB EMIRATES (UAE)',\n",
       "       'SAMOA', 'AZORES', 'SOLOMON ISLANDS', 'SOUTH KOREA', 'MALTA',\n",
       "       'VIETNAM', 'MADAGASCAR', 'PANAMA', 'SOMALIA', 'NEVIS', 'CUBA',\n",
       "       'ENGLAND', 'BRITISH VIRGIN ISLANDS', 'NORWAY', 'SENEGAL', 'YEMEN',\n",
       "       'GULF OF ADEN', 'Sierra Leone', 'ST. MAARTIN', 'GRAND CAYMAN',\n",
       "       'Seychelles', 'LIBERIA', 'VANUATU', 'MEXICO ', 'HONDURAS',\n",
       "       'VENEZUELA', 'SRI LANKA', ' TONGA', 'URUGUAY', 'INDIA',\n",
       "       'MICRONESIA', 'CARIBBEAN SEA', 'OKINAWA', 'TANZANIA',\n",
       "       'MARSHALL ISLANDS', 'EGYPT / ISRAEL', 'NORTHERN ARABIAN SEA',\n",
       "       'HONG KONG', 'EL SALVADOR', 'ANGOLA', 'BERMUDA', 'MONTENEGRO',\n",
       "       'IRAN', nan, 'TUNISIA', 'NAMIBIA', 'NORTH ATLANTIC OCEAN',\n",
       "       'PORTUGAL', 'SOUTH CHINA SEA', 'BANGLADESH', 'PALAU',\n",
       "       'WESTERN SAMOA', 'PACIFIC OCEAN ', 'BRITISH ISLES',\n",
       "       'St. Kitts & Nevis', 'GRENADA', 'IRAQ', 'TURKEY', 'SINGAPORE',\n",
       "       'NEW BRITAIN', 'SUDAN', 'JOHNSTON ISLAND', 'SOUTH PACIFIC OCEAN',\n",
       "       'NEW GUINEA', 'RED SEA', 'NORTH PACIFIC OCEAN',\n",
       "       'FEDERATED STATES OF MICRONESIA', 'MID ATLANTIC OCEAN',\n",
       "       'ADMIRALTY ISLANDS', 'BRITISH WEST INDIES', 'SOUTH ATLANTIC OCEAN',\n",
       "       'PERSIAN GULF', 'RED SEA / INDIAN OCEAN', 'PACIFIC OCEAN',\n",
       "       'NORTH SEA', 'NICARAGUA ', 'MALDIVE ISLANDS', 'AMERICAN SAMOA',\n",
       "       'ANDAMAN / NICOBAR ISLANDAS', 'GABON', 'MAYOTTE', 'Madagascar',\n",
       "       'NORTH ATLANTIC OCEAN ', 'THE BALKANS', 'SUDAN?', 'ARGENTINA',\n",
       "       'MARTINIQUE', 'INDIAN OCEAN', 'GUATEMALA', 'NETHERLANDS ANTILLES',\n",
       "       'NORTHERN MARIANA ISLANDS', 'IRAN / IRAQ', 'JAVA', 'SIERRA LEONE',\n",
       "       ' PHILIPPINES', 'NICARAGUA', 'CENTRAL PACIFIC',\n",
       "       'SOLOMON ISLANDS / VANUATU', 'SOUTHWEST PACIFIC OCEAN',\n",
       "       'MID-PACIFC OCEAN', 'SLOVENIA', 'CURACAO', 'ITALY / CROATIA',\n",
       "       'BARBADOS', 'Le Saint-Paul', 'MONACO', 'GUYANA', 'HAITI',\n",
       "       'SAN DOMINGO', 'IRELAND', 'KUWAIT', 'LIBYA', 'YEMEN ',\n",
       "       'MEDITERRANEAN SEA?', 'FALKLAND ISLANDS', 'CRETE', 'CYPRUS',\n",
       "       'EGYPT ', 'BURMA', 'LEBANON', 'PARAGUAY', 'BRITISH NEW GUINEA',\n",
       "       'OCEAN', 'GEORGIA', 'SYRIA', 'TUVALU', 'INDIAN OCEAN?', 'GUINEA',\n",
       "       'EQUATORIAL GUINEA / CAMEROON', 'COOK ISLANDS', 'ALGERIA',\n",
       "       'Coast of AFRICA', 'TASMAN SEA', 'GHANA', 'St Helena', 'GREENLAND',\n",
       "       'MEDITERRANEAN SEA', 'SWEDEN', 'ICELAND',\n",
       "       'Between PORTUGAL & INDIA', 'DJIBOUTI', 'BAHREIN', 'KOREA',\n",
       "       'RED SEA?', 'ASIA?', 'CEYLON (SRI LANKA)'], dtype=object)"
      ]
     },
     "execution_count": 213,
     "metadata": {},
     "output_type": "execute_result"
    }
   ],
   "source": [
    "pd.unique(data[\"Country\"])"
   ]
  },
  {
   "cell_type": "code",
   "execution_count": 214,
   "metadata": {
    "ExecuteTime": {
     "end_time": "2020-02-06T22:28:10.567477Z",
     "start_time": "2020-02-06T22:28:10.548524Z"
    }
   },
   "outputs": [],
   "source": [
    "countries = []\n",
    "for x in data[\"Country\"]:\n",
    "    z = []\n",
    "    if x == \"USA\":\n",
    "        countries.append(x)\n",
    "    else:\n",
    "        x = str(x).strip().title()\n",
    "        countries.append(x)\n",
    "data[\"Country\"] = countries"
   ]
  },
  {
   "cell_type": "code",
   "execution_count": 215,
   "metadata": {
    "ExecuteTime": {
     "end_time": "2020-02-06T22:28:11.028875Z",
     "start_time": "2020-02-06T22:28:10.970628Z"
    }
   },
   "outputs": [],
   "source": [
    "filter_by_nan = data[data[\"Country\"] == \"Nan\"]\n",
    "drop_rows(filter_by_nan)"
   ]
  },
  {
   "cell_type": "code",
   "execution_count": 216,
   "metadata": {
    "ExecuteTime": {
     "end_time": "2020-02-06T22:28:11.501039Z",
     "start_time": "2020-02-06T22:28:11.493134Z"
    }
   },
   "outputs": [
    {
     "data": {
      "text/plain": [
       "array(['USA', 'Australia', 'New Caledonia', 'Reunion', 'Bahamas', 'Spain',\n",
       "       'China', 'Japan', 'Columbia', 'South Africa', 'Egypt',\n",
       "       'New Zealand', 'Indonesia', 'French Polynesia', 'Cape Verde',\n",
       "       'Fiji', 'Brazil', 'Dominican Republic', 'Cayman Islands',\n",
       "       'United Arab Emirates', 'Aruba', 'Mozambique', 'Thailand',\n",
       "       'Puerto Rico', 'Italy', 'Mexico', 'Atlantic Ocean', 'Greece',\n",
       "       'Mauritius', 'St. Martin', 'France', 'Ecuador', 'Papua New Guinea',\n",
       "       'Trinidad & Tobago', 'Kiribati', 'Israel', 'Diego Garcia',\n",
       "       'Taiwan', 'Jamaica', 'Palestinian Territories', 'Guam',\n",
       "       'Seychelles', 'Belize', 'Philippines', 'Nigeria', 'Tonga',\n",
       "       'Scotland', 'Canada', 'Croatia', 'Saudi Arabia', 'Chile',\n",
       "       'Antigua', 'Kenya', 'Russia', 'Turks & Caicos', 'Costa Rica',\n",
       "       'United Kingdom', 'Malaysia', 'United Arab Emirates (Uae)',\n",
       "       'Samoa', 'Azores', 'Solomon Islands', 'South Korea', 'Malta',\n",
       "       'Vietnam', 'Madagascar', 'Panama', 'Somalia', 'Nevis', 'Cuba',\n",
       "       'England', 'British Virgin Islands', 'Norway', 'Senegal', 'Yemen',\n",
       "       'Gulf Of Aden', 'Sierra Leone', 'St. Maartin', 'Grand Cayman',\n",
       "       'Liberia', 'Vanuatu', 'Honduras', 'Venezuela', 'Sri Lanka',\n",
       "       'Uruguay', 'India', 'Micronesia', 'Caribbean Sea', 'Okinawa',\n",
       "       'Tanzania', 'Marshall Islands', 'Egypt / Israel',\n",
       "       'Northern Arabian Sea', 'Hong Kong', 'El Salvador', 'Angola',\n",
       "       'Bermuda', 'Montenegro', 'Iran', 'Nan', 'Tunisia', 'Namibia',\n",
       "       'North Atlantic Ocean', 'Portugal', 'South China Sea',\n",
       "       'Bangladesh', 'Palau', 'Western Samoa', 'Pacific Ocean',\n",
       "       'British Isles', 'St. Kitts & Nevis', 'Grenada', 'Iraq', 'Turkey',\n",
       "       'Singapore', 'New Britain', 'Sudan', 'Johnston Island',\n",
       "       'South Pacific Ocean', 'New Guinea', 'Red Sea',\n",
       "       'North Pacific Ocean', 'Federated States Of Micronesia',\n",
       "       'Mid Atlantic Ocean', 'Admiralty Islands', 'British West Indies',\n",
       "       'South Atlantic Ocean', 'Persian Gulf', 'Red Sea / Indian Ocean',\n",
       "       'North Sea', 'Nicaragua', 'Maldive Islands', 'American Samoa',\n",
       "       'Andaman / Nicobar Islandas', 'Gabon', 'Mayotte', 'The Balkans',\n",
       "       'Sudan?', 'Argentina', 'Martinique', 'Indian Ocean', 'Guatemala',\n",
       "       'Netherlands Antilles', 'Northern Mariana Islands', 'Iran / Iraq',\n",
       "       'Java', 'Central Pacific', 'Solomon Islands / Vanuatu',\n",
       "       'Southwest Pacific Ocean', 'Mid-Pacifc Ocean', 'Slovenia',\n",
       "       'Curacao', 'Italy / Croatia', 'Barbados', 'Le Saint-Paul',\n",
       "       'Monaco', 'Guyana', 'Haiti', 'San Domingo', 'Ireland', 'Kuwait',\n",
       "       'Libya', 'Mediterranean Sea?', 'Falkland Islands', 'Crete',\n",
       "       'Cyprus', 'Burma', 'Lebanon', 'Paraguay', 'British New Guinea',\n",
       "       'Ocean', 'Georgia', 'Syria', 'Tuvalu', 'Indian Ocean?', 'Guinea',\n",
       "       'Equatorial Guinea / Cameroon', 'Cook Islands', 'Algeria',\n",
       "       'Coast Of Africa', 'Tasman Sea', 'Ghana', 'St Helena', 'Greenland',\n",
       "       'Mediterranean Sea', 'Sweden', 'Iceland',\n",
       "       'Between Portugal & India', 'Djibouti', 'Bahrein', 'Korea',\n",
       "       'Red Sea?', 'Asia?', 'Ceylon (Sri Lanka)'], dtype=object)"
      ]
     },
     "execution_count": 216,
     "metadata": {},
     "output_type": "execute_result"
    }
   ],
   "source": [
    "pd.unique(data[\"Country\"])"
   ]
  },
  {
   "cell_type": "markdown",
   "metadata": {},
   "source": [
    "### GROUP 2: Fatal & Injury"
   ]
  },
  {
   "cell_type": "markdown",
   "metadata": {},
   "source": [
    "We will focus on `Fatal` so we will be droping all of those ROW where we can't exctract information `Injury`. <br>\n",
    "<br>To double check the information we will start by checking how many NULLs `Fatal` has."
   ]
  },
  {
   "cell_type": "code",
   "execution_count": 217,
   "metadata": {
    "ExecuteTime": {
     "end_time": "2020-02-06T22:28:13.085016Z",
     "start_time": "2020-02-06T22:28:13.077034Z"
    }
   },
   "outputs": [
    {
     "data": {
      "text/plain": [
       "18"
      ]
     },
     "execution_count": 217,
     "metadata": {},
     "output_type": "execute_result"
    }
   ],
   "source": [
    "data[\"Fatal\"].isnull().sum()"
   ]
  },
  {
   "cell_type": "markdown",
   "metadata": {},
   "source": [
    "Using the function we will DROP all the ROWS where `Fatal` and `Injury` are NULL"
   ]
  },
  {
   "cell_type": "code",
   "execution_count": 218,
   "metadata": {
    "ExecuteTime": {
     "end_time": "2020-02-06T22:28:14.252301Z",
     "start_time": "2020-02-06T22:28:14.236865Z"
    }
   },
   "outputs": [
    {
     "data": {
      "text/html": [
       "<div>\n",
       "<style scoped>\n",
       "    .dataframe tbody tr th:only-of-type {\n",
       "        vertical-align: middle;\n",
       "    }\n",
       "\n",
       "    .dataframe tbody tr th {\n",
       "        vertical-align: top;\n",
       "    }\n",
       "\n",
       "    .dataframe thead th {\n",
       "        text-align: right;\n",
       "    }\n",
       "</style>\n",
       "<table border=\"1\" class=\"dataframe\">\n",
       "  <thead>\n",
       "    <tr style=\"text-align: right;\">\n",
       "      <th></th>\n",
       "      <th>Case Number</th>\n",
       "      <th>Case Number 1</th>\n",
       "      <th>Case Number 2</th>\n",
       "      <th>Date</th>\n",
       "      <th>Year</th>\n",
       "      <th>Country</th>\n",
       "      <th>Name</th>\n",
       "      <th>Sex</th>\n",
       "      <th>Activity</th>\n",
       "      <th>Type</th>\n",
       "      <th>Injury</th>\n",
       "      <th>Fatal</th>\n",
       "      <th>Investigator or Source</th>\n",
       "      <th>Pdf</th>\n",
       "      <th>Href Formula</th>\n",
       "      <th>Href</th>\n",
       "      <th>Original Order</th>\n",
       "    </tr>\n",
       "  </thead>\n",
       "  <tbody>\n",
       "  </tbody>\n",
       "</table>\n",
       "</div>"
      ],
      "text/plain": [
       "Empty DataFrame\n",
       "Columns: [Case Number, Case Number 1, Case Number 2, Date, Year, Country, Name, Sex, Activity, Type, Injury, Fatal, Investigator or Source, Pdf, Href Formula, Href, Original Order]\n",
       "Index: []"
      ]
     },
     "execution_count": 218,
     "metadata": {},
     "output_type": "execute_result"
    }
   ],
   "source": [
    "data[(data[\"Injury\"].isnull()) & (data[\"Fatal\"].isnull())]"
   ]
  },
  {
   "cell_type": "code",
   "execution_count": 219,
   "metadata": {
    "ExecuteTime": {
     "end_time": "2020-02-06T22:28:14.659659Z",
     "start_time": "2020-02-06T22:28:14.651938Z"
    }
   },
   "outputs": [],
   "source": [
    "filter_by_fat_inj = data[(data[\"Injury\"].isnull()) & (data[\"Fatal\"].isnull())]\n",
    "drop_rows(filter_by_fat_inj)"
   ]
  },
  {
   "cell_type": "markdown",
   "metadata": {},
   "source": [
    "Double check how many NULLs `Fatal` has to make sure the function works, we will be doing this every time we pass the function."
   ]
  },
  {
   "cell_type": "code",
   "execution_count": 220,
   "metadata": {
    "ExecuteTime": {
     "end_time": "2020-02-06T22:28:19.619189Z",
     "start_time": "2020-02-06T22:28:19.611819Z"
    }
   },
   "outputs": [
    {
     "data": {
      "text/plain": [
       "18"
      ]
     },
     "execution_count": 220,
     "metadata": {},
     "output_type": "execute_result"
    }
   ],
   "source": [
    "data[\"Fatal\"].isnull().sum()"
   ]
  },
  {
   "cell_type": "markdown",
   "metadata": {},
   "source": [
    "FILTER by `Fatal`: we will check the ROWs where `Fatal` is not NULL."
   ]
  },
  {
   "cell_type": "code",
   "execution_count": 221,
   "metadata": {
    "ExecuteTime": {
     "end_time": "2020-02-06T22:28:22.205603Z",
     "start_time": "2020-02-06T22:28:22.166762Z"
    },
    "scrolled": false
   },
   "outputs": [
    {
     "data": {
      "text/html": [
       "<div>\n",
       "<style scoped>\n",
       "    .dataframe tbody tr th:only-of-type {\n",
       "        vertical-align: middle;\n",
       "    }\n",
       "\n",
       "    .dataframe tbody tr th {\n",
       "        vertical-align: top;\n",
       "    }\n",
       "\n",
       "    .dataframe thead th {\n",
       "        text-align: right;\n",
       "    }\n",
       "</style>\n",
       "<table border=\"1\" class=\"dataframe\">\n",
       "  <thead>\n",
       "    <tr style=\"text-align: right;\">\n",
       "      <th></th>\n",
       "      <th>Case Number</th>\n",
       "      <th>Case Number 1</th>\n",
       "      <th>Case Number 2</th>\n",
       "      <th>Date</th>\n",
       "      <th>Year</th>\n",
       "      <th>Country</th>\n",
       "      <th>Name</th>\n",
       "      <th>Sex</th>\n",
       "      <th>Activity</th>\n",
       "      <th>Type</th>\n",
       "      <th>Injury</th>\n",
       "      <th>Fatal</th>\n",
       "      <th>Investigator or Source</th>\n",
       "      <th>Pdf</th>\n",
       "      <th>Href Formula</th>\n",
       "      <th>Href</th>\n",
       "      <th>Original Order</th>\n",
       "    </tr>\n",
       "  </thead>\n",
       "  <tbody>\n",
       "    <tr>\n",
       "      <th>1047</th>\n",
       "      <td>2008.04.20.a</td>\n",
       "      <td>2008.04.20.a</td>\n",
       "      <td>2008.04.20.a</td>\n",
       "      <td>20-Apr-08</td>\n",
       "      <td>2008</td>\n",
       "      <td>Australia</td>\n",
       "      <td>Jamie Adlington</td>\n",
       "      <td>M</td>\n",
       "      <td>NaN</td>\n",
       "      <td>Unprovoked</td>\n",
       "      <td>NaN</td>\n",
       "      <td>UNKNOWN</td>\n",
       "      <td>T. Peake, GSAF</td>\n",
       "      <td>2008.04.20.a-Adlington.pdf</td>\n",
       "      <td>http://sharkattackfile.net/spreadsheets/pdf_di...</td>\n",
       "      <td>http://sharkattackfile.net/spreadsheets/pdf_di...</td>\n",
       "      <td>4946</td>\n",
       "    </tr>\n",
       "    <tr>\n",
       "      <th>1142</th>\n",
       "      <td>2007.07.00</td>\n",
       "      <td>2007.07.00</td>\n",
       "      <td>2007.07.00</td>\n",
       "      <td>Jul-07</td>\n",
       "      <td>2007</td>\n",
       "      <td>Senegal</td>\n",
       "      <td>Alex Takyi</td>\n",
       "      <td>NaN</td>\n",
       "      <td>Murder</td>\n",
       "      <td>Invalid</td>\n",
       "      <td>NaN</td>\n",
       "      <td>UNKNOWN</td>\n",
       "      <td>Daily Guide, 8/20/2007</td>\n",
       "      <td>2007.07.00-Takyi.pdf</td>\n",
       "      <td>http://sharkattackfile.net/spreadsheets/pdf_di...</td>\n",
       "      <td>http://sharkattackfile.net/spreadsheets/pdf_di...</td>\n",
       "      <td>4851</td>\n",
       "    </tr>\n",
       "    <tr>\n",
       "      <th>2025</th>\n",
       "      <td>1997.06.07</td>\n",
       "      <td>1997.06.07</td>\n",
       "      <td>1997.06.07</td>\n",
       "      <td>07-Jun-97</td>\n",
       "      <td>1997</td>\n",
       "      <td>Brazil</td>\n",
       "      <td>Jos� Luiz Lipiani</td>\n",
       "      <td>M</td>\n",
       "      <td>Bathing</td>\n",
       "      <td>Unprovoked</td>\n",
       "      <td>NaN</td>\n",
       "      <td>UNKNOWN</td>\n",
       "      <td>Globo, 6/9/1997</td>\n",
       "      <td>1997.06.07-NV-Lipiani.pdf</td>\n",
       "      <td>http://sharkattackfile.net/spreadsheets/pdf_di...</td>\n",
       "      <td>http://sharkattackfile.net/spreadsheets/pdf_di...</td>\n",
       "      <td>3968</td>\n",
       "    </tr>\n",
       "    <tr>\n",
       "      <th>2042</th>\n",
       "      <td>1996.12.29</td>\n",
       "      <td>1996.12.29</td>\n",
       "      <td>1996.12.29</td>\n",
       "      <td>29-Dec-96</td>\n",
       "      <td>1996</td>\n",
       "      <td>Australia</td>\n",
       "      <td>Blair Hall</td>\n",
       "      <td>M</td>\n",
       "      <td>Surfing</td>\n",
       "      <td>Unprovoked</td>\n",
       "      <td>NaN</td>\n",
       "      <td>UNKNOWN</td>\n",
       "      <td>The Advertiser, 12/30/1996, p.3</td>\n",
       "      <td>1996.12.29-BlairHall.pdf</td>\n",
       "      <td>http://sharkattackfile.net/spreadsheets/pdf_di...</td>\n",
       "      <td>http://sharkattackfile.net/spreadsheets/pdf_di...</td>\n",
       "      <td>3951</td>\n",
       "    </tr>\n",
       "    <tr>\n",
       "      <th>2423</th>\n",
       "      <td>1990.00.00</td>\n",
       "      <td>1990.00.00</td>\n",
       "      <td>1990.00.00</td>\n",
       "      <td>1990</td>\n",
       "      <td>1990</td>\n",
       "      <td>USA</td>\n",
       "      <td>male</td>\n",
       "      <td>M</td>\n",
       "      <td>Surfing</td>\n",
       "      <td>Unprovoked</td>\n",
       "      <td>NaN</td>\n",
       "      <td>UNKNOWN</td>\n",
       "      <td>NaN</td>\n",
       "      <td>1990.00.00-NV-Pensacola.pdf</td>\n",
       "      <td>http://sharkattackfile.net/spreadsheets/pdf_di...</td>\n",
       "      <td>http://sharkattackfile.net/spreadsheets/pdf_di...</td>\n",
       "      <td>3571</td>\n",
       "    </tr>\n",
       "    <tr>\n",
       "      <th>2813</th>\n",
       "      <td>1981.03.00</td>\n",
       "      <td>1981.03.00</td>\n",
       "      <td>1981.03.00</td>\n",
       "      <td>Mar-81</td>\n",
       "      <td>1981</td>\n",
       "      <td>Brazil</td>\n",
       "      <td>NaN</td>\n",
       "      <td>NaN</td>\n",
       "      <td>Diving</td>\n",
       "      <td>Unprovoked</td>\n",
       "      <td>NaN</td>\n",
       "      <td>UNKNOWN</td>\n",
       "      <td>Globo,</td>\n",
       "      <td>1981.03.00-Brazil.pdf</td>\n",
       "      <td>http://sharkattackfile.net/spreadsheets/pdf_di...</td>\n",
       "      <td>http://sharkattackfile.net/spreadsheets/pdf_di...</td>\n",
       "      <td>3180</td>\n",
       "    </tr>\n",
       "    <tr>\n",
       "      <th>2982</th>\n",
       "      <td>1975.10.04</td>\n",
       "      <td>1975.10.04</td>\n",
       "      <td>1975.10.04</td>\n",
       "      <td>04-Oct-75</td>\n",
       "      <td>1975</td>\n",
       "      <td>USA</td>\n",
       "      <td>NaN</td>\n",
       "      <td>NaN</td>\n",
       "      <td>Surfing</td>\n",
       "      <td>Invalid</td>\n",
       "      <td>NaN</td>\n",
       "      <td>UNKNOWN</td>\n",
       "      <td>Unconfirmed Report</td>\n",
       "      <td>1975.10.04-NV-California.pdf</td>\n",
       "      <td>http://sharkattackfile.net/spreadsheets/pdf_di...</td>\n",
       "      <td>http://sharkattackfile.net/spreadsheets/pdf_di...</td>\n",
       "      <td>3011</td>\n",
       "    </tr>\n",
       "    <tr>\n",
       "      <th>3073</th>\n",
       "      <td>1973.08.27</td>\n",
       "      <td>1973.08.27</td>\n",
       "      <td>1973.08.27</td>\n",
       "      <td>27-Aug-73</td>\n",
       "      <td>1973</td>\n",
       "      <td>Australia</td>\n",
       "      <td>G. Cole</td>\n",
       "      <td>NaN</td>\n",
       "      <td>NaN</td>\n",
       "      <td>Unprovoked</td>\n",
       "      <td>NaN</td>\n",
       "      <td>UNKNOWN</td>\n",
       "      <td>J. Green, p.36</td>\n",
       "      <td>1973.08.27-Cole.pdf</td>\n",
       "      <td>http://sharkattackfile.net/spreadsheets/pdf_di...</td>\n",
       "      <td>http://sharkattackfile.net/spreadsheets/pdf_di...</td>\n",
       "      <td>2920</td>\n",
       "    </tr>\n",
       "    <tr>\n",
       "      <th>3209</th>\n",
       "      <td>1969.05.22</td>\n",
       "      <td>1969.05.22</td>\n",
       "      <td>1969.05.22</td>\n",
       "      <td>22-May-69</td>\n",
       "      <td>1969</td>\n",
       "      <td>Dominican Republic</td>\n",
       "      <td>Douglas Kuchn, Jr.</td>\n",
       "      <td>M</td>\n",
       "      <td>Surfing</td>\n",
       "      <td>Unprovoked</td>\n",
       "      <td>NaN</td>\n",
       "      <td>UNKNOWN</td>\n",
       "      <td>H.D.Baldridge (1994) SAF Case #1607</td>\n",
       "      <td>1969.05.22-NV-Kuchn.pdf</td>\n",
       "      <td>http://sharkattackfile.net/spreadsheets/pdf_di...</td>\n",
       "      <td>http://sharkattackfile.net/spreadsheets/pdf_di...</td>\n",
       "      <td>2784</td>\n",
       "    </tr>\n",
       "    <tr>\n",
       "      <th>3231</th>\n",
       "      <td>1968.09.22</td>\n",
       "      <td>1968.09.22</td>\n",
       "      <td>1968.09.22</td>\n",
       "      <td>22-Sep-68</td>\n",
       "      <td>1968</td>\n",
       "      <td>USA</td>\n",
       "      <td>NaN</td>\n",
       "      <td>NaN</td>\n",
       "      <td>Surfing</td>\n",
       "      <td>Invalid</td>\n",
       "      <td>NaN</td>\n",
       "      <td>UNKNOWN</td>\n",
       "      <td>M. Vorenberg</td>\n",
       "      <td>1968.09.22-NV-RivieraBeach.pdf</td>\n",
       "      <td>http://sharkattackfile.net/spreadsheets/pdf_di...</td>\n",
       "      <td>http://sharkattackfile.net/spreadsheets/pdf_di...</td>\n",
       "      <td>2762</td>\n",
       "    </tr>\n",
       "    <tr>\n",
       "      <th>3265</th>\n",
       "      <td>1968.00.00.a</td>\n",
       "      <td>1968.00.00.a</td>\n",
       "      <td>1968.00.00.a</td>\n",
       "      <td>1968</td>\n",
       "      <td>1968</td>\n",
       "      <td>USA</td>\n",
       "      <td>NaN</td>\n",
       "      <td>NaN</td>\n",
       "      <td>Surfing</td>\n",
       "      <td>Invalid</td>\n",
       "      <td>NaN</td>\n",
       "      <td>UNKNOWN</td>\n",
       "      <td>Unverified</td>\n",
       "      <td>1968.00.00.a-NV-JensenBeach.pdf</td>\n",
       "      <td>http://sharkattackfile.net/spreadsheets/pdf_di...</td>\n",
       "      <td>http://sharkattackfile.net/spreadsheets/pdf_di...</td>\n",
       "      <td>2728</td>\n",
       "    </tr>\n",
       "    <tr>\n",
       "      <th>3486</th>\n",
       "      <td>1964.01.01.b</td>\n",
       "      <td>1964.01.01.b</td>\n",
       "      <td>1964.01.01.b</td>\n",
       "      <td>01-Jan-64</td>\n",
       "      <td>1964</td>\n",
       "      <td>Australia</td>\n",
       "      <td>Edwards</td>\n",
       "      <td>NaN</td>\n",
       "      <td>NaN</td>\n",
       "      <td>Unprovoked</td>\n",
       "      <td>NaN</td>\n",
       "      <td>UNKNOWN</td>\n",
       "      <td>T. Peake, GSAF</td>\n",
       "      <td>1964.01.01.b-NV-Edwards.pdf</td>\n",
       "      <td>http://sharkattackfile.net/spreadsheets/pdf_di...</td>\n",
       "      <td>http://sharkattackfile.net/spreadsheets/pdf_di...</td>\n",
       "      <td>2507</td>\n",
       "    </tr>\n",
       "    <tr>\n",
       "      <th>3612</th>\n",
       "      <td>1962.02.02</td>\n",
       "      <td>1962.02.02</td>\n",
       "      <td>1962.02.02</td>\n",
       "      <td>02-Feb-62</td>\n",
       "      <td>1962</td>\n",
       "      <td>New Zealand</td>\n",
       "      <td>17' fishing launch, occupants: A. Burkitt &amp; C....</td>\n",
       "      <td>NaN</td>\n",
       "      <td>Fishing</td>\n",
       "      <td>Boat</td>\n",
       "      <td>NaN</td>\n",
       "      <td>UNKNOWN</td>\n",
       "      <td>SAF Case #1125</td>\n",
       "      <td>1962.02.02-NV-Burkitt-Brooke-launch.pdf</td>\n",
       "      <td>http://sharkattackfile.net/spreadsheets/pdf_di...</td>\n",
       "      <td>http://sharkattackfile.net/spreadsheets/pdf_di...</td>\n",
       "      <td>2381</td>\n",
       "    </tr>\n",
       "    <tr>\n",
       "      <th>3615</th>\n",
       "      <td>1962.01.26</td>\n",
       "      <td>1962.01.26</td>\n",
       "      <td>1962.01.26</td>\n",
       "      <td>26-Jan-62</td>\n",
       "      <td>1962</td>\n",
       "      <td>Mozambique</td>\n",
       "      <td>Domingos Zefanias Cumbe</td>\n",
       "      <td>M</td>\n",
       "      <td>NaN</td>\n",
       "      <td>Unprovoked</td>\n",
       "      <td>NaN</td>\n",
       "      <td>UNKNOWN</td>\n",
       "      <td>D. Davies</td>\n",
       "      <td>1962.01.26-Cumbe.pdf</td>\n",
       "      <td>http://sharkattackfile.net/spreadsheets/pdf_di...</td>\n",
       "      <td>http://sharkattackfile.net/spreadsheets/pdf_di...</td>\n",
       "      <td>2378</td>\n",
       "    </tr>\n",
       "    <tr>\n",
       "      <th>3834</th>\n",
       "      <td>1959.09.26.a</td>\n",
       "      <td>1959.09.26.a</td>\n",
       "      <td>1959.09.26.a</td>\n",
       "      <td>26-Sep-59</td>\n",
       "      <td>1959</td>\n",
       "      <td>USA</td>\n",
       "      <td>12' boat. Occupants:  Capt. E.J. Wines, Maj. W...</td>\n",
       "      <td>NaN</td>\n",
       "      <td>Gigging for flounder</td>\n",
       "      <td>Boat</td>\n",
       "      <td>NaN</td>\n",
       "      <td>UNKNOWN</td>\n",
       "      <td>Gazette (Beaufort, SC), 10.1/1959; SAF Case #577</td>\n",
       "      <td>1959.09.26.a-Wines.pdf</td>\n",
       "      <td>http://sharkattackfile.net/spreadsheets/pdf_di...</td>\n",
       "      <td>http://sharkattackfile.net/spreadsheets/pdf_di...</td>\n",
       "      <td>2159</td>\n",
       "    </tr>\n",
       "    <tr>\n",
       "      <th>4290</th>\n",
       "      <td>1949.03.00</td>\n",
       "      <td>1949.03.00</td>\n",
       "      <td>1949.03.00</td>\n",
       "      <td>Mar-1949 or Apr-1949</td>\n",
       "      <td>1949</td>\n",
       "      <td>Australia</td>\n",
       "      <td>boat</td>\n",
       "      <td>NaN</td>\n",
       "      <td>NaN</td>\n",
       "      <td>Boating</td>\n",
       "      <td>NaN</td>\n",
       "      <td>UNKNOWN</td>\n",
       "      <td>G.P. Whitley (1951), p.194; SAF Case #612</td>\n",
       "      <td>1949.03.00-boat-PortAugusta.pdf</td>\n",
       "      <td>http://sharkattackfile.net/spreadsheets/pdf_di...</td>\n",
       "      <td>http://sharkattackfile.net/spreadsheets/pdf_di...</td>\n",
       "      <td>1703</td>\n",
       "    </tr>\n",
       "    <tr>\n",
       "      <th>4746</th>\n",
       "      <td>1932.11.09</td>\n",
       "      <td>1932.11.09</td>\n",
       "      <td>1932.11.09</td>\n",
       "      <td>08-Nov-32</td>\n",
       "      <td>1932</td>\n",
       "      <td>Cuba</td>\n",
       "      <td>NaN</td>\n",
       "      <td>NaN</td>\n",
       "      <td>Hurricane &amp; Tidal Wave</td>\n",
       "      <td>Sea Disaster</td>\n",
       "      <td>NaN</td>\n",
       "      <td>UNKNOWN</td>\n",
       "      <td>Barrier Miner, 11/14/1932</td>\n",
       "      <td>1932.11.09-Hurricane-Cuba.pdf</td>\n",
       "      <td>http://sharkattackfile.net/spreadsheets/pdf_di...</td>\n",
       "      <td>http://sharkattackfile.net/spreadsheets/pdf_di...</td>\n",
       "      <td>1247</td>\n",
       "    </tr>\n",
       "    <tr>\n",
       "      <th>5134</th>\n",
       "      <td>1912.05.04</td>\n",
       "      <td>1912.05.04</td>\n",
       "      <td>1912.05.04</td>\n",
       "      <td>04-May-12</td>\n",
       "      <td>1912</td>\n",
       "      <td>South Africa</td>\n",
       "      <td>arm recovered from hooked shark</td>\n",
       "      <td>M</td>\n",
       "      <td>NaN</td>\n",
       "      <td>Invalid</td>\n",
       "      <td>NaN</td>\n",
       "      <td>UNKNOWN</td>\n",
       "      <td>M. Levine, GSAF</td>\n",
       "      <td>1912.05.04-arm.pdf</td>\n",
       "      <td>http://sharkattackfile.net/spreadsheets/pdf_di...</td>\n",
       "      <td>http://sharkattackfile.net/spreadsheets/pdf_di...</td>\n",
       "      <td>859</td>\n",
       "    </tr>\n",
       "    <tr>\n",
       "      <th>5308</th>\n",
       "      <td>1901.06.29.R</td>\n",
       "      <td>1901.06.29.R</td>\n",
       "      <td>1901.06.29.R</td>\n",
       "      <td>Reported 29-Jun-1901</td>\n",
       "      <td>1901</td>\n",
       "      <td>Yemen</td>\n",
       "      <td>boy</td>\n",
       "      <td>M</td>\n",
       "      <td>Diving around anchored liner</td>\n",
       "      <td>Invalid</td>\n",
       "      <td>NaN</td>\n",
       "      <td>UNKNOWN</td>\n",
       "      <td>The Graphic, 6/29/1901</td>\n",
       "      <td>1901.06.29.R-Aden.pdf</td>\n",
       "      <td>http://sharkattackfile.net/spreadsheets/pdf_di...</td>\n",
       "      <td>http://sharkattackfile.net/spreadsheets/pdf_di...</td>\n",
       "      <td>685</td>\n",
       "    </tr>\n",
       "    <tr>\n",
       "      <th>5697</th>\n",
       "      <td>1862.12.04</td>\n",
       "      <td>1862.12.04</td>\n",
       "      <td>1862.12.04</td>\n",
       "      <td>04-Dec-1862</td>\n",
       "      <td>1862</td>\n",
       "      <td>New Zealand</td>\n",
       "      <td>NaN</td>\n",
       "      <td>NaN</td>\n",
       "      <td>NaN</td>\n",
       "      <td>Invalid</td>\n",
       "      <td>NaN</td>\n",
       "      <td>UNKNOWN</td>\n",
       "      <td>Bendigo Advertiser, 1/3/1863</td>\n",
       "      <td>1862.12.04-Lyttleton.pdf</td>\n",
       "      <td>http://sharkattackfile.net/spreadsheets/pdf_di...</td>\n",
       "      <td>http://sharkattackfile.net/spreadsheets/pdf_di...</td>\n",
       "      <td>296</td>\n",
       "    </tr>\n",
       "    <tr>\n",
       "      <th>5845</th>\n",
       "      <td>1755.00.00</td>\n",
       "      <td>1755.00.00</td>\n",
       "      <td>1755.00.00</td>\n",
       "      <td>1755</td>\n",
       "      <td>1755</td>\n",
       "      <td>Sweden</td>\n",
       "      <td>Fishermen</td>\n",
       "      <td>M</td>\n",
       "      <td>NaN</td>\n",
       "      <td>Unprovoked</td>\n",
       "      <td>NaN</td>\n",
       "      <td>UNKNOWN</td>\n",
       "      <td>C. Moore, GSAF</td>\n",
       "      <td>1755.00.00-Sweden.pdf</td>\n",
       "      <td>http://sharkattackfile.net/spreadsheets/pdf_di...</td>\n",
       "      <td>http://sharkattackfile.net/spreadsheets/pdf_di...</td>\n",
       "      <td>148</td>\n",
       "    </tr>\n",
       "    <tr>\n",
       "      <th>5857</th>\n",
       "      <td>1637.00.00.R</td>\n",
       "      <td>1637.00.00.R</td>\n",
       "      <td>1637.00.00.R</td>\n",
       "      <td>Reported 1637</td>\n",
       "      <td>1637</td>\n",
       "      <td>India</td>\n",
       "      <td>Hindu pilgrims</td>\n",
       "      <td>NaN</td>\n",
       "      <td>Wading</td>\n",
       "      <td>Unprovoked</td>\n",
       "      <td>NaN</td>\n",
       "      <td>UNKNOWN</td>\n",
       "      <td>H. Edwards, p.31, citing Sebastian Manrique</td>\n",
       "      <td>1637.00.00.R-Manrique.pdf</td>\n",
       "      <td>http://sharkattackfile.net/spreadsheets/pdf_di...</td>\n",
       "      <td>http://sharkattackfile.net/spreadsheets/pdf_di...</td>\n",
       "      <td>136</td>\n",
       "    </tr>\n",
       "    <tr>\n",
       "      <th>5858</th>\n",
       "      <td>1617.00.00.R</td>\n",
       "      <td>1617.00.00.R</td>\n",
       "      <td>1617.00.00.R</td>\n",
       "      <td>Reported 1617</td>\n",
       "      <td>1617</td>\n",
       "      <td>India</td>\n",
       "      <td>Indian people</td>\n",
       "      <td>NaN</td>\n",
       "      <td>NaN</td>\n",
       "      <td>Unprovoked</td>\n",
       "      <td>NaN</td>\n",
       "      <td>UNKNOWN</td>\n",
       "      <td>H. Edwards, p.31, citing Samuel Purchas</td>\n",
       "      <td>1617.00.00-Purchas.pdf</td>\n",
       "      <td>http://sharkattackfile.net/spreadsheets/pdf_di...</td>\n",
       "      <td>http://sharkattackfile.net/spreadsheets/pdf_di...</td>\n",
       "      <td>135</td>\n",
       "    </tr>\n",
       "    <tr>\n",
       "      <th>5863</th>\n",
       "      <td>1554.00.00</td>\n",
       "      <td>1554.00.00</td>\n",
       "      <td>1554.00.00</td>\n",
       "      <td>Ca. 1554</td>\n",
       "      <td>1554</td>\n",
       "      <td>France</td>\n",
       "      <td>males (wearing armor)</td>\n",
       "      <td>M</td>\n",
       "      <td>NaN</td>\n",
       "      <td>Unprovoked</td>\n",
       "      <td>NaN</td>\n",
       "      <td>UNKNOWN</td>\n",
       "      <td>G. Rondelet</td>\n",
       "      <td>1554.00.00-Rondelet.pdf</td>\n",
       "      <td>http://sharkattackfile.net/spreadsheets/pdf_di...</td>\n",
       "      <td>http://sharkattackfile.net/spreadsheets/pdf_di...</td>\n",
       "      <td>130</td>\n",
       "    </tr>\n",
       "    <tr>\n",
       "      <th>5967</th>\n",
       "      <td>ND.0025</td>\n",
       "      <td>ND.0025</td>\n",
       "      <td>ND.0025</td>\n",
       "      <td>Before 1927</td>\n",
       "      <td>0</td>\n",
       "      <td>Australia</td>\n",
       "      <td>male, the Sergeant of Marines</td>\n",
       "      <td>M</td>\n",
       "      <td>NaN</td>\n",
       "      <td>Unprovoked</td>\n",
       "      <td>NaN</td>\n",
       "      <td>UNKNOWN</td>\n",
       "      <td>H. Capper</td>\n",
       "      <td>ND-0025-Sgt-SpectacleIsland.pdf</td>\n",
       "      <td>http://sharkattackfile.net/spreadsheets/pdf_di...</td>\n",
       "      <td>http://sharkattackfile.net/spreadsheets/pdf_di...</td>\n",
       "      <td>26</td>\n",
       "    </tr>\n",
       "  </tbody>\n",
       "</table>\n",
       "</div>"
      ],
      "text/plain": [
       "       Case Number Case Number 1 Case Number 2                  Date  Year  \\\n",
       "1047  2008.04.20.a  2008.04.20.a  2008.04.20.a             20-Apr-08  2008   \n",
       "1142    2007.07.00    2007.07.00    2007.07.00                Jul-07  2007   \n",
       "2025    1997.06.07    1997.06.07    1997.06.07             07-Jun-97  1997   \n",
       "2042    1996.12.29    1996.12.29    1996.12.29             29-Dec-96  1996   \n",
       "2423    1990.00.00    1990.00.00    1990.00.00                  1990  1990   \n",
       "2813    1981.03.00    1981.03.00    1981.03.00                Mar-81  1981   \n",
       "2982    1975.10.04    1975.10.04    1975.10.04             04-Oct-75  1975   \n",
       "3073    1973.08.27    1973.08.27    1973.08.27             27-Aug-73  1973   \n",
       "3209    1969.05.22    1969.05.22    1969.05.22             22-May-69  1969   \n",
       "3231    1968.09.22    1968.09.22    1968.09.22             22-Sep-68  1968   \n",
       "3265  1968.00.00.a  1968.00.00.a  1968.00.00.a                  1968  1968   \n",
       "3486  1964.01.01.b  1964.01.01.b  1964.01.01.b             01-Jan-64  1964   \n",
       "3612    1962.02.02    1962.02.02    1962.02.02             02-Feb-62  1962   \n",
       "3615    1962.01.26    1962.01.26    1962.01.26             26-Jan-62  1962   \n",
       "3834  1959.09.26.a  1959.09.26.a  1959.09.26.a             26-Sep-59  1959   \n",
       "4290    1949.03.00    1949.03.00    1949.03.00  Mar-1949 or Apr-1949  1949   \n",
       "4746    1932.11.09    1932.11.09    1932.11.09             08-Nov-32  1932   \n",
       "5134    1912.05.04    1912.05.04    1912.05.04             04-May-12  1912   \n",
       "5308  1901.06.29.R  1901.06.29.R  1901.06.29.R  Reported 29-Jun-1901  1901   \n",
       "5697    1862.12.04    1862.12.04    1862.12.04           04-Dec-1862  1862   \n",
       "5845    1755.00.00    1755.00.00    1755.00.00                  1755  1755   \n",
       "5857  1637.00.00.R  1637.00.00.R  1637.00.00.R         Reported 1637  1637   \n",
       "5858  1617.00.00.R  1617.00.00.R  1617.00.00.R         Reported 1617  1617   \n",
       "5863    1554.00.00    1554.00.00    1554.00.00              Ca. 1554  1554   \n",
       "5967       ND.0025       ND.0025       ND.0025           Before 1927     0   \n",
       "\n",
       "                 Country                                               Name  \\\n",
       "1047           Australia                                    Jamie Adlington   \n",
       "1142             Senegal                                         Alex Takyi   \n",
       "2025              Brazil                                  Jos� Luiz Lipiani   \n",
       "2042           Australia                                         Blair Hall   \n",
       "2423                 USA                                               male   \n",
       "2813              Brazil                                                NaN   \n",
       "2982                 USA                                                NaN   \n",
       "3073           Australia                                            G. Cole   \n",
       "3209  Dominican Republic                                 Douglas Kuchn, Jr.   \n",
       "3231                 USA                                                NaN   \n",
       "3265                 USA                                                NaN   \n",
       "3486           Australia                                            Edwards   \n",
       "3612         New Zealand  17' fishing launch, occupants: A. Burkitt & C....   \n",
       "3615          Mozambique                            Domingos Zefanias Cumbe   \n",
       "3834                 USA  12' boat. Occupants:  Capt. E.J. Wines, Maj. W...   \n",
       "4290           Australia                                               boat   \n",
       "4746                Cuba                                                NaN   \n",
       "5134        South Africa                    arm recovered from hooked shark   \n",
       "5308               Yemen                                                boy   \n",
       "5697         New Zealand                                                NaN   \n",
       "5845              Sweden                                          Fishermen   \n",
       "5857               India                                     Hindu pilgrims   \n",
       "5858               India                                      Indian people   \n",
       "5863              France                              males (wearing armor)   \n",
       "5967           Australia                      male, the Sergeant of Marines   \n",
       "\n",
       "      Sex                      Activity          Type Injury    Fatal  \\\n",
       "1047    M                           NaN    Unprovoked    NaN  UNKNOWN   \n",
       "1142  NaN                        Murder       Invalid    NaN  UNKNOWN   \n",
       "2025    M                       Bathing    Unprovoked    NaN  UNKNOWN   \n",
       "2042    M                       Surfing    Unprovoked    NaN  UNKNOWN   \n",
       "2423    M                       Surfing    Unprovoked    NaN  UNKNOWN   \n",
       "2813  NaN                        Diving    Unprovoked    NaN  UNKNOWN   \n",
       "2982  NaN                       Surfing       Invalid    NaN  UNKNOWN   \n",
       "3073  NaN                           NaN    Unprovoked    NaN  UNKNOWN   \n",
       "3209    M                       Surfing    Unprovoked    NaN  UNKNOWN   \n",
       "3231  NaN                       Surfing       Invalid    NaN  UNKNOWN   \n",
       "3265  NaN                       Surfing       Invalid    NaN  UNKNOWN   \n",
       "3486  NaN                           NaN    Unprovoked    NaN  UNKNOWN   \n",
       "3612  NaN                       Fishing          Boat    NaN  UNKNOWN   \n",
       "3615    M                           NaN    Unprovoked    NaN  UNKNOWN   \n",
       "3834  NaN          Gigging for flounder          Boat    NaN  UNKNOWN   \n",
       "4290  NaN                           NaN       Boating    NaN  UNKNOWN   \n",
       "4746  NaN        Hurricane & Tidal Wave  Sea Disaster    NaN  UNKNOWN   \n",
       "5134    M                           NaN       Invalid    NaN  UNKNOWN   \n",
       "5308    M  Diving around anchored liner       Invalid    NaN  UNKNOWN   \n",
       "5697  NaN                           NaN       Invalid    NaN  UNKNOWN   \n",
       "5845    M                           NaN    Unprovoked    NaN  UNKNOWN   \n",
       "5857  NaN                        Wading    Unprovoked    NaN  UNKNOWN   \n",
       "5858  NaN                           NaN    Unprovoked    NaN  UNKNOWN   \n",
       "5863    M                           NaN    Unprovoked    NaN  UNKNOWN   \n",
       "5967    M                           NaN    Unprovoked    NaN  UNKNOWN   \n",
       "\n",
       "                                Investigator or Source  \\\n",
       "1047                                    T. Peake, GSAF   \n",
       "1142                            Daily Guide, 8/20/2007   \n",
       "2025                                   Globo, 6/9/1997   \n",
       "2042                   The Advertiser, 12/30/1996, p.3   \n",
       "2423                                               NaN   \n",
       "2813                                           Globo,    \n",
       "2982                                Unconfirmed Report   \n",
       "3073                                    J. Green, p.36   \n",
       "3209               H.D.Baldridge (1994) SAF Case #1607   \n",
       "3231                                      M. Vorenberg   \n",
       "3265                                        Unverified   \n",
       "3486                                    T. Peake, GSAF   \n",
       "3612                                    SAF Case #1125   \n",
       "3615                                         D. Davies   \n",
       "3834  Gazette (Beaufort, SC), 10.1/1959; SAF Case #577   \n",
       "4290         G.P. Whitley (1951), p.194; SAF Case #612   \n",
       "4746                         Barrier Miner, 11/14/1932   \n",
       "5134                                   M. Levine, GSAF   \n",
       "5308                            The Graphic, 6/29/1901   \n",
       "5697                      Bendigo Advertiser, 1/3/1863   \n",
       "5845                                    C. Moore, GSAF   \n",
       "5857       H. Edwards, p.31, citing Sebastian Manrique   \n",
       "5858           H. Edwards, p.31, citing Samuel Purchas   \n",
       "5863                                      G. Rondelet    \n",
       "5967                                         H. Capper   \n",
       "\n",
       "                                          Pdf  \\\n",
       "1047               2008.04.20.a-Adlington.pdf   \n",
       "1142                     2007.07.00-Takyi.pdf   \n",
       "2025                1997.06.07-NV-Lipiani.pdf   \n",
       "2042                 1996.12.29-BlairHall.pdf   \n",
       "2423              1990.00.00-NV-Pensacola.pdf   \n",
       "2813                    1981.03.00-Brazil.pdf   \n",
       "2982             1975.10.04-NV-California.pdf   \n",
       "3073                      1973.08.27-Cole.pdf   \n",
       "3209                  1969.05.22-NV-Kuchn.pdf   \n",
       "3231           1968.09.22-NV-RivieraBeach.pdf   \n",
       "3265          1968.00.00.a-NV-JensenBeach.pdf   \n",
       "3486              1964.01.01.b-NV-Edwards.pdf   \n",
       "3612  1962.02.02-NV-Burkitt-Brooke-launch.pdf   \n",
       "3615                     1962.01.26-Cumbe.pdf   \n",
       "3834                   1959.09.26.a-Wines.pdf   \n",
       "4290          1949.03.00-boat-PortAugusta.pdf   \n",
       "4746            1932.11.09-Hurricane-Cuba.pdf   \n",
       "5134                       1912.05.04-arm.pdf   \n",
       "5308                    1901.06.29.R-Aden.pdf   \n",
       "5697                 1862.12.04-Lyttleton.pdf   \n",
       "5845                    1755.00.00-Sweden.pdf   \n",
       "5857                1637.00.00.R-Manrique.pdf   \n",
       "5858                   1617.00.00-Purchas.pdf   \n",
       "5863                  1554.00.00-Rondelet.pdf   \n",
       "5967          ND-0025-Sgt-SpectacleIsland.pdf   \n",
       "\n",
       "                                           Href Formula  \\\n",
       "1047  http://sharkattackfile.net/spreadsheets/pdf_di...   \n",
       "1142  http://sharkattackfile.net/spreadsheets/pdf_di...   \n",
       "2025  http://sharkattackfile.net/spreadsheets/pdf_di...   \n",
       "2042  http://sharkattackfile.net/spreadsheets/pdf_di...   \n",
       "2423  http://sharkattackfile.net/spreadsheets/pdf_di...   \n",
       "2813  http://sharkattackfile.net/spreadsheets/pdf_di...   \n",
       "2982  http://sharkattackfile.net/spreadsheets/pdf_di...   \n",
       "3073  http://sharkattackfile.net/spreadsheets/pdf_di...   \n",
       "3209  http://sharkattackfile.net/spreadsheets/pdf_di...   \n",
       "3231  http://sharkattackfile.net/spreadsheets/pdf_di...   \n",
       "3265  http://sharkattackfile.net/spreadsheets/pdf_di...   \n",
       "3486  http://sharkattackfile.net/spreadsheets/pdf_di...   \n",
       "3612  http://sharkattackfile.net/spreadsheets/pdf_di...   \n",
       "3615  http://sharkattackfile.net/spreadsheets/pdf_di...   \n",
       "3834  http://sharkattackfile.net/spreadsheets/pdf_di...   \n",
       "4290  http://sharkattackfile.net/spreadsheets/pdf_di...   \n",
       "4746  http://sharkattackfile.net/spreadsheets/pdf_di...   \n",
       "5134  http://sharkattackfile.net/spreadsheets/pdf_di...   \n",
       "5308  http://sharkattackfile.net/spreadsheets/pdf_di...   \n",
       "5697  http://sharkattackfile.net/spreadsheets/pdf_di...   \n",
       "5845  http://sharkattackfile.net/spreadsheets/pdf_di...   \n",
       "5857  http://sharkattackfile.net/spreadsheets/pdf_di...   \n",
       "5858  http://sharkattackfile.net/spreadsheets/pdf_di...   \n",
       "5863  http://sharkattackfile.net/spreadsheets/pdf_di...   \n",
       "5967  http://sharkattackfile.net/spreadsheets/pdf_di...   \n",
       "\n",
       "                                                   Href  Original Order  \n",
       "1047  http://sharkattackfile.net/spreadsheets/pdf_di...            4946  \n",
       "1142  http://sharkattackfile.net/spreadsheets/pdf_di...            4851  \n",
       "2025  http://sharkattackfile.net/spreadsheets/pdf_di...            3968  \n",
       "2042  http://sharkattackfile.net/spreadsheets/pdf_di...            3951  \n",
       "2423  http://sharkattackfile.net/spreadsheets/pdf_di...            3571  \n",
       "2813  http://sharkattackfile.net/spreadsheets/pdf_di...            3180  \n",
       "2982  http://sharkattackfile.net/spreadsheets/pdf_di...            3011  \n",
       "3073  http://sharkattackfile.net/spreadsheets/pdf_di...            2920  \n",
       "3209  http://sharkattackfile.net/spreadsheets/pdf_di...            2784  \n",
       "3231  http://sharkattackfile.net/spreadsheets/pdf_di...            2762  \n",
       "3265  http://sharkattackfile.net/spreadsheets/pdf_di...            2728  \n",
       "3486  http://sharkattackfile.net/spreadsheets/pdf_di...            2507  \n",
       "3612  http://sharkattackfile.net/spreadsheets/pdf_di...            2381  \n",
       "3615  http://sharkattackfile.net/spreadsheets/pdf_di...            2378  \n",
       "3834  http://sharkattackfile.net/spreadsheets/pdf_di...            2159  \n",
       "4290  http://sharkattackfile.net/spreadsheets/pdf_di...            1703  \n",
       "4746  http://sharkattackfile.net/spreadsheets/pdf_di...            1247  \n",
       "5134  http://sharkattackfile.net/spreadsheets/pdf_di...             859  \n",
       "5308  http://sharkattackfile.net/spreadsheets/pdf_di...             685  \n",
       "5697  http://sharkattackfile.net/spreadsheets/pdf_di...             296  \n",
       "5845  http://sharkattackfile.net/spreadsheets/pdf_di...             148  \n",
       "5857  http://sharkattackfile.net/spreadsheets/pdf_di...             136  \n",
       "5858  http://sharkattackfile.net/spreadsheets/pdf_di...             135  \n",
       "5863  http://sharkattackfile.net/spreadsheets/pdf_di...             130  \n",
       "5967  http://sharkattackfile.net/spreadsheets/pdf_di...              26  "
      ]
     },
     "execution_count": 221,
     "metadata": {},
     "output_type": "execute_result"
    }
   ],
   "source": [
    "data[(data[\"Injury\"].isnull()) & (data[\"Fatal\"].notnull())]"
   ]
  },
  {
   "cell_type": "markdown",
   "metadata": {},
   "source": [
    "We see that all the `Fatal` that are NOT NULL = UNKNOWN the `Injury` is NaN; we will DROP this ROWS"
   ]
  },
  {
   "cell_type": "code",
   "execution_count": 222,
   "metadata": {
    "ExecuteTime": {
     "end_time": "2020-02-06T22:28:25.066066Z",
     "start_time": "2020-02-06T22:28:25.059157Z"
    }
   },
   "outputs": [],
   "source": [
    "filter_by_fatal = data[(data[\"Injury\"].isnull()) & (data[\"Fatal\"].isnull())]\n",
    "drop_rows(filter_by_fatal)"
   ]
  },
  {
   "cell_type": "code",
   "execution_count": 223,
   "metadata": {
    "ExecuteTime": {
     "end_time": "2020-02-06T22:28:25.481697Z",
     "start_time": "2020-02-06T22:28:25.475162Z"
    }
   },
   "outputs": [
    {
     "data": {
      "text/plain": [
       "18"
      ]
     },
     "execution_count": 223,
     "metadata": {},
     "output_type": "execute_result"
    }
   ],
   "source": [
    "data[\"Fatal\"].isnull().sum()"
   ]
  },
  {
   "cell_type": "markdown",
   "metadata": {},
   "source": [
    "FILTER by `Injury`: we will check the ROWs where `Injury` is not NULL, and see if we can complement `Fatal`."
   ]
  },
  {
   "cell_type": "code",
   "execution_count": 224,
   "metadata": {
    "ExecuteTime": {
     "end_time": "2020-02-06T22:28:26.786349Z",
     "start_time": "2020-02-06T22:28:26.751658Z"
    },
    "scrolled": true
   },
   "outputs": [
    {
     "data": {
      "text/html": [
       "<div>\n",
       "<style scoped>\n",
       "    .dataframe tbody tr th:only-of-type {\n",
       "        vertical-align: middle;\n",
       "    }\n",
       "\n",
       "    .dataframe tbody tr th {\n",
       "        vertical-align: top;\n",
       "    }\n",
       "\n",
       "    .dataframe thead th {\n",
       "        text-align: right;\n",
       "    }\n",
       "</style>\n",
       "<table border=\"1\" class=\"dataframe\">\n",
       "  <thead>\n",
       "    <tr style=\"text-align: right;\">\n",
       "      <th></th>\n",
       "      <th>Case Number</th>\n",
       "      <th>Case Number 1</th>\n",
       "      <th>Case Number 2</th>\n",
       "      <th>Date</th>\n",
       "      <th>Year</th>\n",
       "      <th>Country</th>\n",
       "      <th>Name</th>\n",
       "      <th>Sex</th>\n",
       "      <th>Activity</th>\n",
       "      <th>Type</th>\n",
       "      <th>Injury</th>\n",
       "      <th>Fatal</th>\n",
       "      <th>Investigator or Source</th>\n",
       "      <th>Pdf</th>\n",
       "      <th>Href Formula</th>\n",
       "      <th>Href</th>\n",
       "      <th>Original Order</th>\n",
       "    </tr>\n",
       "  </thead>\n",
       "  <tbody>\n",
       "    <tr>\n",
       "      <th>54</th>\n",
       "      <td>2016.06.02.b</td>\n",
       "      <td>2016.06.02.b</td>\n",
       "      <td>2016.06.02.b</td>\n",
       "      <td>02-Jun-16</td>\n",
       "      <td>2016</td>\n",
       "      <td>Australia</td>\n",
       "      <td>Waade Madigan and Dr Seyong Kim</td>\n",
       "      <td>M</td>\n",
       "      <td>Spearfishing</td>\n",
       "      <td>Unprovoked</td>\n",
       "      <td>No injury, but sharks repeatedly hit their fin...</td>\n",
       "      <td>NaN</td>\n",
       "      <td>Gold Coast Bulletin, 6/4/2016</td>\n",
       "      <td>2016.06.02.b-Matigan.pdf</td>\n",
       "      <td>http://sharkattackfile.net/spreadsheets/pdf_di...</td>\n",
       "      <td>http://sharkattackfile.net/spreadsheets/pdf_di...</td>\n",
       "      <td>5939</td>\n",
       "    </tr>\n",
       "    <tr>\n",
       "      <th>1844</th>\n",
       "      <td>2000.03.03.R</td>\n",
       "      <td>2000.03.03.R</td>\n",
       "      <td>2000.03.03.R</td>\n",
       "      <td>Reported      03-Mar-2000</td>\n",
       "      <td>2000</td>\n",
       "      <td>New Zealand</td>\n",
       "      <td>Ricky Stringer</td>\n",
       "      <td>M</td>\n",
       "      <td>Kayaking</td>\n",
       "      <td>Invalid</td>\n",
       "      <td>Reported as shark attack but probable drowning</td>\n",
       "      <td>NaN</td>\n",
       "      <td>R. D. Weeks, GSAF</td>\n",
       "      <td>2000.03.03.R-Stringer.pdf</td>\n",
       "      <td>http://sharkattackfile.net/spreadsheets/pdf_di...</td>\n",
       "      <td>http://sharkattackfile.net/spreadsheets/pdf_di...</td>\n",
       "      <td>4149</td>\n",
       "    </tr>\n",
       "    <tr>\n",
       "      <th>2449</th>\n",
       "      <td>1989.07.27</td>\n",
       "      <td>1989.07.27</td>\n",
       "      <td>1989.07.27</td>\n",
       "      <td>27-Jul-89</td>\n",
       "      <td>1969</td>\n",
       "      <td>Bermuda</td>\n",
       "      <td>Russian male</td>\n",
       "      <td>M</td>\n",
       "      <td>Scuba diving</td>\n",
       "      <td>Invalid</td>\n",
       "      <td>FATAL</td>\n",
       "      <td>NaN</td>\n",
       "      <td>LA Times, 7/28/1989</td>\n",
       "      <td>1989.07.27-SovietDiver.pdf</td>\n",
       "      <td>http://sharkattackfile.net/spreadsheets/pdf_di...</td>\n",
       "      <td>http://sharkattackfile.net/spreadsheets/pdf_di...</td>\n",
       "      <td>3545</td>\n",
       "    </tr>\n",
       "    <tr>\n",
       "      <th>3280</th>\n",
       "      <td>1967.09.13</td>\n",
       "      <td>1967.09.13</td>\n",
       "      <td>1967.09.13</td>\n",
       "      <td>13-Sep-67</td>\n",
       "      <td>1967</td>\n",
       "      <td>Italy</td>\n",
       "      <td>Romeo Guarini</td>\n",
       "      <td>M</td>\n",
       "      <td>Scuba diving</td>\n",
       "      <td>Provoked</td>\n",
       "      <td>Diver shot the shark, then it injured his arm ...</td>\n",
       "      <td>NaN</td>\n",
       "      <td>C. Moore. GSAF</td>\n",
       "      <td>1967.09.13-Guarini.pdf</td>\n",
       "      <td>http://sharkattackfile.net/spreadsheets/pdf_di...</td>\n",
       "      <td>http://sharkattackfile.net/spreadsheets/pdf_di...</td>\n",
       "      <td>2713</td>\n",
       "    </tr>\n",
       "    <tr>\n",
       "      <th>3901</th>\n",
       "      <td>1958.12.28</td>\n",
       "      <td>1958.12.28</td>\n",
       "      <td>1958.12.28</td>\n",
       "      <td>28-Dec-58</td>\n",
       "      <td>1958</td>\n",
       "      <td>Turkey</td>\n",
       "      <td>Fishing boat. Occupants: Yunus Potur &amp; Ali Durmaz</td>\n",
       "      <td>NaN</td>\n",
       "      <td>Fishing</td>\n",
       "      <td>Boat</td>\n",
       "      <td>Boat damaged</td>\n",
       "      <td>NaN</td>\n",
       "      <td>C. Moore, GSAF</td>\n",
       "      <td>1958.12.28-Constantinople.pdf</td>\n",
       "      <td>http://sharkattackfile.net/spreadsheets/pdf_di...</td>\n",
       "      <td>http://sharkattackfile.net/spreadsheets/pdf_di...</td>\n",
       "      <td>2092</td>\n",
       "    </tr>\n",
       "    <tr>\n",
       "      <th>4107</th>\n",
       "      <td>1954.07.27</td>\n",
       "      <td>1954.07.27</td>\n",
       "      <td>1954.07.27</td>\n",
       "      <td>27-Jul-54</td>\n",
       "      <td>1954</td>\n",
       "      <td>Italy</td>\n",
       "      <td>10 crew</td>\n",
       "      <td>M</td>\n",
       "      <td>Fishing trawler Flavio Gioia</td>\n",
       "      <td>Boating</td>\n",
       "      <td>No injury to occupants. Shark tore nets &amp; traw...</td>\n",
       "      <td>NaN</td>\n",
       "      <td>C. Moore, GSAF</td>\n",
       "      <td>1954.07.27-Trawler.pdf</td>\n",
       "      <td>http://sharkattackfile.net/spreadsheets/pdf_di...</td>\n",
       "      <td>http://sharkattackfile.net/spreadsheets/pdf_di...</td>\n",
       "      <td>1886</td>\n",
       "    </tr>\n",
       "    <tr>\n",
       "      <th>4112</th>\n",
       "      <td>1954.07.01.R</td>\n",
       "      <td>1954.07.01.R</td>\n",
       "      <td>1954.07.01.R</td>\n",
       "      <td>Reported 01-Jul-1954</td>\n",
       "      <td>1954</td>\n",
       "      <td>Croatia</td>\n",
       "      <td>male</td>\n",
       "      <td>NaN</td>\n",
       "      <td>NaN</td>\n",
       "      <td>Invalid</td>\n",
       "      <td>Human remains found in shark</td>\n",
       "      <td>NaN</td>\n",
       "      <td>C. Moore, GSAF</td>\n",
       "      <td>1954.07.01.R-Pula.pdf</td>\n",
       "      <td>http://sharkattackfile.net/spreadsheets/pdf_di...</td>\n",
       "      <td>http://sharkattackfile.net/spreadsheets/pdf_di...</td>\n",
       "      <td>1881</td>\n",
       "    </tr>\n",
       "    <tr>\n",
       "      <th>5307</th>\n",
       "      <td>1901.07.17</td>\n",
       "      <td>1901.07.17</td>\n",
       "      <td>1901.07.17</td>\n",
       "      <td>17-Jul-01</td>\n",
       "      <td>1901</td>\n",
       "      <td>Italy</td>\n",
       "      <td>Antonio Tornatori</td>\n",
       "      <td>M</td>\n",
       "      <td>Swimming</td>\n",
       "      <td>Invalid</td>\n",
       "      <td>Disappeared, but shark involvement unconfirmed</td>\n",
       "      <td>NaN</td>\n",
       "      <td>C. Moore</td>\n",
       "      <td>1901.07.17-Antonio.pdf</td>\n",
       "      <td>http://sharkattackfile.net/spreadsheets/pdf_di...</td>\n",
       "      <td>http://sharkattackfile.net/spreadsheets/pdf_di...</td>\n",
       "      <td>686</td>\n",
       "    </tr>\n",
       "    <tr>\n",
       "      <th>5437</th>\n",
       "      <td>1892.06.24</td>\n",
       "      <td>1892.06.24</td>\n",
       "      <td>1892.06.24</td>\n",
       "      <td>24-Jun-1892</td>\n",
       "      <td>1892</td>\n",
       "      <td>France</td>\n",
       "      <td>NaN</td>\n",
       "      <td>NaN</td>\n",
       "      <td>Fishing boat</td>\n",
       "      <td>Invalid</td>\n",
       "      <td>No injury, no attack</td>\n",
       "      <td>NaN</td>\n",
       "      <td>C.Moore, GSAF</td>\n",
       "      <td>1892.06.24-Brest.pdf</td>\n",
       "      <td>http://sharkattackfile.net/spreadsheets/pdf_di...</td>\n",
       "      <td>http://sharkattackfile.net/spreadsheets/pdf_di...</td>\n",
       "      <td>556</td>\n",
       "    </tr>\n",
       "    <tr>\n",
       "      <th>5468</th>\n",
       "      <td>1889.11.29.R</td>\n",
       "      <td>1889.11.29.R</td>\n",
       "      <td>1889.11.29.R</td>\n",
       "      <td>Reported 29-Nov-1889</td>\n",
       "      <td>1889</td>\n",
       "      <td>Greece</td>\n",
       "      <td>NaN</td>\n",
       "      <td>NaN</td>\n",
       "      <td>NaN</td>\n",
       "      <td>Invalid</td>\n",
       "      <td>Human remains found in 4m, 900 kg shark</td>\n",
       "      <td>NaN</td>\n",
       "      <td>C. Moore, GSAF</td>\n",
       "      <td>1889.11.29.R-Greece.pdf</td>\n",
       "      <td>http://sharkattackfile.net/spreadsheets/pdf_di...</td>\n",
       "      <td>http://sharkattackfile.net/spreadsheets/pdf_di...</td>\n",
       "      <td>525</td>\n",
       "    </tr>\n",
       "    <tr>\n",
       "      <th>5642</th>\n",
       "      <td>1872.08.07.R</td>\n",
       "      <td>1872.08.07.R</td>\n",
       "      <td>1872.08.07.R</td>\n",
       "      <td>Reported 07-Aug-1872</td>\n",
       "      <td>1872</td>\n",
       "      <td>Croatia</td>\n",
       "      <td>male</td>\n",
       "      <td>M</td>\n",
       "      <td>Fishing</td>\n",
       "      <td>Invalid</td>\n",
       "      <td>No injury</td>\n",
       "      <td>NaN</td>\n",
       "      <td>C. Moore, GSAF</td>\n",
       "      <td>1872.08.07.R-Fiume.pdf</td>\n",
       "      <td>http://sharkattackfile.net/spreadsheets/pdf_di...</td>\n",
       "      <td>http://sharkattackfile.net/spreadsheets/pdf_di...</td>\n",
       "      <td>351</td>\n",
       "    </tr>\n",
       "    <tr>\n",
       "      <th>5699</th>\n",
       "      <td>1862.08.02.R</td>\n",
       "      <td>1862.08.02.R</td>\n",
       "      <td>1862.08.02.R</td>\n",
       "      <td>Reported 02-Aug-1862</td>\n",
       "      <td>1862</td>\n",
       "      <td>Spain</td>\n",
       "      <td>male</td>\n",
       "      <td>M</td>\n",
       "      <td>NaN</td>\n",
       "      <td>Invalid</td>\n",
       "      <td>Possible drowning and scavenging</td>\n",
       "      <td>NaN</td>\n",
       "      <td>C. Moore</td>\n",
       "      <td>1862.08.02.R-Fuengirola.pdf</td>\n",
       "      <td>http://sharkattackfile.net/spreadsheets/pdf_di...</td>\n",
       "      <td>http://sharkattackfile.net/spreadsheets/pdf_di...</td>\n",
       "      <td>294</td>\n",
       "    </tr>\n",
       "    <tr>\n",
       "      <th>5718</th>\n",
       "      <td>1859.03.16</td>\n",
       "      <td>1859.03.16</td>\n",
       "      <td>1859.03.16</td>\n",
       "      <td>16-Mar-1859</td>\n",
       "      <td>1859</td>\n",
       "      <td>USA</td>\n",
       "      <td>J.G. Luther</td>\n",
       "      <td>M</td>\n",
       "      <td>Fell overboard</td>\n",
       "      <td>Unprovoked</td>\n",
       "      <td>FATAL</td>\n",
       "      <td>NaN</td>\n",
       "      <td>Pacific Commercial Advertiser, 3/24/1850</td>\n",
       "      <td>1859.03.16-Luther.pdf</td>\n",
       "      <td>http://sharkattackfile.net/spreadsheets/pdf_di...</td>\n",
       "      <td>http://sharkattackfile.net/spreadsheets/pdf_di...</td>\n",
       "      <td>275</td>\n",
       "    </tr>\n",
       "    <tr>\n",
       "      <th>5747</th>\n",
       "      <td>1852.07.28</td>\n",
       "      <td>1852.07.28</td>\n",
       "      <td>1852.07.28</td>\n",
       "      <td>28-Jul-52</td>\n",
       "      <td>1852</td>\n",
       "      <td>Atlantic Ocean</td>\n",
       "      <td>Karen Bredesen Str�te</td>\n",
       "      <td>F</td>\n",
       "      <td>NaN</td>\n",
       "      <td>Invalid</td>\n",
       "      <td>Death preceded shark involvement</td>\n",
       "      <td>NaN</td>\n",
       "      <td>Norway Heritage</td>\n",
       "      <td>1852.07.28-Karen.pdf</td>\n",
       "      <td>http://sharkattackfile.net/spreadsheets/pdf_di...</td>\n",
       "      <td>http://sharkattackfile.net/spreadsheets/pdf_di...</td>\n",
       "      <td>246</td>\n",
       "    </tr>\n",
       "    <tr>\n",
       "      <th>5793</th>\n",
       "      <td>1837.00.00.a</td>\n",
       "      <td>1837.00.00.a</td>\n",
       "      <td>1837.00.00.a</td>\n",
       "      <td>Ca. 1837</td>\n",
       "      <td>1837</td>\n",
       "      <td>USA</td>\n",
       "      <td>adult male, a sailor</td>\n",
       "      <td>M</td>\n",
       "      <td>NaN</td>\n",
       "      <td>Invalid</td>\n",
       "      <td>Shark caught contained human remains</td>\n",
       "      <td>NaN</td>\n",
       "      <td>W. H. Gregg</td>\n",
       "      <td>1837.00.00.a-remains.pdf</td>\n",
       "      <td>http://sharkattackfile.net/spreadsheets/pdf_di...</td>\n",
       "      <td>http://sharkattackfile.net/spreadsheets/pdf_di...</td>\n",
       "      <td>200</td>\n",
       "    </tr>\n",
       "    <tr>\n",
       "      <th>5794</th>\n",
       "      <td>1836.07.26.R</td>\n",
       "      <td>1836.07.26.R</td>\n",
       "      <td>1836.07.26.R</td>\n",
       "      <td>1836.07.26.R</td>\n",
       "      <td>1836</td>\n",
       "      <td>Spain</td>\n",
       "      <td>NaN</td>\n",
       "      <td>NaN</td>\n",
       "      <td>NaN</td>\n",
       "      <td>Invalid</td>\n",
       "      <td>Shark caught, contained human remains</td>\n",
       "      <td>NaN</td>\n",
       "      <td>C. Moore, GSAF</td>\n",
       "      <td>1836.07.26.R-Spain.pdf</td>\n",
       "      <td>http://sharkattackfile.net/spreadsheets/pdf_di...</td>\n",
       "      <td>http://sharkattackfile.net/spreadsheets/pdf_di...</td>\n",
       "      <td>199</td>\n",
       "    </tr>\n",
       "    <tr>\n",
       "      <th>5820</th>\n",
       "      <td>1818.05.22.R</td>\n",
       "      <td>1818.05.22.R</td>\n",
       "      <td>1818.05.22.R</td>\n",
       "      <td>Reported 22-May-1818</td>\n",
       "      <td>1818</td>\n",
       "      <td>Norway</td>\n",
       "      <td>male</td>\n",
       "      <td>M</td>\n",
       "      <td>NaN</td>\n",
       "      <td>Invalid</td>\n",
       "      <td>Probable drowning</td>\n",
       "      <td>NaN</td>\n",
       "      <td>C. Moore, GSAF</td>\n",
       "      <td>1818.05.22.R-Norway.pdf</td>\n",
       "      <td>http://sharkattackfile.net/spreadsheets/pdf_di...</td>\n",
       "      <td>http://sharkattackfile.net/spreadsheets/pdf_di...</td>\n",
       "      <td>173</td>\n",
       "    </tr>\n",
       "    <tr>\n",
       "      <th>5849</th>\n",
       "      <td>1733.00.00</td>\n",
       "      <td>1733.00.00</td>\n",
       "      <td>1733.00.00</td>\n",
       "      <td>1733</td>\n",
       "      <td>1733</td>\n",
       "      <td>Iceland</td>\n",
       "      <td>NaN</td>\n",
       "      <td>NaN</td>\n",
       "      <td>NaN</td>\n",
       "      <td>Invalid</td>\n",
       "      <td>Partial hominid remains recovered from shark, ...</td>\n",
       "      <td>NaN</td>\n",
       "      <td>E. Olafsen</td>\n",
       "      <td>1733.00.00-Iceland.pdf</td>\n",
       "      <td>http://sharkattackfile.net/spreadsheets/pdf_di...</td>\n",
       "      <td>http://sharkattackfile.net/spreadsheets/pdf_di...</td>\n",
       "      <td>144</td>\n",
       "    </tr>\n",
       "  </tbody>\n",
       "</table>\n",
       "</div>"
      ],
      "text/plain": [
       "       Case Number Case Number 1 Case Number 2                       Date  \\\n",
       "54    2016.06.02.b  2016.06.02.b  2016.06.02.b                  02-Jun-16   \n",
       "1844  2000.03.03.R  2000.03.03.R  2000.03.03.R  Reported      03-Mar-2000   \n",
       "2449    1989.07.27    1989.07.27    1989.07.27                  27-Jul-89   \n",
       "3280    1967.09.13    1967.09.13    1967.09.13                  13-Sep-67   \n",
       "3901    1958.12.28    1958.12.28    1958.12.28                  28-Dec-58   \n",
       "4107    1954.07.27    1954.07.27    1954.07.27                  27-Jul-54   \n",
       "4112  1954.07.01.R  1954.07.01.R  1954.07.01.R       Reported 01-Jul-1954   \n",
       "5307    1901.07.17    1901.07.17    1901.07.17                  17-Jul-01   \n",
       "5437    1892.06.24    1892.06.24    1892.06.24                24-Jun-1892   \n",
       "5468  1889.11.29.R  1889.11.29.R  1889.11.29.R       Reported 29-Nov-1889   \n",
       "5642  1872.08.07.R  1872.08.07.R  1872.08.07.R       Reported 07-Aug-1872   \n",
       "5699  1862.08.02.R  1862.08.02.R  1862.08.02.R       Reported 02-Aug-1862   \n",
       "5718    1859.03.16    1859.03.16    1859.03.16                16-Mar-1859   \n",
       "5747    1852.07.28    1852.07.28    1852.07.28                  28-Jul-52   \n",
       "5793  1837.00.00.a  1837.00.00.a  1837.00.00.a                   Ca. 1837   \n",
       "5794  1836.07.26.R  1836.07.26.R  1836.07.26.R               1836.07.26.R   \n",
       "5820  1818.05.22.R  1818.05.22.R  1818.05.22.R       Reported 22-May-1818   \n",
       "5849    1733.00.00    1733.00.00    1733.00.00                       1733   \n",
       "\n",
       "      Year         Country                                               Name  \\\n",
       "54    2016       Australia                   Waade Madigan and Dr Seyong Kim    \n",
       "1844  2000     New Zealand                                     Ricky Stringer   \n",
       "2449  1969         Bermuda                                       Russian male   \n",
       "3280  1967           Italy                                      Romeo Guarini   \n",
       "3901  1958          Turkey  Fishing boat. Occupants: Yunus Potur & Ali Durmaz   \n",
       "4107  1954           Italy                                            10 crew   \n",
       "4112  1954         Croatia                                               male   \n",
       "5307  1901           Italy                                  Antonio Tornatori   \n",
       "5437  1892          France                                                NaN   \n",
       "5468  1889          Greece                                                NaN   \n",
       "5642  1872         Croatia                                               male   \n",
       "5699  1862           Spain                                               male   \n",
       "5718  1859             USA                                        J.G. Luther   \n",
       "5747  1852  Atlantic Ocean                             Karen Bredesen Str�te    \n",
       "5793  1837             USA                               adult male, a sailor   \n",
       "5794  1836           Spain                                                NaN   \n",
       "5820  1818          Norway                                               male   \n",
       "5849  1733         Iceland                                                NaN   \n",
       "\n",
       "      Sex                       Activity        Type  \\\n",
       "54      M                   Spearfishing  Unprovoked   \n",
       "1844    M                       Kayaking     Invalid   \n",
       "2449    M                   Scuba diving     Invalid   \n",
       "3280    M                   Scuba diving    Provoked   \n",
       "3901  NaN                        Fishing        Boat   \n",
       "4107    M  Fishing trawler Flavio Gioia      Boating   \n",
       "4112  NaN                            NaN     Invalid   \n",
       "5307    M                       Swimming     Invalid   \n",
       "5437  NaN                   Fishing boat     Invalid   \n",
       "5468  NaN                            NaN     Invalid   \n",
       "5642    M                        Fishing     Invalid   \n",
       "5699    M                            NaN     Invalid   \n",
       "5718    M                 Fell overboard  Unprovoked   \n",
       "5747    F                            NaN     Invalid   \n",
       "5793    M                            NaN     Invalid   \n",
       "5794  NaN                            NaN     Invalid   \n",
       "5820    M                            NaN     Invalid   \n",
       "5849  NaN                            NaN     Invalid   \n",
       "\n",
       "                                                 Injury Fatal  \\\n",
       "54    No injury, but sharks repeatedly hit their fin...   NaN   \n",
       "1844    Reported as shark attack but probable drowning    NaN   \n",
       "2449                                              FATAL   NaN   \n",
       "3280  Diver shot the shark, then it injured his arm ...   NaN   \n",
       "3901                                       Boat damaged   NaN   \n",
       "4107  No injury to occupants. Shark tore nets & traw...   NaN   \n",
       "4112                       Human remains found in shark   NaN   \n",
       "5307     Disappeared, but shark involvement unconfirmed   NaN   \n",
       "5437                               No injury, no attack   NaN   \n",
       "5468            Human remains found in 4m, 900 kg shark   NaN   \n",
       "5642                                          No injury   NaN   \n",
       "5699                   Possible drowning and scavenging   NaN   \n",
       "5718                                              FATAL   NaN   \n",
       "5747                   Death preceded shark involvement   NaN   \n",
       "5793               Shark caught contained human remains   NaN   \n",
       "5794              Shark caught, contained human remains   NaN   \n",
       "5820                                 Probable drowning    NaN   \n",
       "5849  Partial hominid remains recovered from shark, ...   NaN   \n",
       "\n",
       "                        Investigator or Source                            Pdf  \\\n",
       "54               Gold Coast Bulletin, 6/4/2016       2016.06.02.b-Matigan.pdf   \n",
       "1844                         R. D. Weeks, GSAF      2000.03.03.R-Stringer.pdf   \n",
       "2449                       LA Times, 7/28/1989     1989.07.27-SovietDiver.pdf   \n",
       "3280                            C. Moore. GSAF         1967.09.13-Guarini.pdf   \n",
       "3901                            C. Moore, GSAF  1958.12.28-Constantinople.pdf   \n",
       "4107                            C. Moore, GSAF         1954.07.27-Trawler.pdf   \n",
       "4112                            C. Moore, GSAF          1954.07.01.R-Pula.pdf   \n",
       "5307                                  C. Moore         1901.07.17-Antonio.pdf   \n",
       "5437                             C.Moore, GSAF           1892.06.24-Brest.pdf   \n",
       "5468                            C. Moore, GSAF        1889.11.29.R-Greece.pdf   \n",
       "5642                            C. Moore, GSAF         1872.08.07.R-Fiume.pdf   \n",
       "5699                                  C. Moore    1862.08.02.R-Fuengirola.pdf   \n",
       "5718  Pacific Commercial Advertiser, 3/24/1850          1859.03.16-Luther.pdf   \n",
       "5747                           Norway Heritage           1852.07.28-Karen.pdf   \n",
       "5793                               W. H. Gregg       1837.00.00.a-remains.pdf   \n",
       "5794                            C. Moore, GSAF         1836.07.26.R-Spain.pdf   \n",
       "5820                            C. Moore, GSAF        1818.05.22.R-Norway.pdf   \n",
       "5849                                E. Olafsen         1733.00.00-Iceland.pdf   \n",
       "\n",
       "                                           Href Formula  \\\n",
       "54    http://sharkattackfile.net/spreadsheets/pdf_di...   \n",
       "1844  http://sharkattackfile.net/spreadsheets/pdf_di...   \n",
       "2449  http://sharkattackfile.net/spreadsheets/pdf_di...   \n",
       "3280  http://sharkattackfile.net/spreadsheets/pdf_di...   \n",
       "3901  http://sharkattackfile.net/spreadsheets/pdf_di...   \n",
       "4107  http://sharkattackfile.net/spreadsheets/pdf_di...   \n",
       "4112  http://sharkattackfile.net/spreadsheets/pdf_di...   \n",
       "5307  http://sharkattackfile.net/spreadsheets/pdf_di...   \n",
       "5437  http://sharkattackfile.net/spreadsheets/pdf_di...   \n",
       "5468  http://sharkattackfile.net/spreadsheets/pdf_di...   \n",
       "5642  http://sharkattackfile.net/spreadsheets/pdf_di...   \n",
       "5699  http://sharkattackfile.net/spreadsheets/pdf_di...   \n",
       "5718  http://sharkattackfile.net/spreadsheets/pdf_di...   \n",
       "5747  http://sharkattackfile.net/spreadsheets/pdf_di...   \n",
       "5793  http://sharkattackfile.net/spreadsheets/pdf_di...   \n",
       "5794  http://sharkattackfile.net/spreadsheets/pdf_di...   \n",
       "5820  http://sharkattackfile.net/spreadsheets/pdf_di...   \n",
       "5849  http://sharkattackfile.net/spreadsheets/pdf_di...   \n",
       "\n",
       "                                                   Href  Original Order  \n",
       "54    http://sharkattackfile.net/spreadsheets/pdf_di...            5939  \n",
       "1844  http://sharkattackfile.net/spreadsheets/pdf_di...            4149  \n",
       "2449  http://sharkattackfile.net/spreadsheets/pdf_di...            3545  \n",
       "3280  http://sharkattackfile.net/spreadsheets/pdf_di...            2713  \n",
       "3901  http://sharkattackfile.net/spreadsheets/pdf_di...            2092  \n",
       "4107  http://sharkattackfile.net/spreadsheets/pdf_di...            1886  \n",
       "4112  http://sharkattackfile.net/spreadsheets/pdf_di...            1881  \n",
       "5307  http://sharkattackfile.net/spreadsheets/pdf_di...             686  \n",
       "5437  http://sharkattackfile.net/spreadsheets/pdf_di...             556  \n",
       "5468  http://sharkattackfile.net/spreadsheets/pdf_di...             525  \n",
       "5642  http://sharkattackfile.net/spreadsheets/pdf_di...             351  \n",
       "5699  http://sharkattackfile.net/spreadsheets/pdf_di...             294  \n",
       "5718  http://sharkattackfile.net/spreadsheets/pdf_di...             275  \n",
       "5747  http://sharkattackfile.net/spreadsheets/pdf_di...             246  \n",
       "5793  http://sharkattackfile.net/spreadsheets/pdf_di...             200  \n",
       "5794  http://sharkattackfile.net/spreadsheets/pdf_di...             199  \n",
       "5820  http://sharkattackfile.net/spreadsheets/pdf_di...             173  \n",
       "5849  http://sharkattackfile.net/spreadsheets/pdf_di...             144  "
      ]
     },
     "execution_count": 224,
     "metadata": {},
     "output_type": "execute_result"
    }
   ],
   "source": [
    "(data[(data[\"Injury\"].notnull()) & (data[\"Fatal\"].isnull())])"
   ]
  },
  {
   "cell_type": "markdown",
   "metadata": {
    "ExecuteTime": {
     "end_time": "2020-02-05T21:11:57.966652Z",
     "start_time": "2020-02-05T21:11:57.960358Z"
    }
   },
   "source": [
    "Seen how we can fill in `Fatal` with `Injury` we will complement it.\n",
    "\n",
    "We can see we have free text and tabulations so we will use two different methods:"
   ]
  },
  {
   "cell_type": "markdown",
   "metadata": {},
   "source": [
    "**Method 1**"
   ]
  },
  {
   "cell_type": "code",
   "execution_count": 225,
   "metadata": {
    "ExecuteTime": {
     "end_time": "2020-02-06T22:28:31.327056Z",
     "start_time": "2020-02-06T22:28:31.099559Z"
    }
   },
   "outputs": [
    {
     "name": "stderr",
     "output_type": "stream",
     "text": [
      "/usr/local/lib/python3.7/site-packages/ipykernel_launcher.py:4: SettingWithCopyWarning: \n",
      "A value is trying to be set on a copy of a slice from a DataFrame\n",
      "\n",
      "See the caveats in the documentation: http://pandas.pydata.org/pandas-docs/stable/user_guide/indexing.html#returning-a-view-versus-a-copy\n",
      "  after removing the cwd from sys.path.\n"
     ]
    }
   ],
   "source": [
    "#for tabulations use a loop\n",
    "for i in data.index: \n",
    "    if data[\"Injury\"][i] == \"FATAL\":\n",
    "        data[\"Fatal\"][i] = \"Y\""
   ]
  },
  {
   "cell_type": "markdown",
   "metadata": {},
   "source": [
    "**Method 2**"
   ]
  },
  {
   "cell_type": "code",
   "execution_count": 226,
   "metadata": {
    "ExecuteTime": {
     "end_time": "2020-02-06T22:28:33.158361Z",
     "start_time": "2020-02-06T22:28:33.051840Z"
    }
   },
   "outputs": [],
   "source": [
    "#for free writting use string operations\n",
    "data.loc[data[\"Injury\"].str.contains(\"FATAL.\", na = False), \"Fatal\"] = \"Y\"\n",
    "data.loc[data[\"Injury\"].str.contains(\"remains\", na = False), \"Fatal\"] = \"Y\"\n",
    "data.loc[data[\"Injury\"].str.contains(\"drowning\", na = False), \"Fatal\"] = \"Y\"\n",
    "data.loc[data[\"Injury\"].str.contains(\"Death\", na = False), \"Fatal\"] = \"Y\"\n",
    "data.loc[data[\"Injury\"].str.contains(\"Disappeared\", na = False), \"Fatal\"] = \"Y\"\n",
    "data.loc[data[\"Injury\"].str.contains(\"No injury\", na = False), \"Fatal\"] = \"N\"\n",
    "data.loc[data[\"Injury\"].str.contains(\"no injury\", na = False), \"Fatal\"] = \"N\"\n",
    "data.loc[data[\"Injury\"].str.contains(\"Boat\", na = False), \"Fatal\"] = \"N\"\n",
    "data.loc[data[\"Injury\"].str.contains(\"injured\", na = False), \"Fatal\"] = \"N\"\n"
   ]
  },
  {
   "cell_type": "markdown",
   "metadata": {},
   "source": [
    "Seen that we have filled the corresponding cells in `Fatal` with the ones in `Injury` we will DROP the second column"
   ]
  },
  {
   "cell_type": "code",
   "execution_count": 258,
   "metadata": {
    "ExecuteTime": {
     "end_time": "2020-02-06T22:31:48.228564Z",
     "start_time": "2020-02-06T22:31:48.209109Z"
    }
   },
   "outputs": [
    {
     "data": {
      "text/html": [
       "<div>\n",
       "<style scoped>\n",
       "    .dataframe tbody tr th:only-of-type {\n",
       "        vertical-align: middle;\n",
       "    }\n",
       "\n",
       "    .dataframe tbody tr th {\n",
       "        vertical-align: top;\n",
       "    }\n",
       "\n",
       "    .dataframe thead th {\n",
       "        text-align: right;\n",
       "    }\n",
       "</style>\n",
       "<table border=\"1\" class=\"dataframe\">\n",
       "  <thead>\n",
       "    <tr style=\"text-align: right;\">\n",
       "      <th></th>\n",
       "      <th>Year</th>\n",
       "      <th>Country</th>\n",
       "      <th>Sex</th>\n",
       "      <th>Activity</th>\n",
       "      <th>Type</th>\n",
       "      <th>Fatal</th>\n",
       "    </tr>\n",
       "  </thead>\n",
       "  <tbody>\n",
       "    <tr>\n",
       "      <th>0</th>\n",
       "      <td>2016</td>\n",
       "      <td>USA</td>\n",
       "      <td>M</td>\n",
       "      <td>Surfing</td>\n",
       "      <td>Unprovoked</td>\n",
       "      <td>N</td>\n",
       "    </tr>\n",
       "    <tr>\n",
       "      <th>1</th>\n",
       "      <td>2016</td>\n",
       "      <td>USA</td>\n",
       "      <td>M</td>\n",
       "      <td>Surfing</td>\n",
       "      <td>Unprovoked</td>\n",
       "      <td>N</td>\n",
       "    </tr>\n",
       "    <tr>\n",
       "      <th>2</th>\n",
       "      <td>2016</td>\n",
       "      <td>USA</td>\n",
       "      <td>M</td>\n",
       "      <td>Surfing</td>\n",
       "      <td>Unprovoked</td>\n",
       "      <td>N</td>\n",
       "    </tr>\n",
       "    <tr>\n",
       "      <th>3</th>\n",
       "      <td>2016</td>\n",
       "      <td>Australia</td>\n",
       "      <td>M</td>\n",
       "      <td>Surfing</td>\n",
       "      <td>Unprovoked</td>\n",
       "      <td>N</td>\n",
       "    </tr>\n",
       "    <tr>\n",
       "      <th>4</th>\n",
       "      <td>2016</td>\n",
       "      <td>Australia</td>\n",
       "      <td>M</td>\n",
       "      <td>Surfing</td>\n",
       "      <td>Unprovoked</td>\n",
       "      <td>N</td>\n",
       "    </tr>\n",
       "    <tr>\n",
       "      <th>...</th>\n",
       "      <td>...</td>\n",
       "      <td>...</td>\n",
       "      <td>...</td>\n",
       "      <td>...</td>\n",
       "      <td>...</td>\n",
       "      <td>...</td>\n",
       "    </tr>\n",
       "    <tr>\n",
       "      <th>5987</th>\n",
       "      <td>Before 1903</td>\n",
       "      <td>Australia</td>\n",
       "      <td>M</td>\n",
       "      <td>Diving</td>\n",
       "      <td>Unprovoked</td>\n",
       "      <td>Y</td>\n",
       "    </tr>\n",
       "    <tr>\n",
       "      <th>5988</th>\n",
       "      <td>Before 1903</td>\n",
       "      <td>Australia</td>\n",
       "      <td>M</td>\n",
       "      <td>Pearl diving</td>\n",
       "      <td>Unprovoked</td>\n",
       "      <td>Y</td>\n",
       "    </tr>\n",
       "    <tr>\n",
       "      <th>5989</th>\n",
       "      <td>1900-1905</td>\n",
       "      <td>USA</td>\n",
       "      <td>M</td>\n",
       "      <td>Swimming</td>\n",
       "      <td>Unprovoked</td>\n",
       "      <td>Y</td>\n",
       "    </tr>\n",
       "    <tr>\n",
       "      <th>5990</th>\n",
       "      <td>1883-1889</td>\n",
       "      <td>Panama</td>\n",
       "      <td>M</td>\n",
       "      <td>NaN</td>\n",
       "      <td>Unprovoked</td>\n",
       "      <td>Y</td>\n",
       "    </tr>\n",
       "    <tr>\n",
       "      <th>5991</th>\n",
       "      <td>1845-1853</td>\n",
       "      <td>Ceylon (Sri Lanka)</td>\n",
       "      <td>M</td>\n",
       "      <td>Swimming</td>\n",
       "      <td>Unprovoked</td>\n",
       "      <td>Y</td>\n",
       "    </tr>\n",
       "  </tbody>\n",
       "</table>\n",
       "<p>5937 rows × 6 columns</p>\n",
       "</div>"
      ],
      "text/plain": [
       "             Year             Country Sex      Activity        Type Fatal\n",
       "0            2016                 USA   M       Surfing  Unprovoked     N\n",
       "1            2016                 USA   M       Surfing  Unprovoked     N\n",
       "2            2016                 USA   M       Surfing  Unprovoked     N\n",
       "3            2016           Australia   M       Surfing  Unprovoked     N\n",
       "4            2016           Australia   M       Surfing  Unprovoked     N\n",
       "...           ...                 ...  ..           ...         ...   ...\n",
       "5987  Before 1903           Australia   M        Diving  Unprovoked     Y\n",
       "5988  Before 1903           Australia   M  Pearl diving  Unprovoked     Y\n",
       "5989    1900-1905                 USA   M      Swimming  Unprovoked     Y\n",
       "5990    1883-1889              Panama   M           NaN  Unprovoked     Y\n",
       "5991    1845-1853  Ceylon (Sri Lanka)   M      Swimming  Unprovoked     Y\n",
       "\n",
       "[5937 rows x 6 columns]"
      ]
     },
     "execution_count": 258,
     "metadata": {},
     "output_type": "execute_result"
    }
   ],
   "source": [
    "data = data.drop(\"Injury\", axis = 1)\n",
    "data"
   ]
  },
  {
   "cell_type": "markdown",
   "metadata": {},
   "source": [
    "So far we have made quite a bit of changes so we will check the shape once more"
   ]
  },
  {
   "cell_type": "code",
   "execution_count": 228,
   "metadata": {
    "ExecuteTime": {
     "end_time": "2020-02-06T22:28:41.191741Z",
     "start_time": "2020-02-06T22:28:41.185641Z"
    }
   },
   "outputs": [
    {
     "data": {
      "text/plain": [
       "(5937, 17)"
      ]
     },
     "execution_count": 228,
     "metadata": {},
     "output_type": "execute_result"
    }
   ],
   "source": [
    "data.shape"
   ]
  },
  {
   "cell_type": "markdown",
   "metadata": {},
   "source": [
    "### GROUP 3: SEX"
   ]
  },
  {
   "cell_type": "markdown",
   "metadata": {},
   "source": [
    "For `Sex`, we will do something a bit different, given that it is only one column and it is more if a tabulation, we will do the same with `Type`.\n",
    "\n",
    "We will start the same, checking for NULLs"
   ]
  },
  {
   "cell_type": "code",
   "execution_count": 229,
   "metadata": {
    "ExecuteTime": {
     "end_time": "2020-02-06T22:28:42.794160Z",
     "start_time": "2020-02-06T22:28:42.787236Z"
    }
   },
   "outputs": [
    {
     "data": {
      "text/plain": [
       "564"
      ]
     },
     "execution_count": 229,
     "metadata": {},
     "output_type": "execute_result"
    }
   ],
   "source": [
    "data[\"Sex\"].isnull().sum()"
   ]
  },
  {
   "cell_type": "markdown",
   "metadata": {},
   "source": [
    "We will check all the unique values that we have"
   ]
  },
  {
   "cell_type": "code",
   "execution_count": 230,
   "metadata": {
    "ExecuteTime": {
     "end_time": "2020-02-06T22:28:44.092824Z",
     "start_time": "2020-02-06T22:28:44.083468Z"
    }
   },
   "outputs": [
    {
     "data": {
      "text/plain": [
       "M      4788\n",
       "F       580\n",
       "M         2\n",
       "lli       1\n",
       "N         1\n",
       ".         1\n",
       "Name: Sex, dtype: int64"
      ]
     },
     "execution_count": 230,
     "metadata": {},
     "output_type": "execute_result"
    }
   ],
   "source": [
    "data[\"Sex\"].value_counts()"
   ]
  },
  {
   "cell_type": "markdown",
   "metadata": {},
   "source": [
    "Using logic we will replace the ones we can with the correct answer, the ones we don't know we will categorize them as Unkown"
   ]
  },
  {
   "cell_type": "code",
   "execution_count": 231,
   "metadata": {
    "ExecuteTime": {
     "end_time": "2020-02-06T22:28:44.981069Z",
     "start_time": "2020-02-06T22:28:44.955458Z"
    }
   },
   "outputs": [],
   "source": [
    "data['Sex'] = data['Sex'].str.replace('M ', 'M') #extra space\n",
    "data['Sex'] = data['Sex'].str.replace('N', 'M') # N next to the M\n",
    "data['Sex'] = data['Sex'].str.replace('.', 'M') # . next to the M\n",
    "data['Sex'] = data['Sex'].str.replace('lli', 'Unkown') # lli unknown meaning\n",
    "data['Sex'] = data['Sex'].fillna('Unkown')"
   ]
  },
  {
   "cell_type": "markdown",
   "metadata": {},
   "source": [
    "We will double check the values and the NULLs"
   ]
  },
  {
   "cell_type": "code",
   "execution_count": 232,
   "metadata": {
    "ExecuteTime": {
     "end_time": "2020-02-06T22:28:45.885108Z",
     "start_time": "2020-02-06T22:28:45.874824Z"
    }
   },
   "outputs": [
    {
     "data": {
      "text/plain": [
       "{'F', 'M', 'Unkown'}"
      ]
     },
     "execution_count": 232,
     "metadata": {},
     "output_type": "execute_result"
    },
    {
     "data": {
      "text/plain": [
       "0"
      ]
     },
     "execution_count": 232,
     "metadata": {},
     "output_type": "execute_result"
    }
   ],
   "source": [
    "set(data[\"Sex\"])\n",
    "data[\"Sex\"].isnull().sum()"
   ]
  },
  {
   "cell_type": "markdown",
   "metadata": {},
   "source": [
    "### GROUP 4: TYPE"
   ]
  },
  {
   "cell_type": "markdown",
   "metadata": {},
   "source": [
    "We will follow a very similar path with what we did in `Sex`.\n",
    "\n",
    "We will start the same, checking for NULLs"
   ]
  },
  {
   "cell_type": "code",
   "execution_count": 233,
   "metadata": {
    "ExecuteTime": {
     "end_time": "2020-02-06T22:28:47.296452Z",
     "start_time": "2020-02-06T22:28:47.290205Z"
    }
   },
   "outputs": [
    {
     "data": {
      "text/plain": [
       "0"
      ]
     },
     "execution_count": 233,
     "metadata": {},
     "output_type": "execute_result"
    }
   ],
   "source": [
    "data[\"Type\"].isnull().sum()"
   ]
  },
  {
   "cell_type": "code",
   "execution_count": 234,
   "metadata": {
    "ExecuteTime": {
     "end_time": "2020-02-06T22:28:47.841005Z",
     "start_time": "2020-02-06T22:28:47.829903Z"
    }
   },
   "outputs": [
    {
     "data": {
      "text/plain": [
       "Unprovoked      4350\n",
       "Provoked         552\n",
       "Invalid          512\n",
       "Sea Disaster     216\n",
       "Boat             199\n",
       "Boating          108\n",
       "Name: Type, dtype: int64"
      ]
     },
     "execution_count": 234,
     "metadata": {},
     "output_type": "execute_result"
    }
   ],
   "source": [
    "data[\"Type\"].value_counts()"
   ]
  },
  {
   "cell_type": "markdown",
   "metadata": {
    "ExecuteTime": {
     "end_time": "2020-02-04T19:40:47.455501Z",
     "start_time": "2020-02-04T19:40:47.443149Z"
    }
   },
   "source": [
    "We unify the similar ones (*Boating* and *Boat*)"
   ]
  },
  {
   "cell_type": "code",
   "execution_count": 235,
   "metadata": {
    "ExecuteTime": {
     "end_time": "2020-02-06T22:28:48.869671Z",
     "start_time": "2020-02-06T22:28:48.859491Z"
    }
   },
   "outputs": [],
   "source": [
    "data[\"Type\"] = data[\"Type\"].str.replace(\"Boating\", \"Boat\")"
   ]
  },
  {
   "cell_type": "markdown",
   "metadata": {},
   "source": [
    "We will double check the values, in this case, given that we have 0 NULLs it's not needed to check it."
   ]
  },
  {
   "cell_type": "code",
   "execution_count": 236,
   "metadata": {
    "ExecuteTime": {
     "end_time": "2020-02-06T22:28:49.641754Z",
     "start_time": "2020-02-06T22:28:49.635198Z"
    }
   },
   "outputs": [
    {
     "data": {
      "text/plain": [
       "{'Boat', 'Invalid', 'Provoked', 'Sea Disaster', 'Unprovoked'}"
      ]
     },
     "execution_count": 236,
     "metadata": {},
     "output_type": "execute_result"
    }
   ],
   "source": [
    "set(data[\"Type\"])"
   ]
  },
  {
   "cell_type": "markdown",
   "metadata": {},
   "source": [
    "### GROUP 5: DATE & YEAR"
   ]
  },
  {
   "cell_type": "markdown",
   "metadata": {},
   "source": [
    "`Date` and `Year` are quite difficult coulumns because strigs and integers are mixed.\n",
    "\n",
    "From the begining we saw that both columns has no NULLs so we don't have to revise that."
   ]
  },
  {
   "cell_type": "code",
   "execution_count": 238,
   "metadata": {
    "ExecuteTime": {
     "end_time": "2020-02-06T22:28:55.901723Z",
     "start_time": "2020-02-06T22:28:55.890712Z"
    }
   },
   "outputs": [
    {
     "data": {
      "text/plain": [
       "115"
      ]
     },
     "execution_count": 238,
     "metadata": {},
     "output_type": "execute_result"
    },
    {
     "data": {
      "text/plain": [
       "0"
      ]
     },
     "execution_count": 238,
     "metadata": {},
     "output_type": "execute_result"
    }
   ],
   "source": [
    "(data[\"Year\"] == 0).sum()\n",
    "(data[\"Year\"] == str).sum()"
   ]
  },
  {
   "cell_type": "code",
   "execution_count": 239,
   "metadata": {
    "ExecuteTime": {
     "end_time": "2020-02-06T22:28:56.570007Z",
     "start_time": "2020-02-06T22:28:56.558606Z"
    }
   },
   "outputs": [
    {
     "data": {
      "text/html": [
       "<div>\n",
       "<style scoped>\n",
       "    .dataframe tbody tr th:only-of-type {\n",
       "        vertical-align: middle;\n",
       "    }\n",
       "\n",
       "    .dataframe tbody tr th {\n",
       "        vertical-align: top;\n",
       "    }\n",
       "\n",
       "    .dataframe thead th {\n",
       "        text-align: right;\n",
       "    }\n",
       "</style>\n",
       "<table border=\"1\" class=\"dataframe\">\n",
       "  <thead>\n",
       "    <tr style=\"text-align: right;\">\n",
       "      <th></th>\n",
       "      <th>Year</th>\n",
       "      <th>Date</th>\n",
       "    </tr>\n",
       "  </thead>\n",
       "  <tbody>\n",
       "    <tr>\n",
       "      <th>5987</th>\n",
       "      <td>0</td>\n",
       "      <td>Before 1903</td>\n",
       "    </tr>\n",
       "    <tr>\n",
       "      <th>5988</th>\n",
       "      <td>0</td>\n",
       "      <td>Before 1903</td>\n",
       "    </tr>\n",
       "    <tr>\n",
       "      <th>5989</th>\n",
       "      <td>0</td>\n",
       "      <td>1900-1905</td>\n",
       "    </tr>\n",
       "    <tr>\n",
       "      <th>5990</th>\n",
       "      <td>0</td>\n",
       "      <td>1883-1889</td>\n",
       "    </tr>\n",
       "    <tr>\n",
       "      <th>5991</th>\n",
       "      <td>0</td>\n",
       "      <td>1845-1853</td>\n",
       "    </tr>\n",
       "  </tbody>\n",
       "</table>\n",
       "</div>"
      ],
      "text/plain": [
       "      Year         Date\n",
       "5987     0  Before 1903\n",
       "5988     0  Before 1903\n",
       "5989     0    1900-1905\n",
       "5990     0    1883-1889\n",
       "5991     0    1845-1853"
      ]
     },
     "execution_count": 239,
     "metadata": {},
     "output_type": "execute_result"
    }
   ],
   "source": [
    "pd.DataFrame(data,columns=['Year','Date']).tail()"
   ]
  },
  {
   "cell_type": "code",
   "execution_count": 240,
   "metadata": {
    "ExecuteTime": {
     "end_time": "2020-02-06T22:28:57.333236Z",
     "start_time": "2020-02-06T22:28:57.179347Z"
    }
   },
   "outputs": [
    {
     "name": "stderr",
     "output_type": "stream",
     "text": [
      "/usr/local/lib/python3.7/site-packages/ipykernel_launcher.py:5: SettingWithCopyWarning: \n",
      "A value is trying to be set on a copy of a slice from a DataFrame\n",
      "\n",
      "See the caveats in the documentation: http://pandas.pydata.org/pandas-docs/stable/user_guide/indexing.html#returning-a-view-versus-a-copy\n",
      "  \"\"\"\n"
     ]
    }
   ],
   "source": [
    "#starting from the bottom up most if the years are 0 and the dates are years so we will organize the info \n",
    "#in the proper columns\n",
    "for i in data.index: #pq accederemos a 2 columnas no solo a una\n",
    "    if data[\"Year\"][i] == 0:\n",
    "        data[\"Year\"][i] = data[\"Date\"][i]\n",
    "data = data"
   ]
  },
  {
   "cell_type": "markdown",
   "metadata": {
    "ExecuteTime": {
     "end_time": "2020-02-02T15:50:04.375779Z",
     "start_time": "2020-02-02T15:50:04.368158Z"
    }
   },
   "source": [
    "Now we have at least 124 repeated pieces of information given that we've copied from `Date` to `Year`.\n",
    "\n",
    "We will have to check what information has been transfered and if there's any free wrting in the years.\n",
    "\n",
    "After, given that we want to extract the month from `Date`, if the information is the exact same as in `Year` we will know that the months will not be reflected and we can assign them a new value: *Unkown*\n"
   ]
  },
  {
   "cell_type": "code",
   "execution_count": 242,
   "metadata": {
    "ExecuteTime": {
     "end_time": "2020-02-06T22:29:29.618776Z",
     "start_time": "2020-02-06T22:29:28.797009Z"
    }
   },
   "outputs": [
    {
     "name": "stderr",
     "output_type": "stream",
     "text": [
      "/usr/local/lib/python3.7/site-packages/ipykernel_launcher.py:12: SettingWithCopyWarning: \n",
      "A value is trying to be set on a copy of a slice from a DataFrame\n",
      "\n",
      "See the caveats in the documentation: http://pandas.pydata.org/pandas-docs/stable/user_guide/indexing.html#returning-a-view-versus-a-copy\n",
      "  if sys.path[0] == '':\n",
      "/usr/local/lib/python3.7/site-packages/ipykernel_launcher.py:10: SettingWithCopyWarning: \n",
      "A value is trying to be set on a copy of a slice from a DataFrame\n",
      "\n",
      "See the caveats in the documentation: http://pandas.pydata.org/pandas-docs/stable/user_guide/indexing.html#returning-a-view-versus-a-copy\n",
      "  # Remove the CWD from sys.path while we load stuff.\n"
     ]
    }
   ],
   "source": [
    "def clean_dates(data):\n",
    "    for i in data.index: \n",
    "        if data[\"Date\"][i] == data[\"Year\"][i]:\n",
    "             data[\"Date\"][i] = \"Unknown\"\n",
    "        elif str(data[\"Year\"][i]).startswith(\"[a-zA-Z]+ [a-zA-Z]+\"):\n",
    "            data[\"Year\"][i] = data[\"Year\"][i][-4:]\n",
    "        #elif str(data[\"Year\"][i]).endswith(\"\\\"):\n",
    "            #data[\"Year\"][i] = data[\"Year\"][i][4:]\n",
    "        elif \"war\" in str(data[\"Year\"][i]) or \"War\" in str(data[\"Year\"][i]) :\n",
    "            data[\"Year\"][i] = \"1945\"\n",
    "        elif data[\"Year\"][i] == \"No date\" or len(str(data[\"Year\"][i])) < 4:\n",
    "            data[\"Year\"][i] = \"Unkown\"\n",
    "clean_dates(data)"
   ]
  },
  {
   "cell_type": "code",
   "execution_count": 243,
   "metadata": {
    "ExecuteTime": {
     "end_time": "2020-02-06T22:29:33.070056Z",
     "start_time": "2020-02-06T22:29:33.036951Z"
    }
   },
   "outputs": [
    {
     "data": {
      "text/html": [
       "<div>\n",
       "<style scoped>\n",
       "    .dataframe tbody tr th:only-of-type {\n",
       "        vertical-align: middle;\n",
       "    }\n",
       "\n",
       "    .dataframe tbody tr th {\n",
       "        vertical-align: top;\n",
       "    }\n",
       "\n",
       "    .dataframe thead th {\n",
       "        text-align: right;\n",
       "    }\n",
       "</style>\n",
       "<table border=\"1\" class=\"dataframe\">\n",
       "  <thead>\n",
       "    <tr style=\"text-align: right;\">\n",
       "      <th></th>\n",
       "      <th>Case Number</th>\n",
       "      <th>Case Number 1</th>\n",
       "      <th>Case Number 2</th>\n",
       "      <th>Date</th>\n",
       "      <th>Year</th>\n",
       "      <th>Country</th>\n",
       "      <th>Name</th>\n",
       "      <th>Sex</th>\n",
       "      <th>Activity</th>\n",
       "      <th>Type</th>\n",
       "      <th>Injury</th>\n",
       "      <th>Fatal</th>\n",
       "      <th>Investigator or Source</th>\n",
       "      <th>Pdf</th>\n",
       "      <th>Href Formula</th>\n",
       "      <th>Href</th>\n",
       "      <th>Original Order</th>\n",
       "    </tr>\n",
       "  </thead>\n",
       "  <tbody>\n",
       "    <tr>\n",
       "      <th>0</th>\n",
       "      <td>2016.09.18.c</td>\n",
       "      <td>2016.09.18.c</td>\n",
       "      <td>2016.09.18.c</td>\n",
       "      <td>18-Sep-16</td>\n",
       "      <td>2016</td>\n",
       "      <td>USA</td>\n",
       "      <td>male</td>\n",
       "      <td>M</td>\n",
       "      <td>Surfing</td>\n",
       "      <td>Unprovoked</td>\n",
       "      <td>Minor injury to thigh</td>\n",
       "      <td>N</td>\n",
       "      <td>Orlando Sentinel, 9/19/2016</td>\n",
       "      <td>2016.09.18.c-NSB.pdf</td>\n",
       "      <td>http://sharkattackfile.net/spreadsheets/pdf_di...</td>\n",
       "      <td>http://sharkattackfile.net/spreadsheets/pdf_di...</td>\n",
       "      <td>5993</td>\n",
       "    </tr>\n",
       "    <tr>\n",
       "      <th>1</th>\n",
       "      <td>2016.09.18.b</td>\n",
       "      <td>2016.09.18.b</td>\n",
       "      <td>2016.09.18.b</td>\n",
       "      <td>18-Sep-16</td>\n",
       "      <td>2016</td>\n",
       "      <td>USA</td>\n",
       "      <td>Chucky Luciano</td>\n",
       "      <td>M</td>\n",
       "      <td>Surfing</td>\n",
       "      <td>Unprovoked</td>\n",
       "      <td>Lacerations to hands</td>\n",
       "      <td>N</td>\n",
       "      <td>Orlando Sentinel, 9/19/2016</td>\n",
       "      <td>2016.09.18.b-Luciano.pdf</td>\n",
       "      <td>http://sharkattackfile.net/spreadsheets/pdf_di...</td>\n",
       "      <td>http://sharkattackfile.net/spreadsheets/pdf_di...</td>\n",
       "      <td>5992</td>\n",
       "    </tr>\n",
       "    <tr>\n",
       "      <th>2</th>\n",
       "      <td>2016.09.18.a</td>\n",
       "      <td>2016.09.18.a</td>\n",
       "      <td>2016.09.18.a</td>\n",
       "      <td>18-Sep-16</td>\n",
       "      <td>2016</td>\n",
       "      <td>USA</td>\n",
       "      <td>male</td>\n",
       "      <td>M</td>\n",
       "      <td>Surfing</td>\n",
       "      <td>Unprovoked</td>\n",
       "      <td>Lacerations to lower leg</td>\n",
       "      <td>N</td>\n",
       "      <td>Orlando Sentinel, 9/19/2016</td>\n",
       "      <td>2016.09.18.a-NSB.pdf</td>\n",
       "      <td>http://sharkattackfile.net/spreadsheets/pdf_di...</td>\n",
       "      <td>http://sharkattackfile.net/spreadsheets/pdf_di...</td>\n",
       "      <td>5991</td>\n",
       "    </tr>\n",
       "    <tr>\n",
       "      <th>3</th>\n",
       "      <td>2016.09.17</td>\n",
       "      <td>2016.09.17</td>\n",
       "      <td>2016.09.17</td>\n",
       "      <td>17-Sep-16</td>\n",
       "      <td>2016</td>\n",
       "      <td>Australia</td>\n",
       "      <td>Rory Angiolella</td>\n",
       "      <td>M</td>\n",
       "      <td>Surfing</td>\n",
       "      <td>Unprovoked</td>\n",
       "      <td>Struck by fin on chest &amp; leg</td>\n",
       "      <td>N</td>\n",
       "      <td>The Age, 9/18/2016</td>\n",
       "      <td>2016.09.17-Angiolella.pdf</td>\n",
       "      <td>http://sharkattackfile.net/spreadsheets/pdf_di...</td>\n",
       "      <td>http://sharkattackfile.net/spreadsheets/pdf_di...</td>\n",
       "      <td>5990</td>\n",
       "    </tr>\n",
       "    <tr>\n",
       "      <th>4</th>\n",
       "      <td>2016.09.15</td>\n",
       "      <td>2016.09.16</td>\n",
       "      <td>2016.09.15</td>\n",
       "      <td>16-Sep-16</td>\n",
       "      <td>2016</td>\n",
       "      <td>Australia</td>\n",
       "      <td>male</td>\n",
       "      <td>M</td>\n",
       "      <td>Surfing</td>\n",
       "      <td>Unprovoked</td>\n",
       "      <td>No injury: Knocked off board by shark</td>\n",
       "      <td>N</td>\n",
       "      <td>The Age, 9/16/2016</td>\n",
       "      <td>2016.09.16-BellsBeach.pdf</td>\n",
       "      <td>http://sharkattackfile.net/spreadsheets/pdf_di...</td>\n",
       "      <td>http://sharkattackfile.net/spreadsheets/pdf_di...</td>\n",
       "      <td>5989</td>\n",
       "    </tr>\n",
       "    <tr>\n",
       "      <th>...</th>\n",
       "      <td>...</td>\n",
       "      <td>...</td>\n",
       "      <td>...</td>\n",
       "      <td>...</td>\n",
       "      <td>...</td>\n",
       "      <td>...</td>\n",
       "      <td>...</td>\n",
       "      <td>...</td>\n",
       "      <td>...</td>\n",
       "      <td>...</td>\n",
       "      <td>...</td>\n",
       "      <td>...</td>\n",
       "      <td>...</td>\n",
       "      <td>...</td>\n",
       "      <td>...</td>\n",
       "      <td>...</td>\n",
       "      <td>...</td>\n",
       "    </tr>\n",
       "    <tr>\n",
       "      <th>5987</th>\n",
       "      <td>ND.0005</td>\n",
       "      <td>ND.0005</td>\n",
       "      <td>ND.0005</td>\n",
       "      <td>Unknown</td>\n",
       "      <td>Before 1903</td>\n",
       "      <td>Australia</td>\n",
       "      <td>male</td>\n",
       "      <td>M</td>\n",
       "      <td>Diving</td>\n",
       "      <td>Unprovoked</td>\n",
       "      <td>FATAL</td>\n",
       "      <td>Y</td>\n",
       "      <td>H. Taunton; N. Bartlett,  p. 234</td>\n",
       "      <td>ND-0005-RoebuckBay.pdf</td>\n",
       "      <td>http://sharkattackfile.net/spreadsheets/pdf_di...</td>\n",
       "      <td>http://sharkattackfile.net/spreadsheets/pdf_di...</td>\n",
       "      <td>6</td>\n",
       "    </tr>\n",
       "    <tr>\n",
       "      <th>5988</th>\n",
       "      <td>ND.0004</td>\n",
       "      <td>ND.0004</td>\n",
       "      <td>ND.0004</td>\n",
       "      <td>Unknown</td>\n",
       "      <td>Before 1903</td>\n",
       "      <td>Australia</td>\n",
       "      <td>Ahmun</td>\n",
       "      <td>M</td>\n",
       "      <td>Pearl diving</td>\n",
       "      <td>Unprovoked</td>\n",
       "      <td>FATAL</td>\n",
       "      <td>Y</td>\n",
       "      <td>H. Taunton; N. Bartlett,  pp. 233-234</td>\n",
       "      <td>ND-0004-Ahmun.pdf</td>\n",
       "      <td>http://sharkattackfile.net/spreadsheets/pdf_di...</td>\n",
       "      <td>http://sharkattackfile.net/spreadsheets/pdf_di...</td>\n",
       "      <td>5</td>\n",
       "    </tr>\n",
       "    <tr>\n",
       "      <th>5989</th>\n",
       "      <td>ND.0003</td>\n",
       "      <td>ND.0003</td>\n",
       "      <td>ND.0003</td>\n",
       "      <td>Unknown</td>\n",
       "      <td>1900-1905</td>\n",
       "      <td>USA</td>\n",
       "      <td>Coast Guard personnel</td>\n",
       "      <td>M</td>\n",
       "      <td>Swimming</td>\n",
       "      <td>Unprovoked</td>\n",
       "      <td>FATAL</td>\n",
       "      <td>Y</td>\n",
       "      <td>F. Schwartz, p.23; C. Creswell, GSAF</td>\n",
       "      <td>ND-0003-Ocracoke_1900-1905.pdf</td>\n",
       "      <td>http://sharkattackfile.net/spreadsheets/pdf_di...</td>\n",
       "      <td>http://sharkattackfile.net/spreadsheets/pdf_di...</td>\n",
       "      <td>4</td>\n",
       "    </tr>\n",
       "    <tr>\n",
       "      <th>5990</th>\n",
       "      <td>ND.0002</td>\n",
       "      <td>ND.0002</td>\n",
       "      <td>ND.0002</td>\n",
       "      <td>Unknown</td>\n",
       "      <td>1883-1889</td>\n",
       "      <td>Panama</td>\n",
       "      <td>Jules Patterson</td>\n",
       "      <td>M</td>\n",
       "      <td>NaN</td>\n",
       "      <td>Unprovoked</td>\n",
       "      <td>FATAL</td>\n",
       "      <td>Y</td>\n",
       "      <td>The Sun, 10/20/1938</td>\n",
       "      <td>ND-0002-JulesPatterson.pdf</td>\n",
       "      <td>http://sharkattackfile.net/spreadsheets/pdf_di...</td>\n",
       "      <td>http://sharkattackfile.net/spreadsheets/pdf_di...</td>\n",
       "      <td>3</td>\n",
       "    </tr>\n",
       "    <tr>\n",
       "      <th>5991</th>\n",
       "      <td>ND.0001</td>\n",
       "      <td>ND.0001</td>\n",
       "      <td>ND.0001</td>\n",
       "      <td>Unknown</td>\n",
       "      <td>1845-1853</td>\n",
       "      <td>Ceylon (Sri Lanka)</td>\n",
       "      <td>male</td>\n",
       "      <td>M</td>\n",
       "      <td>Swimming</td>\n",
       "      <td>Unprovoked</td>\n",
       "      <td>FATAL. \"Shark bit him in half, carrying away t...</td>\n",
       "      <td>Y</td>\n",
       "      <td>S.W. Baker</td>\n",
       "      <td>ND-0001-Ceylon.pdf</td>\n",
       "      <td>http://sharkattackfile.net/spreadsheets/pdf_di...</td>\n",
       "      <td>http://sharkattackfile.net/spreadsheets/pdf_di...</td>\n",
       "      <td>2</td>\n",
       "    </tr>\n",
       "  </tbody>\n",
       "</table>\n",
       "<p>5937 rows × 17 columns</p>\n",
       "</div>"
      ],
      "text/plain": [
       "       Case Number Case Number 1 Case Number 2       Date         Year  \\\n",
       "0     2016.09.18.c  2016.09.18.c  2016.09.18.c  18-Sep-16         2016   \n",
       "1     2016.09.18.b  2016.09.18.b  2016.09.18.b  18-Sep-16         2016   \n",
       "2     2016.09.18.a  2016.09.18.a  2016.09.18.a  18-Sep-16         2016   \n",
       "3       2016.09.17    2016.09.17    2016.09.17  17-Sep-16         2016   \n",
       "4       2016.09.15    2016.09.16    2016.09.15  16-Sep-16         2016   \n",
       "...            ...           ...           ...        ...          ...   \n",
       "5987       ND.0005       ND.0005       ND.0005    Unknown  Before 1903   \n",
       "5988       ND.0004       ND.0004       ND.0004    Unknown  Before 1903   \n",
       "5989       ND.0003       ND.0003       ND.0003    Unknown    1900-1905   \n",
       "5990       ND.0002       ND.0002       ND.0002    Unknown    1883-1889   \n",
       "5991       ND.0001       ND.0001       ND.0001    Unknown    1845-1853   \n",
       "\n",
       "                 Country                   Name Sex      Activity        Type  \\\n",
       "0                    USA                   male   M       Surfing  Unprovoked   \n",
       "1                    USA         Chucky Luciano   M       Surfing  Unprovoked   \n",
       "2                    USA                   male   M       Surfing  Unprovoked   \n",
       "3              Australia        Rory Angiolella   M       Surfing  Unprovoked   \n",
       "4              Australia                   male   M       Surfing  Unprovoked   \n",
       "...                  ...                    ...  ..           ...         ...   \n",
       "5987           Australia                   male   M        Diving  Unprovoked   \n",
       "5988           Australia                  Ahmun   M  Pearl diving  Unprovoked   \n",
       "5989                 USA  Coast Guard personnel   M      Swimming  Unprovoked   \n",
       "5990              Panama        Jules Patterson   M           NaN  Unprovoked   \n",
       "5991  Ceylon (Sri Lanka)                   male   M      Swimming  Unprovoked   \n",
       "\n",
       "                                                 Injury Fatal  \\\n",
       "0                                 Minor injury to thigh     N   \n",
       "1                                  Lacerations to hands     N   \n",
       "2                              Lacerations to lower leg     N   \n",
       "3                          Struck by fin on chest & leg     N   \n",
       "4                 No injury: Knocked off board by shark     N   \n",
       "...                                                 ...   ...   \n",
       "5987                                              FATAL     Y   \n",
       "5988                                              FATAL     Y   \n",
       "5989                                              FATAL     Y   \n",
       "5990                                              FATAL     Y   \n",
       "5991  FATAL. \"Shark bit him in half, carrying away t...     Y   \n",
       "\n",
       "                     Investigator or Source                             Pdf  \\\n",
       "0               Orlando Sentinel, 9/19/2016            2016.09.18.c-NSB.pdf   \n",
       "1               Orlando Sentinel, 9/19/2016        2016.09.18.b-Luciano.pdf   \n",
       "2               Orlando Sentinel, 9/19/2016            2016.09.18.a-NSB.pdf   \n",
       "3                        The Age, 9/18/2016       2016.09.17-Angiolella.pdf   \n",
       "4                        The Age, 9/16/2016       2016.09.16-BellsBeach.pdf   \n",
       "...                                     ...                             ...   \n",
       "5987       H. Taunton; N. Bartlett,  p. 234          ND-0005-RoebuckBay.pdf   \n",
       "5988  H. Taunton; N. Bartlett,  pp. 233-234               ND-0004-Ahmun.pdf   \n",
       "5989   F. Schwartz, p.23; C. Creswell, GSAF  ND-0003-Ocracoke_1900-1905.pdf   \n",
       "5990                    The Sun, 10/20/1938      ND-0002-JulesPatterson.pdf   \n",
       "5991                             S.W. Baker              ND-0001-Ceylon.pdf   \n",
       "\n",
       "                                           Href Formula  \\\n",
       "0     http://sharkattackfile.net/spreadsheets/pdf_di...   \n",
       "1     http://sharkattackfile.net/spreadsheets/pdf_di...   \n",
       "2     http://sharkattackfile.net/spreadsheets/pdf_di...   \n",
       "3     http://sharkattackfile.net/spreadsheets/pdf_di...   \n",
       "4     http://sharkattackfile.net/spreadsheets/pdf_di...   \n",
       "...                                                 ...   \n",
       "5987  http://sharkattackfile.net/spreadsheets/pdf_di...   \n",
       "5988  http://sharkattackfile.net/spreadsheets/pdf_di...   \n",
       "5989  http://sharkattackfile.net/spreadsheets/pdf_di...   \n",
       "5990  http://sharkattackfile.net/spreadsheets/pdf_di...   \n",
       "5991  http://sharkattackfile.net/spreadsheets/pdf_di...   \n",
       "\n",
       "                                                   Href  Original Order  \n",
       "0     http://sharkattackfile.net/spreadsheets/pdf_di...            5993  \n",
       "1     http://sharkattackfile.net/spreadsheets/pdf_di...            5992  \n",
       "2     http://sharkattackfile.net/spreadsheets/pdf_di...            5991  \n",
       "3     http://sharkattackfile.net/spreadsheets/pdf_di...            5990  \n",
       "4     http://sharkattackfile.net/spreadsheets/pdf_di...            5989  \n",
       "...                                                 ...             ...  \n",
       "5987  http://sharkattackfile.net/spreadsheets/pdf_di...               6  \n",
       "5988  http://sharkattackfile.net/spreadsheets/pdf_di...               5  \n",
       "5989  http://sharkattackfile.net/spreadsheets/pdf_di...               4  \n",
       "5990  http://sharkattackfile.net/spreadsheets/pdf_di...               3  \n",
       "5991  http://sharkattackfile.net/spreadsheets/pdf_di...               2  \n",
       "\n",
       "[5937 rows x 17 columns]"
      ]
     },
     "execution_count": 243,
     "metadata": {},
     "output_type": "execute_result"
    }
   ],
   "source": [
    "data"
   ]
  },
  {
   "cell_type": "markdown",
   "metadata": {},
   "source": [
    "# Elimination"
   ]
  },
  {
   "cell_type": "markdown",
   "metadata": {},
   "source": [
    "Once we have studied and organized the values and columns of the table that we know (or think) will be usesful we can go ahead an eliminate those columns that we will not use."
   ]
  },
  {
   "cell_type": "markdown",
   "metadata": {},
   "source": [
    "If we print `Case Number`, `Case Number 1`, `Case Number 2` and `Date` we see it's quite similar so we won't be needing the first three columns.\n"
   ]
  },
  {
   "cell_type": "code",
   "execution_count": 142,
   "metadata": {
    "ExecuteTime": {
     "end_time": "2020-02-06T22:15:41.676928Z",
     "start_time": "2020-02-06T22:15:41.629899Z"
    },
    "collapsed": true
   },
   "outputs": [
    {
     "ename": "KeyError",
     "evalue": "'Case Number'",
     "output_type": "error",
     "traceback": [
      "\u001b[0;31m---------------------------------------------------------------------------\u001b[0m",
      "\u001b[0;31mKeyError\u001b[0m                                  Traceback (most recent call last)",
      "\u001b[0;32m/usr/local/lib/python3.7/site-packages/pandas/core/indexes/base.py\u001b[0m in \u001b[0;36mget_loc\u001b[0;34m(self, key, method, tolerance)\u001b[0m\n\u001b[1;32m   2896\u001b[0m             \u001b[0;32mtry\u001b[0m\u001b[0;34m:\u001b[0m\u001b[0;34m\u001b[0m\u001b[0;34m\u001b[0m\u001b[0m\n\u001b[0;32m-> 2897\u001b[0;31m                 \u001b[0;32mreturn\u001b[0m \u001b[0mself\u001b[0m\u001b[0;34m.\u001b[0m\u001b[0m_engine\u001b[0m\u001b[0;34m.\u001b[0m\u001b[0mget_loc\u001b[0m\u001b[0;34m(\u001b[0m\u001b[0mkey\u001b[0m\u001b[0;34m)\u001b[0m\u001b[0;34m\u001b[0m\u001b[0;34m\u001b[0m\u001b[0m\n\u001b[0m\u001b[1;32m   2898\u001b[0m             \u001b[0;32mexcept\u001b[0m \u001b[0mKeyError\u001b[0m\u001b[0;34m:\u001b[0m\u001b[0;34m\u001b[0m\u001b[0;34m\u001b[0m\u001b[0m\n",
      "\u001b[0;32mpandas/_libs/index.pyx\u001b[0m in \u001b[0;36mpandas._libs.index.IndexEngine.get_loc\u001b[0;34m()\u001b[0m\n",
      "\u001b[0;32mpandas/_libs/index.pyx\u001b[0m in \u001b[0;36mpandas._libs.index.IndexEngine.get_loc\u001b[0;34m()\u001b[0m\n",
      "\u001b[0;32mpandas/_libs/hashtable_class_helper.pxi\u001b[0m in \u001b[0;36mpandas._libs.hashtable.PyObjectHashTable.get_item\u001b[0;34m()\u001b[0m\n",
      "\u001b[0;32mpandas/_libs/hashtable_class_helper.pxi\u001b[0m in \u001b[0;36mpandas._libs.hashtable.PyObjectHashTable.get_item\u001b[0;34m()\u001b[0m\n",
      "\u001b[0;31mKeyError\u001b[0m: 'Case Number'",
      "\nDuring handling of the above exception, another exception occurred:\n",
      "\u001b[0;31mKeyError\u001b[0m                                  Traceback (most recent call last)",
      "\u001b[0;32m<ipython-input-142-d345727da853>\u001b[0m in \u001b[0;36m<module>\u001b[0;34m\u001b[0m\n\u001b[0;32m----> 1\u001b[0;31m \u001b[0mdata\u001b[0m\u001b[0;34m[\u001b[0m\u001b[0mdata\u001b[0m\u001b[0;34m[\u001b[0m\u001b[0;34m\"Case Number\"\u001b[0m\u001b[0;34m]\u001b[0m\u001b[0;34m.\u001b[0m\u001b[0mnotnull\u001b[0m\u001b[0;34m(\u001b[0m\u001b[0;34m)\u001b[0m \u001b[0;34m&\u001b[0m \u001b[0mdata\u001b[0m\u001b[0;34m[\u001b[0m\u001b[0;34m\"Case Number 1\"\u001b[0m\u001b[0;34m]\u001b[0m\u001b[0;34m.\u001b[0m\u001b[0mnotnull\u001b[0m\u001b[0;34m(\u001b[0m\u001b[0;34m)\u001b[0m \u001b[0;34m&\u001b[0m \u001b[0mdata\u001b[0m\u001b[0;34m[\u001b[0m\u001b[0;34m\"Case Number 2\"\u001b[0m\u001b[0;34m]\u001b[0m\u001b[0;34m.\u001b[0m\u001b[0mnotnull\u001b[0m\u001b[0;34m(\u001b[0m\u001b[0;34m)\u001b[0m \u001b[0;34m&\u001b[0m \u001b[0mdata\u001b[0m\u001b[0;34m[\u001b[0m\u001b[0;34m\"Date\"\u001b[0m\u001b[0;34m]\u001b[0m\u001b[0;34m.\u001b[0m\u001b[0mnotnull\u001b[0m\u001b[0;34m(\u001b[0m\u001b[0;34m)\u001b[0m\u001b[0;34m]\u001b[0m\u001b[0;34m.\u001b[0m\u001b[0mhead\u001b[0m\u001b[0;34m(\u001b[0m\u001b[0;34m)\u001b[0m\u001b[0;34m\u001b[0m\u001b[0;34m\u001b[0m\u001b[0m\n\u001b[0m",
      "\u001b[0;32m/usr/local/lib/python3.7/site-packages/pandas/core/frame.py\u001b[0m in \u001b[0;36m__getitem__\u001b[0;34m(self, key)\u001b[0m\n\u001b[1;32m   2993\u001b[0m             \u001b[0;32mif\u001b[0m \u001b[0mself\u001b[0m\u001b[0;34m.\u001b[0m\u001b[0mcolumns\u001b[0m\u001b[0;34m.\u001b[0m\u001b[0mnlevels\u001b[0m \u001b[0;34m>\u001b[0m \u001b[0;36m1\u001b[0m\u001b[0;34m:\u001b[0m\u001b[0;34m\u001b[0m\u001b[0;34m\u001b[0m\u001b[0m\n\u001b[1;32m   2994\u001b[0m                 \u001b[0;32mreturn\u001b[0m \u001b[0mself\u001b[0m\u001b[0;34m.\u001b[0m\u001b[0m_getitem_multilevel\u001b[0m\u001b[0;34m(\u001b[0m\u001b[0mkey\u001b[0m\u001b[0;34m)\u001b[0m\u001b[0;34m\u001b[0m\u001b[0;34m\u001b[0m\u001b[0m\n\u001b[0;32m-> 2995\u001b[0;31m             \u001b[0mindexer\u001b[0m \u001b[0;34m=\u001b[0m \u001b[0mself\u001b[0m\u001b[0;34m.\u001b[0m\u001b[0mcolumns\u001b[0m\u001b[0;34m.\u001b[0m\u001b[0mget_loc\u001b[0m\u001b[0;34m(\u001b[0m\u001b[0mkey\u001b[0m\u001b[0;34m)\u001b[0m\u001b[0;34m\u001b[0m\u001b[0;34m\u001b[0m\u001b[0m\n\u001b[0m\u001b[1;32m   2996\u001b[0m             \u001b[0;32mif\u001b[0m \u001b[0mis_integer\u001b[0m\u001b[0;34m(\u001b[0m\u001b[0mindexer\u001b[0m\u001b[0;34m)\u001b[0m\u001b[0;34m:\u001b[0m\u001b[0;34m\u001b[0m\u001b[0;34m\u001b[0m\u001b[0m\n\u001b[1;32m   2997\u001b[0m                 \u001b[0mindexer\u001b[0m \u001b[0;34m=\u001b[0m \u001b[0;34m[\u001b[0m\u001b[0mindexer\u001b[0m\u001b[0;34m]\u001b[0m\u001b[0;34m\u001b[0m\u001b[0;34m\u001b[0m\u001b[0m\n",
      "\u001b[0;32m/usr/local/lib/python3.7/site-packages/pandas/core/indexes/base.py\u001b[0m in \u001b[0;36mget_loc\u001b[0;34m(self, key, method, tolerance)\u001b[0m\n\u001b[1;32m   2897\u001b[0m                 \u001b[0;32mreturn\u001b[0m \u001b[0mself\u001b[0m\u001b[0;34m.\u001b[0m\u001b[0m_engine\u001b[0m\u001b[0;34m.\u001b[0m\u001b[0mget_loc\u001b[0m\u001b[0;34m(\u001b[0m\u001b[0mkey\u001b[0m\u001b[0;34m)\u001b[0m\u001b[0;34m\u001b[0m\u001b[0;34m\u001b[0m\u001b[0m\n\u001b[1;32m   2898\u001b[0m             \u001b[0;32mexcept\u001b[0m \u001b[0mKeyError\u001b[0m\u001b[0;34m:\u001b[0m\u001b[0;34m\u001b[0m\u001b[0;34m\u001b[0m\u001b[0m\n\u001b[0;32m-> 2899\u001b[0;31m                 \u001b[0;32mreturn\u001b[0m \u001b[0mself\u001b[0m\u001b[0;34m.\u001b[0m\u001b[0m_engine\u001b[0m\u001b[0;34m.\u001b[0m\u001b[0mget_loc\u001b[0m\u001b[0;34m(\u001b[0m\u001b[0mself\u001b[0m\u001b[0;34m.\u001b[0m\u001b[0m_maybe_cast_indexer\u001b[0m\u001b[0;34m(\u001b[0m\u001b[0mkey\u001b[0m\u001b[0;34m)\u001b[0m\u001b[0;34m)\u001b[0m\u001b[0;34m\u001b[0m\u001b[0;34m\u001b[0m\u001b[0m\n\u001b[0m\u001b[1;32m   2900\u001b[0m         \u001b[0mindexer\u001b[0m \u001b[0;34m=\u001b[0m \u001b[0mself\u001b[0m\u001b[0;34m.\u001b[0m\u001b[0mget_indexer\u001b[0m\u001b[0;34m(\u001b[0m\u001b[0;34m[\u001b[0m\u001b[0mkey\u001b[0m\u001b[0;34m]\u001b[0m\u001b[0;34m,\u001b[0m \u001b[0mmethod\u001b[0m\u001b[0;34m=\u001b[0m\u001b[0mmethod\u001b[0m\u001b[0;34m,\u001b[0m \u001b[0mtolerance\u001b[0m\u001b[0;34m=\u001b[0m\u001b[0mtolerance\u001b[0m\u001b[0;34m)\u001b[0m\u001b[0;34m\u001b[0m\u001b[0;34m\u001b[0m\u001b[0m\n\u001b[1;32m   2901\u001b[0m         \u001b[0;32mif\u001b[0m \u001b[0mindexer\u001b[0m\u001b[0;34m.\u001b[0m\u001b[0mndim\u001b[0m \u001b[0;34m>\u001b[0m \u001b[0;36m1\u001b[0m \u001b[0;32mor\u001b[0m \u001b[0mindexer\u001b[0m\u001b[0;34m.\u001b[0m\u001b[0msize\u001b[0m \u001b[0;34m>\u001b[0m \u001b[0;36m1\u001b[0m\u001b[0;34m:\u001b[0m\u001b[0;34m\u001b[0m\u001b[0;34m\u001b[0m\u001b[0m\n",
      "\u001b[0;32mpandas/_libs/index.pyx\u001b[0m in \u001b[0;36mpandas._libs.index.IndexEngine.get_loc\u001b[0;34m()\u001b[0m\n",
      "\u001b[0;32mpandas/_libs/index.pyx\u001b[0m in \u001b[0;36mpandas._libs.index.IndexEngine.get_loc\u001b[0;34m()\u001b[0m\n",
      "\u001b[0;32mpandas/_libs/hashtable_class_helper.pxi\u001b[0m in \u001b[0;36mpandas._libs.hashtable.PyObjectHashTable.get_item\u001b[0;34m()\u001b[0m\n",
      "\u001b[0;32mpandas/_libs/hashtable_class_helper.pxi\u001b[0m in \u001b[0;36mpandas._libs.hashtable.PyObjectHashTable.get_item\u001b[0;34m()\u001b[0m\n",
      "\u001b[0;31mKeyError\u001b[0m: 'Case Number'"
     ]
    }
   ],
   "source": [
    "data[data[\"Case Number\"].notnull() & data[\"Case Number 1\"].notnull() & data[\"Case Number 2\"].notnull() & data[\"Date\"].notnull()].head()"
   ]
  },
  {
   "cell_type": "markdown",
   "metadata": {},
   "source": [
    "We DROP `Case Number`, `Case Number 1`, `Case Number 2` and pass the colum list to make sure it's been properly deleted."
   ]
  },
  {
   "cell_type": "code",
   "execution_count": 250,
   "metadata": {
    "ExecuteTime": {
     "end_time": "2020-02-06T22:30:37.387345Z",
     "start_time": "2020-02-06T22:30:37.380829Z"
    }
   },
   "outputs": [],
   "source": [
    "dupl = ['Case Number', 'Case Number 1', 'Case Number 2',]\n",
    "data = data.drop(dupl, axis = 1)"
   ]
  },
  {
   "cell_type": "code",
   "execution_count": 251,
   "metadata": {
    "ExecuteTime": {
     "end_time": "2020-02-06T22:30:39.237686Z",
     "start_time": "2020-02-06T22:30:39.231967Z"
    }
   },
   "outputs": [
    {
     "data": {
      "text/plain": [
       "Index(['Year', 'Country', 'Name', 'Sex', 'Activity', 'Type', 'Injury', 'Fatal',\n",
       "       'Investigator or Source', 'Pdf', 'Href Formula', 'Href',\n",
       "       'Original Order'],\n",
       "      dtype='object')"
      ]
     },
     "execution_count": 251,
     "metadata": {},
     "output_type": "execute_result"
    }
   ],
   "source": [
    "data.columns"
   ]
  },
  {
   "cell_type": "markdown",
   "metadata": {},
   "source": [
    "From 'Href Formula', 'Href', 'Name', 'Investigator or Source', 'PDF' and 'Original Order' we won't be needing any information in this case, so we will go ahead and delete them."
   ]
  },
  {
   "cell_type": "code",
   "execution_count": 252,
   "metadata": {
    "ExecuteTime": {
     "end_time": "2020-02-06T22:30:40.372533Z",
     "start_time": "2020-02-06T22:30:40.366098Z"
    }
   },
   "outputs": [],
   "source": [
    "unnecs = ['Name','Href Formula', 'Href','Investigator or Source', 'Pdf', 'Original Order']\n",
    "data = data.drop(unnecs, axis = 1)"
   ]
  },
  {
   "cell_type": "markdown",
   "metadata": {},
   "source": [
    "And lets not forget to pass the colum list to make sure it's been properly deleted."
   ]
  },
  {
   "cell_type": "code",
   "execution_count": 253,
   "metadata": {
    "ExecuteTime": {
     "end_time": "2020-02-06T22:30:41.227806Z",
     "start_time": "2020-02-06T22:30:41.221839Z"
    }
   },
   "outputs": [
    {
     "data": {
      "text/plain": [
       "Index(['Year', 'Country', 'Sex', 'Activity', 'Type', 'Injury', 'Fatal'], dtype='object')"
      ]
     },
     "execution_count": 253,
     "metadata": {},
     "output_type": "execute_result"
    }
   ],
   "source": [
    "data.columns"
   ]
  },
  {
   "cell_type": "markdown",
   "metadata": {},
   "source": [
    "The following columns are being deleted because I've had not had time to finish them so basically they ugly so i'm droping them"
   ]
  },
  {
   "cell_type": "code",
   "execution_count": 248,
   "metadata": {
    "ExecuteTime": {
     "end_time": "2020-02-06T22:30:25.632018Z",
     "start_time": "2020-02-06T22:30:25.625023Z"
    }
   },
   "outputs": [],
   "source": [
    "data = data.drop(\"Date\", axis = 1)"
   ]
  },
  {
   "cell_type": "markdown",
   "metadata": {
    "ExecuteTime": {
     "end_time": "2020-02-04T19:41:19.361445Z",
     "start_time": "2020-02-04T19:40:47.682Z"
    }
   },
   "source": [
    "# Final DataSet and Extraction"
   ]
  },
  {
   "cell_type": "markdown",
   "metadata": {},
   "source": [
    "Looking at out final product"
   ]
  },
  {
   "cell_type": "code",
   "execution_count": 259,
   "metadata": {
    "ExecuteTime": {
     "end_time": "2020-02-06T22:31:52.127430Z",
     "start_time": "2020-02-06T22:31:52.109154Z"
    }
   },
   "outputs": [
    {
     "data": {
      "text/html": [
       "<div>\n",
       "<style scoped>\n",
       "    .dataframe tbody tr th:only-of-type {\n",
       "        vertical-align: middle;\n",
       "    }\n",
       "\n",
       "    .dataframe tbody tr th {\n",
       "        vertical-align: top;\n",
       "    }\n",
       "\n",
       "    .dataframe thead th {\n",
       "        text-align: right;\n",
       "    }\n",
       "</style>\n",
       "<table border=\"1\" class=\"dataframe\">\n",
       "  <thead>\n",
       "    <tr style=\"text-align: right;\">\n",
       "      <th></th>\n",
       "      <th>Year</th>\n",
       "      <th>Country</th>\n",
       "      <th>Sex</th>\n",
       "      <th>Activity</th>\n",
       "      <th>Type</th>\n",
       "      <th>Fatal</th>\n",
       "    </tr>\n",
       "  </thead>\n",
       "  <tbody>\n",
       "    <tr>\n",
       "      <th>0</th>\n",
       "      <td>2016</td>\n",
       "      <td>USA</td>\n",
       "      <td>M</td>\n",
       "      <td>Surfing</td>\n",
       "      <td>Unprovoked</td>\n",
       "      <td>N</td>\n",
       "    </tr>\n",
       "    <tr>\n",
       "      <th>1</th>\n",
       "      <td>2016</td>\n",
       "      <td>USA</td>\n",
       "      <td>M</td>\n",
       "      <td>Surfing</td>\n",
       "      <td>Unprovoked</td>\n",
       "      <td>N</td>\n",
       "    </tr>\n",
       "    <tr>\n",
       "      <th>2</th>\n",
       "      <td>2016</td>\n",
       "      <td>USA</td>\n",
       "      <td>M</td>\n",
       "      <td>Surfing</td>\n",
       "      <td>Unprovoked</td>\n",
       "      <td>N</td>\n",
       "    </tr>\n",
       "    <tr>\n",
       "      <th>3</th>\n",
       "      <td>2016</td>\n",
       "      <td>Australia</td>\n",
       "      <td>M</td>\n",
       "      <td>Surfing</td>\n",
       "      <td>Unprovoked</td>\n",
       "      <td>N</td>\n",
       "    </tr>\n",
       "    <tr>\n",
       "      <th>4</th>\n",
       "      <td>2016</td>\n",
       "      <td>Australia</td>\n",
       "      <td>M</td>\n",
       "      <td>Surfing</td>\n",
       "      <td>Unprovoked</td>\n",
       "      <td>N</td>\n",
       "    </tr>\n",
       "    <tr>\n",
       "      <th>...</th>\n",
       "      <td>...</td>\n",
       "      <td>...</td>\n",
       "      <td>...</td>\n",
       "      <td>...</td>\n",
       "      <td>...</td>\n",
       "      <td>...</td>\n",
       "    </tr>\n",
       "    <tr>\n",
       "      <th>5987</th>\n",
       "      <td>Before 1903</td>\n",
       "      <td>Australia</td>\n",
       "      <td>M</td>\n",
       "      <td>Diving</td>\n",
       "      <td>Unprovoked</td>\n",
       "      <td>Y</td>\n",
       "    </tr>\n",
       "    <tr>\n",
       "      <th>5988</th>\n",
       "      <td>Before 1903</td>\n",
       "      <td>Australia</td>\n",
       "      <td>M</td>\n",
       "      <td>Pearl diving</td>\n",
       "      <td>Unprovoked</td>\n",
       "      <td>Y</td>\n",
       "    </tr>\n",
       "    <tr>\n",
       "      <th>5989</th>\n",
       "      <td>1900-1905</td>\n",
       "      <td>USA</td>\n",
       "      <td>M</td>\n",
       "      <td>Swimming</td>\n",
       "      <td>Unprovoked</td>\n",
       "      <td>Y</td>\n",
       "    </tr>\n",
       "    <tr>\n",
       "      <th>5990</th>\n",
       "      <td>1883-1889</td>\n",
       "      <td>Panama</td>\n",
       "      <td>M</td>\n",
       "      <td>NaN</td>\n",
       "      <td>Unprovoked</td>\n",
       "      <td>Y</td>\n",
       "    </tr>\n",
       "    <tr>\n",
       "      <th>5991</th>\n",
       "      <td>1845-1853</td>\n",
       "      <td>Ceylon (Sri Lanka)</td>\n",
       "      <td>M</td>\n",
       "      <td>Swimming</td>\n",
       "      <td>Unprovoked</td>\n",
       "      <td>Y</td>\n",
       "    </tr>\n",
       "  </tbody>\n",
       "</table>\n",
       "<p>5937 rows × 6 columns</p>\n",
       "</div>"
      ],
      "text/plain": [
       "             Year             Country Sex      Activity        Type Fatal\n",
       "0            2016                 USA   M       Surfing  Unprovoked     N\n",
       "1            2016                 USA   M       Surfing  Unprovoked     N\n",
       "2            2016                 USA   M       Surfing  Unprovoked     N\n",
       "3            2016           Australia   M       Surfing  Unprovoked     N\n",
       "4            2016           Australia   M       Surfing  Unprovoked     N\n",
       "...           ...                 ...  ..           ...         ...   ...\n",
       "5987  Before 1903           Australia   M        Diving  Unprovoked     Y\n",
       "5988  Before 1903           Australia   M  Pearl diving  Unprovoked     Y\n",
       "5989    1900-1905                 USA   M      Swimming  Unprovoked     Y\n",
       "5990    1883-1889              Panama   M           NaN  Unprovoked     Y\n",
       "5991    1845-1853  Ceylon (Sri Lanka)   M      Swimming  Unprovoked     Y\n",
       "\n",
       "[5937 rows x 6 columns]"
      ]
     },
     "execution_count": 259,
     "metadata": {},
     "output_type": "execute_result"
    }
   ],
   "source": [
    "data"
   ]
  },
  {
   "cell_type": "markdown",
   "metadata": {},
   "source": [
    "Checking the NULLS of our final table"
   ]
  },
  {
   "cell_type": "code",
   "execution_count": 263,
   "metadata": {
    "ExecuteTime": {
     "end_time": "2020-02-06T22:35:23.581788Z",
     "start_time": "2020-02-06T22:35:23.570462Z"
    }
   },
   "outputs": [
    {
     "data": {
      "text/plain": [
       "Year        0.000000\n",
       "Country     0.000000\n",
       "Sex         0.000000\n",
       "Activity    8.741789\n",
       "Type        0.000000\n",
       "Fatal       0.000000\n",
       "dtype: float64"
      ]
     },
     "execution_count": 263,
     "metadata": {},
     "output_type": "execute_result"
    }
   ],
   "source": [
    "data.isnull().sum()* 100 / len(data)"
   ]
  },
  {
   "cell_type": "markdown",
   "metadata": {
    "ExecuteTime": {
     "end_time": "2020-02-06T22:33:27.899650Z",
     "start_time": "2020-02-06T22:33:27.892987Z"
    }
   },
   "source": [
    "Last size check of the table"
   ]
  },
  {
   "cell_type": "code",
   "execution_count": 264,
   "metadata": {
    "ExecuteTime": {
     "end_time": "2020-02-06T22:35:24.993261Z",
     "start_time": "2020-02-06T22:35:24.987406Z"
    }
   },
   "outputs": [
    {
     "data": {
      "text/plain": [
       "(5937, 6)"
      ]
     },
     "execution_count": 264,
     "metadata": {},
     "output_type": "execute_result"
    }
   ],
   "source": [
    "data.shape"
   ]
  },
  {
   "cell_type": "markdown",
   "metadata": {},
   "source": [
    "Document creation"
   ]
  },
  {
   "cell_type": "code",
   "execution_count": 266,
   "metadata": {
    "ExecuteTime": {
     "end_time": "2020-02-06T22:36:01.472785Z",
     "start_time": "2020-02-06T22:36:01.429542Z"
    }
   },
   "outputs": [],
   "source": [
    "data.to_csv(\"./shark_attack.csv\", index = False)"
   ]
  },
  {
   "cell_type": "markdown",
   "metadata": {},
   "source": [
    "***AYUDA***"
   ]
  }
 ],
 "metadata": {
  "kernelspec": {
   "display_name": "Python 3",
   "language": "python",
   "name": "python3"
  },
  "language_info": {
   "codemirror_mode": {
    "name": "ipython",
    "version": 3
   },
   "file_extension": ".py",
   "mimetype": "text/x-python",
   "name": "python",
   "nbconvert_exporter": "python",
   "pygments_lexer": "ipython3",
   "version": "3.7.5"
  }
 },
 "nbformat": 4,
 "nbformat_minor": 2
}
